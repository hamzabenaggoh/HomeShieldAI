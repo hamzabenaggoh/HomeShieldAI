{
 "cells": [
  {
   "cell_type": "markdown",
   "metadata": {},
   "source": [
    "# MTH-IDS: A Multi-Tiered Hybrid Intrusion Detection System for Internet of Vehicles\n",
    "This is the code for the paper entitled \"[**MTH-IDS: A Multi-Tiered Hybrid Intrusion Detection System for Internet of Vehicles**](https://arxiv.org/pdf/2105.13289.pdf)\" accepted in IEEE Internet of Things Journal.  \n",
    "Authors: Li Yang (liyanghart@gmail.com), Abdallah Moubayed, and Abdallah Shami  \n",
    "Organization: The Optimized Computing and Communications (OC2) Lab, ECE Department, Western University\n",
    "\n",
    "If you find this repository useful in your research, please cite:  \n",
    "L. Yang, A. Moubayed, and A. Shami, “MTH-IDS: A Multi-Tiered Hybrid Intrusion Detection System for Internet of Vehicles,” IEEE Internet of Things Journal, vol. 9, no. 1, pp. 616-632, Jan.1, 2022."
   ]
  },
  {
   "cell_type": "markdown",
   "metadata": {},
   "source": [
    "## Import libraries"
   ]
  },
  {
   "cell_type": "code",
   "execution_count": 384,
   "metadata": {},
   "outputs": [],
   "source": [
    "import warnings\n",
    "warnings.filterwarnings(\"ignore\")"
   ]
  },
  {
   "cell_type": "code",
   "execution_count": 385,
   "metadata": {},
   "outputs": [
    {
     "name": "stdout",
     "output_type": "stream",
     "text": [
      "sklearn version: 1.5.1\n"
     ]
    }
   ],
   "source": [
    "import numpy as np\n",
    "import pandas as pd\n",
    "import seaborn as sns\n",
    "import matplotlib.pyplot as plt\n",
    "from sklearn.preprocessing import LabelEncoder, StandardScaler\n",
    "from sklearn.model_selection import train_test_split\n",
    "from sklearn.metrics import classification_report,confusion_matrix,accuracy_score,precision_recall_fscore_support\n",
    "from sklearn.metrics import f1_score,roc_auc_score\n",
    "from sklearn.ensemble import RandomForestClassifier,ExtraTreesClassifier\n",
    "from sklearn.tree import DecisionTreeClassifier\n",
    "import xgboost as xgb\n",
    "from xgboost import plot_importance\n",
    "import joblib\n",
    "import sklearn\n",
    "print(\"sklearn version:\", sklearn.__version__)\n",
    "\n"
   ]
  },
  {
   "cell_type": "markdown",
   "metadata": {},
   "source": [
    "## Read the sampled CICIDS2017 dataset\n",
    "The CICIDS2017 dataset is publicly available at: https://www.unb.ca/cic/datasets/ids-2017.html  \n",
    "Due to the large size of this dataset, the sampled subsets of CICIDS2017 is used. The subsets are in the \"data\" folder.  \n",
    "If you want to use this code on other datasets (e.g., CAN-intrusion dataset), just change the dataset name and follow the same steps. The models in this code are generic models that can be used in any intrusion detection/network traffic datasets."
   ]
  },
  {
   "cell_type": "code",
   "execution_count": 386,
   "metadata": {},
   "outputs": [],
   "source": [
    "#Read dataset\n",
    "df = pd.read_csv('./data/CICIDS2017_sample.csv') \n",
    "# The results in this code is based on the original CICIDS2017 dataset. Please go to cell [21] if you work on the sampled dataset. "
   ]
  },
  {
   "cell_type": "code",
   "execution_count": 387,
   "metadata": {},
   "outputs": [
    {
     "data": {
      "text/plain": [
       "['./features/training_features.joblib']"
      ]
     },
     "execution_count": 387,
     "metadata": {},
     "output_type": "execute_result"
    }
   ],
   "source": [
    "df\n",
    "\n",
    "# Save the training features\n",
    "training_features = df.columns.tolist()\n",
    "joblib.dump(training_features, './features/training_features.joblib')\n"
   ]
  },
  {
   "cell_type": "code",
   "execution_count": 388,
   "metadata": {},
   "outputs": [
    {
     "data": {
      "text/plain": [
       "Label\n",
       "BENIGN          22731\n",
       "DoS             19035\n",
       "PortScan         7946\n",
       "BruteForce       2767\n",
       "WebAttack        2180\n",
       "Bot              1966\n",
       "Infiltration       36\n",
       "Name: count, dtype: int64"
      ]
     },
     "execution_count": 388,
     "metadata": {},
     "output_type": "execute_result"
    }
   ],
   "source": [
    "df.Label.value_counts()"
   ]
  },
  {
   "cell_type": "markdown",
   "metadata": {},
   "source": [
    "### Preprocessing (normalization and padding values)"
   ]
  },
  {
   "cell_type": "code",
   "execution_count": 389,
   "metadata": {},
   "outputs": [
    {
     "data": {
      "text/html": [
       "<div>\n",
       "<style scoped>\n",
       "    .dataframe tbody tr th:only-of-type {\n",
       "        vertical-align: middle;\n",
       "    }\n",
       "\n",
       "    .dataframe tbody tr th {\n",
       "        vertical-align: top;\n",
       "    }\n",
       "\n",
       "    .dataframe thead th {\n",
       "        text-align: right;\n",
       "    }\n",
       "</style>\n",
       "<table border=\"1\" class=\"dataframe\">\n",
       "  <thead>\n",
       "    <tr style=\"text-align: right;\">\n",
       "      <th></th>\n",
       "      <th>Flow Duration</th>\n",
       "      <th>Total Fwd Packets</th>\n",
       "      <th>Total Backward Packets</th>\n",
       "      <th>Total Length of Fwd Packets</th>\n",
       "      <th>Total Length of Bwd Packets</th>\n",
       "      <th>Fwd Packet Length Max</th>\n",
       "      <th>Fwd Packet Length Min</th>\n",
       "      <th>Fwd Packet Length Mean</th>\n",
       "      <th>Fwd Packet Length Std</th>\n",
       "      <th>Bwd Packet Length Max</th>\n",
       "      <th>...</th>\n",
       "      <th>min_seg_size_forward</th>\n",
       "      <th>Active Mean</th>\n",
       "      <th>Active Std</th>\n",
       "      <th>Active Max</th>\n",
       "      <th>Active Min</th>\n",
       "      <th>Idle Mean</th>\n",
       "      <th>Idle Std</th>\n",
       "      <th>Idle Max</th>\n",
       "      <th>Idle Min</th>\n",
       "      <th>Label</th>\n",
       "    </tr>\n",
       "  </thead>\n",
       "  <tbody>\n",
       "    <tr>\n",
       "      <th>0</th>\n",
       "      <td>-0.528474</td>\n",
       "      <td>-0.068427</td>\n",
       "      <td>-0.081807</td>\n",
       "      <td>-0.032573</td>\n",
       "      <td>-0.048344</td>\n",
       "      <td>-0.202328</td>\n",
       "      <td>-0.085799</td>\n",
       "      <td>-0.141626</td>\n",
       "      <td>-0.176450</td>\n",
       "      <td>-0.559724</td>\n",
       "      <td>...</td>\n",
       "      <td>-1.023422</td>\n",
       "      <td>-0.10989</td>\n",
       "      <td>-0.081787</td>\n",
       "      <td>-0.128621</td>\n",
       "      <td>-0.094861</td>\n",
       "      <td>-0.458733</td>\n",
       "      <td>-0.137652</td>\n",
       "      <td>-0.466444</td>\n",
       "      <td>-0.442061</td>\n",
       "      <td>BENIGN</td>\n",
       "    </tr>\n",
       "    <tr>\n",
       "      <th>1</th>\n",
       "      <td>-0.524597</td>\n",
       "      <td>0.704885</td>\n",
       "      <td>0.850348</td>\n",
       "      <td>0.027749</td>\n",
       "      <td>0.920418</td>\n",
       "      <td>0.603280</td>\n",
       "      <td>-0.211176</td>\n",
       "      <td>-0.082435</td>\n",
       "      <td>0.240598</td>\n",
       "      <td>1.006311</td>\n",
       "      <td>...</td>\n",
       "      <td>-1.023422</td>\n",
       "      <td>-0.10989</td>\n",
       "      <td>-0.081787</td>\n",
       "      <td>-0.128621</td>\n",
       "      <td>-0.094861</td>\n",
       "      <td>-0.458733</td>\n",
       "      <td>-0.137652</td>\n",
       "      <td>-0.466444</td>\n",
       "      <td>-0.442061</td>\n",
       "      <td>BENIGN</td>\n",
       "    </tr>\n",
       "    <tr>\n",
       "      <th>2</th>\n",
       "      <td>-0.525237</td>\n",
       "      <td>0.300654</td>\n",
       "      <td>0.339166</td>\n",
       "      <td>0.020443</td>\n",
       "      <td>0.363715</td>\n",
       "      <td>0.603280</td>\n",
       "      <td>-0.211176</td>\n",
       "      <td>0.044065</td>\n",
       "      <td>0.439623</td>\n",
       "      <td>0.484299</td>\n",
       "      <td>...</td>\n",
       "      <td>0.742122</td>\n",
       "      <td>-0.10989</td>\n",
       "      <td>-0.081787</td>\n",
       "      <td>-0.128621</td>\n",
       "      <td>-0.094861</td>\n",
       "      <td>-0.458733</td>\n",
       "      <td>-0.137652</td>\n",
       "      <td>-0.466444</td>\n",
       "      <td>-0.442061</td>\n",
       "      <td>BENIGN</td>\n",
       "    </tr>\n",
       "    <tr>\n",
       "      <th>3</th>\n",
       "      <td>-0.524565</td>\n",
       "      <td>0.652159</td>\n",
       "      <td>0.745105</td>\n",
       "      <td>0.026625</td>\n",
       "      <td>0.933542</td>\n",
       "      <td>0.603280</td>\n",
       "      <td>-0.211176</td>\n",
       "      <td>-0.074097</td>\n",
       "      <td>0.257380</td>\n",
       "      <td>1.006311</td>\n",
       "      <td>...</td>\n",
       "      <td>-1.023422</td>\n",
       "      <td>-0.10989</td>\n",
       "      <td>-0.081787</td>\n",
       "      <td>-0.128621</td>\n",
       "      <td>-0.094861</td>\n",
       "      <td>-0.458733</td>\n",
       "      <td>-0.137652</td>\n",
       "      <td>-0.466444</td>\n",
       "      <td>-0.442061</td>\n",
       "      <td>BENIGN</td>\n",
       "    </tr>\n",
       "    <tr>\n",
       "      <th>4</th>\n",
       "      <td>-0.524560</td>\n",
       "      <td>0.757610</td>\n",
       "      <td>0.805244</td>\n",
       "      <td>0.028030</td>\n",
       "      <td>0.960045</td>\n",
       "      <td>0.603280</td>\n",
       "      <td>-0.211176</td>\n",
       "      <td>-0.091862</td>\n",
       "      <td>0.225736</td>\n",
       "      <td>1.006311</td>\n",
       "      <td>...</td>\n",
       "      <td>-1.023422</td>\n",
       "      <td>-0.10989</td>\n",
       "      <td>-0.081787</td>\n",
       "      <td>-0.128621</td>\n",
       "      <td>-0.094861</td>\n",
       "      <td>-0.458733</td>\n",
       "      <td>-0.137652</td>\n",
       "      <td>-0.466444</td>\n",
       "      <td>-0.442061</td>\n",
       "      <td>BENIGN</td>\n",
       "    </tr>\n",
       "  </tbody>\n",
       "</table>\n",
       "<p>5 rows × 78 columns</p>\n",
       "</div>"
      ],
      "text/plain": [
       "   Flow Duration  Total Fwd Packets  Total Backward Packets  \\\n",
       "0      -0.528474          -0.068427               -0.081807   \n",
       "1      -0.524597           0.704885                0.850348   \n",
       "2      -0.525237           0.300654                0.339166   \n",
       "3      -0.524565           0.652159                0.745105   \n",
       "4      -0.524560           0.757610                0.805244   \n",
       "\n",
       "   Total Length of Fwd Packets  Total Length of Bwd Packets  \\\n",
       "0                    -0.032573                    -0.048344   \n",
       "1                     0.027749                     0.920418   \n",
       "2                     0.020443                     0.363715   \n",
       "3                     0.026625                     0.933542   \n",
       "4                     0.028030                     0.960045   \n",
       "\n",
       "   Fwd Packet Length Max  Fwd Packet Length Min  Fwd Packet Length Mean  \\\n",
       "0              -0.202328              -0.085799               -0.141626   \n",
       "1               0.603280              -0.211176               -0.082435   \n",
       "2               0.603280              -0.211176                0.044065   \n",
       "3               0.603280              -0.211176               -0.074097   \n",
       "4               0.603280              -0.211176               -0.091862   \n",
       "\n",
       "   Fwd Packet Length Std  Bwd Packet Length Max  ...  min_seg_size_forward  \\\n",
       "0              -0.176450              -0.559724  ...             -1.023422   \n",
       "1               0.240598               1.006311  ...             -1.023422   \n",
       "2               0.439623               0.484299  ...              0.742122   \n",
       "3               0.257380               1.006311  ...             -1.023422   \n",
       "4               0.225736               1.006311  ...             -1.023422   \n",
       "\n",
       "   Active Mean  Active Std  Active Max  Active Min  Idle Mean  Idle Std  \\\n",
       "0     -0.10989   -0.081787   -0.128621   -0.094861  -0.458733 -0.137652   \n",
       "1     -0.10989   -0.081787   -0.128621   -0.094861  -0.458733 -0.137652   \n",
       "2     -0.10989   -0.081787   -0.128621   -0.094861  -0.458733 -0.137652   \n",
       "3     -0.10989   -0.081787   -0.128621   -0.094861  -0.458733 -0.137652   \n",
       "4     -0.10989   -0.081787   -0.128621   -0.094861  -0.458733 -0.137652   \n",
       "\n",
       "   Idle Max  Idle Min   Label  \n",
       "0 -0.466444 -0.442061  BENIGN  \n",
       "1 -0.466444 -0.442061  BENIGN  \n",
       "2 -0.466444 -0.442061  BENIGN  \n",
       "3 -0.466444 -0.442061  BENIGN  \n",
       "4 -0.466444 -0.442061  BENIGN  \n",
       "\n",
       "[5 rows x 78 columns]"
      ]
     },
     "execution_count": 389,
     "metadata": {},
     "output_type": "execute_result"
    }
   ],
   "source": [
    "# Z-score normalization\n",
    "features = df.dtypes[df.dtypes != 'object'].index\n",
    "# df[features] = df[features].apply(\n",
    "#     lambda x: (x - x.mean()) / (x.std()))\n",
    "\n",
    "\n",
    "\n",
    "df = df.replace([float('inf'), float('-inf')], 0) \n",
    "scaler = StandardScaler()\n",
    "df[features] = scaler.fit_transform(df[features])\n",
    "\n",
    "joblib.dump(scaler, './scalers/scaler.joblib')\n",
    "\n",
    "# # Fill empty values by 0          TODO: Trying out this before scaling \n",
    "df = df.fillna(0)\n",
    "\n",
    "\n",
    "df.head()"
   ]
  },
  {
   "cell_type": "markdown",
   "metadata": {},
   "source": [
    "### Data sampling\n",
    "Due to the space limit of GitHub files and the large size of network traffic data, we sample a small-sized subset for model learning using **k-means cluster sampling**"
   ]
  },
  {
   "cell_type": "code",
   "execution_count": 390,
   "metadata": {},
   "outputs": [],
   "source": [
    "labelencoder = LabelEncoder()\n",
    "df.iloc[:, -1] = labelencoder.fit_transform(df.iloc[:, -1])"
   ]
  },
  {
   "cell_type": "code",
   "execution_count": 391,
   "metadata": {},
   "outputs": [
    {
     "data": {
      "text/plain": [
       "Label\n",
       "0    22731\n",
       "3    19035\n",
       "5     7946\n",
       "2     2767\n",
       "6     2180\n",
       "1     1966\n",
       "4       36\n",
       "Name: count, dtype: int64"
      ]
     },
     "execution_count": 391,
     "metadata": {},
     "output_type": "execute_result"
    }
   ],
   "source": [
    "df.Label.value_counts()"
   ]
  },
  {
   "cell_type": "code",
   "execution_count": 392,
   "metadata": {},
   "outputs": [],
   "source": [
    "# retain the minority class instances and sample the majority class instances\n",
    "df_minor = df[(df['Label']==6)|(df['Label']==1)|(df['Label']==4)]\n",
    "df_major = df.drop(df_minor.index)"
   ]
  },
  {
   "cell_type": "code",
   "execution_count": 393,
   "metadata": {},
   "outputs": [],
   "source": [
    "X = df_major.drop(['Label'],axis=1) \n",
    "y = df_major.iloc[:, -1].values.reshape(-1,1)\n",
    "y=np.ravel(y)"
   ]
  },
  {
   "cell_type": "code",
   "execution_count": 394,
   "metadata": {
    "scrolled": true
   },
   "outputs": [],
   "source": [
    "# use k-means to cluster the data samples and select a proportion of data from each cluster\n",
    "from sklearn.cluster import MiniBatchKMeans\n",
    "kmeans = MiniBatchKMeans(n_clusters=1000, random_state=0).fit(X)"
   ]
  },
  {
   "cell_type": "code",
   "execution_count": 395,
   "metadata": {},
   "outputs": [],
   "source": [
    "klabel=kmeans.labels_\n",
    "df_major['klabel']=klabel"
   ]
  },
  {
   "cell_type": "code",
   "execution_count": 396,
   "metadata": {
    "scrolled": true
   },
   "outputs": [
    {
     "data": {
      "text/plain": [
       "klabel\n",
       "802    522\n",
       "915    481\n",
       "308    348\n",
       "319    337\n",
       "715    334\n",
       "      ... \n",
       "212      2\n",
       "712      1\n",
       "804      1\n",
       "398      1\n",
       "743      1\n",
       "Name: count, Length: 974, dtype: int64"
      ]
     },
     "execution_count": 396,
     "metadata": {},
     "output_type": "execute_result"
    }
   ],
   "source": [
    "df_major['klabel'].value_counts()"
   ]
  },
  {
   "cell_type": "code",
   "execution_count": 397,
   "metadata": {},
   "outputs": [],
   "source": [
    "cols = list(df_major)\n",
    "cols.insert(78, cols.pop(cols.index('Label')))\n",
    "df_major = df_major.loc[:, cols]"
   ]
  },
  {
   "cell_type": "code",
   "execution_count": 398,
   "metadata": {
    "scrolled": true
   },
   "outputs": [
    {
     "data": {
      "text/html": [
       "<div>\n",
       "<style scoped>\n",
       "    .dataframe tbody tr th:only-of-type {\n",
       "        vertical-align: middle;\n",
       "    }\n",
       "\n",
       "    .dataframe tbody tr th {\n",
       "        vertical-align: top;\n",
       "    }\n",
       "\n",
       "    .dataframe thead th {\n",
       "        text-align: right;\n",
       "    }\n",
       "</style>\n",
       "<table border=\"1\" class=\"dataframe\">\n",
       "  <thead>\n",
       "    <tr style=\"text-align: right;\">\n",
       "      <th></th>\n",
       "      <th>Flow Duration</th>\n",
       "      <th>Total Fwd Packets</th>\n",
       "      <th>Total Backward Packets</th>\n",
       "      <th>Total Length of Fwd Packets</th>\n",
       "      <th>Total Length of Bwd Packets</th>\n",
       "      <th>Fwd Packet Length Max</th>\n",
       "      <th>Fwd Packet Length Min</th>\n",
       "      <th>Fwd Packet Length Mean</th>\n",
       "      <th>Fwd Packet Length Std</th>\n",
       "      <th>Bwd Packet Length Max</th>\n",
       "      <th>...</th>\n",
       "      <th>Active Mean</th>\n",
       "      <th>Active Std</th>\n",
       "      <th>Active Max</th>\n",
       "      <th>Active Min</th>\n",
       "      <th>Idle Mean</th>\n",
       "      <th>Idle Std</th>\n",
       "      <th>Idle Max</th>\n",
       "      <th>Idle Min</th>\n",
       "      <th>klabel</th>\n",
       "      <th>Label</th>\n",
       "    </tr>\n",
       "  </thead>\n",
       "  <tbody>\n",
       "    <tr>\n",
       "      <th>0</th>\n",
       "      <td>-0.528474</td>\n",
       "      <td>-0.068427</td>\n",
       "      <td>-0.081807</td>\n",
       "      <td>-0.032573</td>\n",
       "      <td>-0.048344</td>\n",
       "      <td>-0.202328</td>\n",
       "      <td>-0.085799</td>\n",
       "      <td>-0.141626</td>\n",
       "      <td>-0.176450</td>\n",
       "      <td>-0.559724</td>\n",
       "      <td>...</td>\n",
       "      <td>-0.109890</td>\n",
       "      <td>-0.081787</td>\n",
       "      <td>-0.128621</td>\n",
       "      <td>-0.094861</td>\n",
       "      <td>-0.458733</td>\n",
       "      <td>-0.137652</td>\n",
       "      <td>-0.466444</td>\n",
       "      <td>-0.442061</td>\n",
       "      <td>393</td>\n",
       "      <td>0</td>\n",
       "    </tr>\n",
       "    <tr>\n",
       "      <th>1</th>\n",
       "      <td>-0.524597</td>\n",
       "      <td>0.704885</td>\n",
       "      <td>0.850348</td>\n",
       "      <td>0.027749</td>\n",
       "      <td>0.920418</td>\n",
       "      <td>0.603280</td>\n",
       "      <td>-0.211176</td>\n",
       "      <td>-0.082435</td>\n",
       "      <td>0.240598</td>\n",
       "      <td>1.006311</td>\n",
       "      <td>...</td>\n",
       "      <td>-0.109890</td>\n",
       "      <td>-0.081787</td>\n",
       "      <td>-0.128621</td>\n",
       "      <td>-0.094861</td>\n",
       "      <td>-0.458733</td>\n",
       "      <td>-0.137652</td>\n",
       "      <td>-0.466444</td>\n",
       "      <td>-0.442061</td>\n",
       "      <td>303</td>\n",
       "      <td>0</td>\n",
       "    </tr>\n",
       "    <tr>\n",
       "      <th>2</th>\n",
       "      <td>-0.525237</td>\n",
       "      <td>0.300654</td>\n",
       "      <td>0.339166</td>\n",
       "      <td>0.020443</td>\n",
       "      <td>0.363715</td>\n",
       "      <td>0.603280</td>\n",
       "      <td>-0.211176</td>\n",
       "      <td>0.044065</td>\n",
       "      <td>0.439623</td>\n",
       "      <td>0.484299</td>\n",
       "      <td>...</td>\n",
       "      <td>-0.109890</td>\n",
       "      <td>-0.081787</td>\n",
       "      <td>-0.128621</td>\n",
       "      <td>-0.094861</td>\n",
       "      <td>-0.458733</td>\n",
       "      <td>-0.137652</td>\n",
       "      <td>-0.466444</td>\n",
       "      <td>-0.442061</td>\n",
       "      <td>457</td>\n",
       "      <td>0</td>\n",
       "    </tr>\n",
       "    <tr>\n",
       "      <th>3</th>\n",
       "      <td>-0.524565</td>\n",
       "      <td>0.652159</td>\n",
       "      <td>0.745105</td>\n",
       "      <td>0.026625</td>\n",
       "      <td>0.933542</td>\n",
       "      <td>0.603280</td>\n",
       "      <td>-0.211176</td>\n",
       "      <td>-0.074097</td>\n",
       "      <td>0.257380</td>\n",
       "      <td>1.006311</td>\n",
       "      <td>...</td>\n",
       "      <td>-0.109890</td>\n",
       "      <td>-0.081787</td>\n",
       "      <td>-0.128621</td>\n",
       "      <td>-0.094861</td>\n",
       "      <td>-0.458733</td>\n",
       "      <td>-0.137652</td>\n",
       "      <td>-0.466444</td>\n",
       "      <td>-0.442061</td>\n",
       "      <td>303</td>\n",
       "      <td>0</td>\n",
       "    </tr>\n",
       "    <tr>\n",
       "      <th>4</th>\n",
       "      <td>-0.524560</td>\n",
       "      <td>0.757610</td>\n",
       "      <td>0.805244</td>\n",
       "      <td>0.028030</td>\n",
       "      <td>0.960045</td>\n",
       "      <td>0.603280</td>\n",
       "      <td>-0.211176</td>\n",
       "      <td>-0.091862</td>\n",
       "      <td>0.225736</td>\n",
       "      <td>1.006311</td>\n",
       "      <td>...</td>\n",
       "      <td>-0.109890</td>\n",
       "      <td>-0.081787</td>\n",
       "      <td>-0.128621</td>\n",
       "      <td>-0.094861</td>\n",
       "      <td>-0.458733</td>\n",
       "      <td>-0.137652</td>\n",
       "      <td>-0.466444</td>\n",
       "      <td>-0.442061</td>\n",
       "      <td>303</td>\n",
       "      <td>0</td>\n",
       "    </tr>\n",
       "    <tr>\n",
       "      <th>...</th>\n",
       "      <td>...</td>\n",
       "      <td>...</td>\n",
       "      <td>...</td>\n",
       "      <td>...</td>\n",
       "      <td>...</td>\n",
       "      <td>...</td>\n",
       "      <td>...</td>\n",
       "      <td>...</td>\n",
       "      <td>...</td>\n",
       "      <td>...</td>\n",
       "      <td>...</td>\n",
       "      <td>...</td>\n",
       "      <td>...</td>\n",
       "      <td>...</td>\n",
       "      <td>...</td>\n",
       "      <td>...</td>\n",
       "      <td>...</td>\n",
       "      <td>...</td>\n",
       "      <td>...</td>\n",
       "      <td>...</td>\n",
       "      <td>...</td>\n",
       "    </tr>\n",
       "    <tr>\n",
       "      <th>56656</th>\n",
       "      <td>-0.528468</td>\n",
       "      <td>-0.068427</td>\n",
       "      <td>-0.051737</td>\n",
       "      <td>-0.031309</td>\n",
       "      <td>-0.046220</td>\n",
       "      <td>-0.200833</td>\n",
       "      <td>0.457502</td>\n",
       "      <td>-0.064078</td>\n",
       "      <td>-0.255106</td>\n",
       "      <td>-0.517906</td>\n",
       "      <td>...</td>\n",
       "      <td>-0.109890</td>\n",
       "      <td>-0.081787</td>\n",
       "      <td>-0.128621</td>\n",
       "      <td>-0.094861</td>\n",
       "      <td>-0.458733</td>\n",
       "      <td>-0.137652</td>\n",
       "      <td>-0.466444</td>\n",
       "      <td>-0.442061</td>\n",
       "      <td>204</td>\n",
       "      <td>0</td>\n",
       "    </tr>\n",
       "    <tr>\n",
       "      <th>56657</th>\n",
       "      <td>-0.524845</td>\n",
       "      <td>-0.068427</td>\n",
       "      <td>-0.051737</td>\n",
       "      <td>-0.029904</td>\n",
       "      <td>-0.043932</td>\n",
       "      <td>-0.178414</td>\n",
       "      <td>0.770945</td>\n",
       "      <td>0.022086</td>\n",
       "      <td>-0.255106</td>\n",
       "      <td>-0.472842</td>\n",
       "      <td>...</td>\n",
       "      <td>-0.109890</td>\n",
       "      <td>-0.081787</td>\n",
       "      <td>-0.128621</td>\n",
       "      <td>-0.094861</td>\n",
       "      <td>-0.458733</td>\n",
       "      <td>-0.137652</td>\n",
       "      <td>-0.466444</td>\n",
       "      <td>-0.442061</td>\n",
       "      <td>638</td>\n",
       "      <td>0</td>\n",
       "    </tr>\n",
       "    <tr>\n",
       "      <th>56658</th>\n",
       "      <td>-0.215113</td>\n",
       "      <td>-0.015701</td>\n",
       "      <td>-0.021668</td>\n",
       "      <td>-0.013231</td>\n",
       "      <td>-0.016083</td>\n",
       "      <td>0.423924</td>\n",
       "      <td>-0.211176</td>\n",
       "      <td>0.269091</td>\n",
       "      <td>0.640334</td>\n",
       "      <td>0.711057</td>\n",
       "      <td>...</td>\n",
       "      <td>-0.108683</td>\n",
       "      <td>-0.081787</td>\n",
       "      <td>-0.127670</td>\n",
       "      <td>-0.093555</td>\n",
       "      <td>-0.256388</td>\n",
       "      <td>-0.137652</td>\n",
       "      <td>-0.269451</td>\n",
       "      <td>-0.238254</td>\n",
       "      <td>547</td>\n",
       "      <td>3</td>\n",
       "    </tr>\n",
       "    <tr>\n",
       "      <th>56659</th>\n",
       "      <td>-0.215113</td>\n",
       "      <td>0.037025</td>\n",
       "      <td>0.008402</td>\n",
       "      <td>-0.014823</td>\n",
       "      <td>0.058110</td>\n",
       "      <td>0.373106</td>\n",
       "      <td>-0.211176</td>\n",
       "      <td>0.050808</td>\n",
       "      <td>0.399315</td>\n",
       "      <td>1.528323</td>\n",
       "      <td>...</td>\n",
       "      <td>-0.108677</td>\n",
       "      <td>-0.081787</td>\n",
       "      <td>-0.127665</td>\n",
       "      <td>-0.093549</td>\n",
       "      <td>-0.256404</td>\n",
       "      <td>-0.137652</td>\n",
       "      <td>-0.269466</td>\n",
       "      <td>-0.238270</td>\n",
       "      <td>30</td>\n",
       "      <td>3</td>\n",
       "    </tr>\n",
       "    <tr>\n",
       "      <th>56660</th>\n",
       "      <td>-0.214991</td>\n",
       "      <td>0.037025</td>\n",
       "      <td>-0.006633</td>\n",
       "      <td>-0.019038</td>\n",
       "      <td>0.058110</td>\n",
       "      <td>0.238589</td>\n",
       "      <td>-0.211176</td>\n",
       "      <td>-0.013815</td>\n",
       "      <td>0.257733</td>\n",
       "      <td>3.111663</td>\n",
       "      <td>...</td>\n",
       "      <td>-0.108684</td>\n",
       "      <td>-0.081787</td>\n",
       "      <td>-0.127671</td>\n",
       "      <td>-0.093556</td>\n",
       "      <td>-0.256277</td>\n",
       "      <td>-0.137652</td>\n",
       "      <td>-0.269343</td>\n",
       "      <td>-0.238142</td>\n",
       "      <td>434</td>\n",
       "      <td>3</td>\n",
       "    </tr>\n",
       "  </tbody>\n",
       "</table>\n",
       "<p>52479 rows × 79 columns</p>\n",
       "</div>"
      ],
      "text/plain": [
       "       Flow Duration  Total Fwd Packets  Total Backward Packets  \\\n",
       "0          -0.528474          -0.068427               -0.081807   \n",
       "1          -0.524597           0.704885                0.850348   \n",
       "2          -0.525237           0.300654                0.339166   \n",
       "3          -0.524565           0.652159                0.745105   \n",
       "4          -0.524560           0.757610                0.805244   \n",
       "...              ...                ...                     ...   \n",
       "56656      -0.528468          -0.068427               -0.051737   \n",
       "56657      -0.524845          -0.068427               -0.051737   \n",
       "56658      -0.215113          -0.015701               -0.021668   \n",
       "56659      -0.215113           0.037025                0.008402   \n",
       "56660      -0.214991           0.037025               -0.006633   \n",
       "\n",
       "       Total Length of Fwd Packets  Total Length of Bwd Packets  \\\n",
       "0                        -0.032573                    -0.048344   \n",
       "1                         0.027749                     0.920418   \n",
       "2                         0.020443                     0.363715   \n",
       "3                         0.026625                     0.933542   \n",
       "4                         0.028030                     0.960045   \n",
       "...                            ...                          ...   \n",
       "56656                    -0.031309                    -0.046220   \n",
       "56657                    -0.029904                    -0.043932   \n",
       "56658                    -0.013231                    -0.016083   \n",
       "56659                    -0.014823                     0.058110   \n",
       "56660                    -0.019038                     0.058110   \n",
       "\n",
       "       Fwd Packet Length Max  Fwd Packet Length Min  Fwd Packet Length Mean  \\\n",
       "0                  -0.202328              -0.085799               -0.141626   \n",
       "1                   0.603280              -0.211176               -0.082435   \n",
       "2                   0.603280              -0.211176                0.044065   \n",
       "3                   0.603280              -0.211176               -0.074097   \n",
       "4                   0.603280              -0.211176               -0.091862   \n",
       "...                      ...                    ...                     ...   \n",
       "56656              -0.200833               0.457502               -0.064078   \n",
       "56657              -0.178414               0.770945                0.022086   \n",
       "56658               0.423924              -0.211176                0.269091   \n",
       "56659               0.373106              -0.211176                0.050808   \n",
       "56660               0.238589              -0.211176               -0.013815   \n",
       "\n",
       "       Fwd Packet Length Std  Bwd Packet Length Max  ...  Active Mean  \\\n",
       "0                  -0.176450              -0.559724  ...    -0.109890   \n",
       "1                   0.240598               1.006311  ...    -0.109890   \n",
       "2                   0.439623               0.484299  ...    -0.109890   \n",
       "3                   0.257380               1.006311  ...    -0.109890   \n",
       "4                   0.225736               1.006311  ...    -0.109890   \n",
       "...                      ...                    ...  ...          ...   \n",
       "56656              -0.255106              -0.517906  ...    -0.109890   \n",
       "56657              -0.255106              -0.472842  ...    -0.109890   \n",
       "56658               0.640334               0.711057  ...    -0.108683   \n",
       "56659               0.399315               1.528323  ...    -0.108677   \n",
       "56660               0.257733               3.111663  ...    -0.108684   \n",
       "\n",
       "       Active Std  Active Max  Active Min  Idle Mean  Idle Std  Idle Max  \\\n",
       "0       -0.081787   -0.128621   -0.094861  -0.458733 -0.137652 -0.466444   \n",
       "1       -0.081787   -0.128621   -0.094861  -0.458733 -0.137652 -0.466444   \n",
       "2       -0.081787   -0.128621   -0.094861  -0.458733 -0.137652 -0.466444   \n",
       "3       -0.081787   -0.128621   -0.094861  -0.458733 -0.137652 -0.466444   \n",
       "4       -0.081787   -0.128621   -0.094861  -0.458733 -0.137652 -0.466444   \n",
       "...           ...         ...         ...        ...       ...       ...   \n",
       "56656   -0.081787   -0.128621   -0.094861  -0.458733 -0.137652 -0.466444   \n",
       "56657   -0.081787   -0.128621   -0.094861  -0.458733 -0.137652 -0.466444   \n",
       "56658   -0.081787   -0.127670   -0.093555  -0.256388 -0.137652 -0.269451   \n",
       "56659   -0.081787   -0.127665   -0.093549  -0.256404 -0.137652 -0.269466   \n",
       "56660   -0.081787   -0.127671   -0.093556  -0.256277 -0.137652 -0.269343   \n",
       "\n",
       "       Idle Min  klabel  Label  \n",
       "0     -0.442061     393      0  \n",
       "1     -0.442061     303      0  \n",
       "2     -0.442061     457      0  \n",
       "3     -0.442061     303      0  \n",
       "4     -0.442061     303      0  \n",
       "...         ...     ...    ...  \n",
       "56656 -0.442061     204      0  \n",
       "56657 -0.442061     638      0  \n",
       "56658 -0.238254     547      3  \n",
       "56659 -0.238270      30      3  \n",
       "56660 -0.238142     434      3  \n",
       "\n",
       "[52479 rows x 79 columns]"
      ]
     },
     "execution_count": 398,
     "metadata": {},
     "output_type": "execute_result"
    }
   ],
   "source": [
    "df_major"
   ]
  },
  {
   "cell_type": "code",
   "execution_count": 399,
   "metadata": {},
   "outputs": [],
   "source": [
    "def typicalSampling(group):\n",
    "    name = group.name\n",
    "    frac = 0.008\n",
    "    return group.sample(frac=frac)\n",
    "\n",
    "result = df_major.groupby(\n",
    "    'klabel', group_keys=False\n",
    ").apply(typicalSampling)"
   ]
  },
  {
   "cell_type": "code",
   "execution_count": 400,
   "metadata": {},
   "outputs": [
    {
     "data": {
      "text/plain": [
       "Label\n",
       "0    120\n",
       "3    114\n",
       "5     64\n",
       "2     18\n",
       "Name: count, dtype: int64"
      ]
     },
     "execution_count": 400,
     "metadata": {},
     "output_type": "execute_result"
    }
   ],
   "source": [
    "result['Label'].value_counts()"
   ]
  },
  {
   "cell_type": "code",
   "execution_count": 401,
   "metadata": {
    "scrolled": true
   },
   "outputs": [
    {
     "data": {
      "text/html": [
       "<div>\n",
       "<style scoped>\n",
       "    .dataframe tbody tr th:only-of-type {\n",
       "        vertical-align: middle;\n",
       "    }\n",
       "\n",
       "    .dataframe tbody tr th {\n",
       "        vertical-align: top;\n",
       "    }\n",
       "\n",
       "    .dataframe thead th {\n",
       "        text-align: right;\n",
       "    }\n",
       "</style>\n",
       "<table border=\"1\" class=\"dataframe\">\n",
       "  <thead>\n",
       "    <tr style=\"text-align: right;\">\n",
       "      <th></th>\n",
       "      <th>Flow Duration</th>\n",
       "      <th>Total Fwd Packets</th>\n",
       "      <th>Total Backward Packets</th>\n",
       "      <th>Total Length of Fwd Packets</th>\n",
       "      <th>Total Length of Bwd Packets</th>\n",
       "      <th>Fwd Packet Length Max</th>\n",
       "      <th>Fwd Packet Length Min</th>\n",
       "      <th>Fwd Packet Length Mean</th>\n",
       "      <th>Fwd Packet Length Std</th>\n",
       "      <th>Bwd Packet Length Max</th>\n",
       "      <th>...</th>\n",
       "      <th>Active Mean</th>\n",
       "      <th>Active Std</th>\n",
       "      <th>Active Max</th>\n",
       "      <th>Active Min</th>\n",
       "      <th>Idle Mean</th>\n",
       "      <th>Idle Std</th>\n",
       "      <th>Idle Max</th>\n",
       "      <th>Idle Min</th>\n",
       "      <th>klabel</th>\n",
       "      <th>Label</th>\n",
       "    </tr>\n",
       "  </thead>\n",
       "  <tbody>\n",
       "    <tr>\n",
       "      <th>48601</th>\n",
       "      <td>1.800590</td>\n",
       "      <td>0.037025</td>\n",
       "      <td>0.008402</td>\n",
       "      <td>-0.017212</td>\n",
       "      <td>0.057771</td>\n",
       "      <td>0.287912</td>\n",
       "      <td>-0.211176</td>\n",
       "      <td>0.014188</td>\n",
       "      <td>0.308375</td>\n",
       "      <td>1.528323</td>\n",
       "      <td>...</td>\n",
       "      <td>-0.105814</td>\n",
       "      <td>-0.081787</td>\n",
       "      <td>-0.125409</td>\n",
       "      <td>-0.090450</td>\n",
       "      <td>2.198274</td>\n",
       "      <td>-0.137652</td>\n",
       "      <td>2.120302</td>\n",
       "      <td>2.234155</td>\n",
       "      <td>2</td>\n",
       "      <td>3</td>\n",
       "    </tr>\n",
       "    <tr>\n",
       "      <th>47732</th>\n",
       "      <td>2.199230</td>\n",
       "      <td>-0.015701</td>\n",
       "      <td>0.023437</td>\n",
       "      <td>-0.017305</td>\n",
       "      <td>0.057771</td>\n",
       "      <td>0.275955</td>\n",
       "      <td>-0.211176</td>\n",
       "      <td>0.169141</td>\n",
       "      <td>0.437496</td>\n",
       "      <td>1.528323</td>\n",
       "      <td>...</td>\n",
       "      <td>-0.095039</td>\n",
       "      <td>-0.081787</td>\n",
       "      <td>-0.116921</td>\n",
       "      <td>-0.078792</td>\n",
       "      <td>2.652516</td>\n",
       "      <td>-0.137652</td>\n",
       "      <td>2.562533</td>\n",
       "      <td>2.691681</td>\n",
       "      <td>4</td>\n",
       "      <td>3</td>\n",
       "    </tr>\n",
       "    <tr>\n",
       "      <th>34884</th>\n",
       "      <td>-0.523790</td>\n",
       "      <td>-0.033276</td>\n",
       "      <td>-0.021668</td>\n",
       "      <td>-0.025314</td>\n",
       "      <td>-0.043768</td>\n",
       "      <td>-0.176919</td>\n",
       "      <td>0.791842</td>\n",
       "      <td>0.027831</td>\n",
       "      <td>-0.255106</td>\n",
       "      <td>-0.514661</td>\n",
       "      <td>...</td>\n",
       "      <td>-0.109890</td>\n",
       "      <td>-0.081787</td>\n",
       "      <td>-0.128621</td>\n",
       "      <td>-0.094861</td>\n",
       "      <td>-0.458733</td>\n",
       "      <td>-0.137652</td>\n",
       "      <td>-0.466444</td>\n",
       "      <td>-0.442061</td>\n",
       "      <td>6</td>\n",
       "      <td>0</td>\n",
       "    </tr>\n",
       "    <tr>\n",
       "      <th>6662</th>\n",
       "      <td>-0.480805</td>\n",
       "      <td>-0.050851</td>\n",
       "      <td>-0.021668</td>\n",
       "      <td>-0.033089</td>\n",
       "      <td>0.057881</td>\n",
       "      <td>-0.218769</td>\n",
       "      <td>-0.211176</td>\n",
       "      <td>-0.198112</td>\n",
       "      <td>-0.209440</td>\n",
       "      <td>3.620336</td>\n",
       "      <td>...</td>\n",
       "      <td>-0.109890</td>\n",
       "      <td>-0.081787</td>\n",
       "      <td>-0.128621</td>\n",
       "      <td>-0.094861</td>\n",
       "      <td>-0.458733</td>\n",
       "      <td>-0.137652</td>\n",
       "      <td>-0.466444</td>\n",
       "      <td>-0.442061</td>\n",
       "      <td>11</td>\n",
       "      <td>3</td>\n",
       "    </tr>\n",
       "    <tr>\n",
       "      <th>6826</th>\n",
       "      <td>-0.388195</td>\n",
       "      <td>-0.015701</td>\n",
       "      <td>-0.081807</td>\n",
       "      <td>-0.032901</td>\n",
       "      <td>-0.048344</td>\n",
       "      <td>-0.239693</td>\n",
       "      <td>-0.085799</td>\n",
       "      <td>-0.213430</td>\n",
       "      <td>-0.255106</td>\n",
       "      <td>-0.559724</td>\n",
       "      <td>...</td>\n",
       "      <td>-0.108609</td>\n",
       "      <td>-0.081787</td>\n",
       "      <td>-0.127611</td>\n",
       "      <td>-0.093474</td>\n",
       "      <td>-0.298485</td>\n",
       "      <td>-0.137652</td>\n",
       "      <td>-0.310434</td>\n",
       "      <td>-0.280655</td>\n",
       "      <td>12</td>\n",
       "      <td>3</td>\n",
       "    </tr>\n",
       "    <tr>\n",
       "      <th>...</th>\n",
       "      <td>...</td>\n",
       "      <td>...</td>\n",
       "      <td>...</td>\n",
       "      <td>...</td>\n",
       "      <td>...</td>\n",
       "      <td>...</td>\n",
       "      <td>...</td>\n",
       "      <td>...</td>\n",
       "      <td>...</td>\n",
       "      <td>...</td>\n",
       "      <td>...</td>\n",
       "      <td>...</td>\n",
       "      <td>...</td>\n",
       "      <td>...</td>\n",
       "      <td>...</td>\n",
       "      <td>...</td>\n",
       "      <td>...</td>\n",
       "      <td>...</td>\n",
       "      <td>...</td>\n",
       "      <td>...</td>\n",
       "      <td>...</td>\n",
       "    </tr>\n",
       "    <tr>\n",
       "      <th>3612</th>\n",
       "      <td>-0.445424</td>\n",
       "      <td>-0.033276</td>\n",
       "      <td>-0.081807</td>\n",
       "      <td>-0.033182</td>\n",
       "      <td>-0.048344</td>\n",
       "      <td>-0.239693</td>\n",
       "      <td>-0.085799</td>\n",
       "      <td>-0.213430</td>\n",
       "      <td>-0.255106</td>\n",
       "      <td>-0.559724</td>\n",
       "      <td>...</td>\n",
       "      <td>-0.109890</td>\n",
       "      <td>-0.081787</td>\n",
       "      <td>-0.128621</td>\n",
       "      <td>-0.094861</td>\n",
       "      <td>-0.458733</td>\n",
       "      <td>-0.137652</td>\n",
       "      <td>-0.466444</td>\n",
       "      <td>-0.442061</td>\n",
       "      <td>980</td>\n",
       "      <td>3</td>\n",
       "    </tr>\n",
       "    <tr>\n",
       "      <th>7814</th>\n",
       "      <td>2.610017</td>\n",
       "      <td>0.177627</td>\n",
       "      <td>0.128680</td>\n",
       "      <td>-0.009578</td>\n",
       "      <td>-0.039329</td>\n",
       "      <td>0.414956</td>\n",
       "      <td>-0.211176</td>\n",
       "      <td>-0.058334</td>\n",
       "      <td>0.232602</td>\n",
       "      <td>-0.206789</td>\n",
       "      <td>...</td>\n",
       "      <td>-0.038928</td>\n",
       "      <td>0.129992</td>\n",
       "      <td>0.154505</td>\n",
       "      <td>-0.049467</td>\n",
       "      <td>-0.148142</td>\n",
       "      <td>-0.127824</td>\n",
       "      <td>-0.163547</td>\n",
       "      <td>-0.135063</td>\n",
       "      <td>984</td>\n",
       "      <td>0</td>\n",
       "    </tr>\n",
       "    <tr>\n",
       "      <th>38773</th>\n",
       "      <td>-0.527639</td>\n",
       "      <td>-0.068427</td>\n",
       "      <td>-0.051737</td>\n",
       "      <td>-0.031309</td>\n",
       "      <td>-0.046733</td>\n",
       "      <td>-0.200833</td>\n",
       "      <td>0.457502</td>\n",
       "      <td>-0.064078</td>\n",
       "      <td>-0.255106</td>\n",
       "      <td>-0.528000</td>\n",
       "      <td>...</td>\n",
       "      <td>-0.109890</td>\n",
       "      <td>-0.081787</td>\n",
       "      <td>-0.128621</td>\n",
       "      <td>-0.094861</td>\n",
       "      <td>-0.458733</td>\n",
       "      <td>-0.137652</td>\n",
       "      <td>-0.466444</td>\n",
       "      <td>-0.442061</td>\n",
       "      <td>992</td>\n",
       "      <td>0</td>\n",
       "    </tr>\n",
       "    <tr>\n",
       "      <th>33274</th>\n",
       "      <td>-0.451495</td>\n",
       "      <td>0.019450</td>\n",
       "      <td>0.008402</td>\n",
       "      <td>-0.001054</td>\n",
       "      <td>-0.041910</td>\n",
       "      <td>0.401504</td>\n",
       "      <td>-0.211176</td>\n",
       "      <td>0.334741</td>\n",
       "      <td>0.493825</td>\n",
       "      <td>-0.369738</td>\n",
       "      <td>...</td>\n",
       "      <td>-0.109890</td>\n",
       "      <td>-0.081787</td>\n",
       "      <td>-0.128621</td>\n",
       "      <td>-0.094861</td>\n",
       "      <td>-0.458733</td>\n",
       "      <td>-0.137652</td>\n",
       "      <td>-0.466444</td>\n",
       "      <td>-0.442061</td>\n",
       "      <td>995</td>\n",
       "      <td>0</td>\n",
       "    </tr>\n",
       "    <tr>\n",
       "      <th>30715</th>\n",
       "      <td>-0.527833</td>\n",
       "      <td>-0.068427</td>\n",
       "      <td>-0.051737</td>\n",
       "      <td>-0.030560</td>\n",
       "      <td>-0.046458</td>\n",
       "      <td>-0.188876</td>\n",
       "      <td>0.624672</td>\n",
       "      <td>-0.018124</td>\n",
       "      <td>-0.255106</td>\n",
       "      <td>-0.522592</td>\n",
       "      <td>...</td>\n",
       "      <td>-0.109890</td>\n",
       "      <td>-0.081787</td>\n",
       "      <td>-0.128621</td>\n",
       "      <td>-0.094861</td>\n",
       "      <td>-0.458733</td>\n",
       "      <td>-0.137652</td>\n",
       "      <td>-0.466444</td>\n",
       "      <td>-0.442061</td>\n",
       "      <td>999</td>\n",
       "      <td>0</td>\n",
       "    </tr>\n",
       "  </tbody>\n",
       "</table>\n",
       "<p>316 rows × 79 columns</p>\n",
       "</div>"
      ],
      "text/plain": [
       "       Flow Duration  Total Fwd Packets  Total Backward Packets  \\\n",
       "48601       1.800590           0.037025                0.008402   \n",
       "47732       2.199230          -0.015701                0.023437   \n",
       "34884      -0.523790          -0.033276               -0.021668   \n",
       "6662       -0.480805          -0.050851               -0.021668   \n",
       "6826       -0.388195          -0.015701               -0.081807   \n",
       "...              ...                ...                     ...   \n",
       "3612       -0.445424          -0.033276               -0.081807   \n",
       "7814        2.610017           0.177627                0.128680   \n",
       "38773      -0.527639          -0.068427               -0.051737   \n",
       "33274      -0.451495           0.019450                0.008402   \n",
       "30715      -0.527833          -0.068427               -0.051737   \n",
       "\n",
       "       Total Length of Fwd Packets  Total Length of Bwd Packets  \\\n",
       "48601                    -0.017212                     0.057771   \n",
       "47732                    -0.017305                     0.057771   \n",
       "34884                    -0.025314                    -0.043768   \n",
       "6662                     -0.033089                     0.057881   \n",
       "6826                     -0.032901                    -0.048344   \n",
       "...                            ...                          ...   \n",
       "3612                     -0.033182                    -0.048344   \n",
       "7814                     -0.009578                    -0.039329   \n",
       "38773                    -0.031309                    -0.046733   \n",
       "33274                    -0.001054                    -0.041910   \n",
       "30715                    -0.030560                    -0.046458   \n",
       "\n",
       "       Fwd Packet Length Max  Fwd Packet Length Min  Fwd Packet Length Mean  \\\n",
       "48601               0.287912              -0.211176                0.014188   \n",
       "47732               0.275955              -0.211176                0.169141   \n",
       "34884              -0.176919               0.791842                0.027831   \n",
       "6662               -0.218769              -0.211176               -0.198112   \n",
       "6826               -0.239693              -0.085799               -0.213430   \n",
       "...                      ...                    ...                     ...   \n",
       "3612               -0.239693              -0.085799               -0.213430   \n",
       "7814                0.414956              -0.211176               -0.058334   \n",
       "38773              -0.200833               0.457502               -0.064078   \n",
       "33274               0.401504              -0.211176                0.334741   \n",
       "30715              -0.188876               0.624672               -0.018124   \n",
       "\n",
       "       Fwd Packet Length Std  Bwd Packet Length Max  ...  Active Mean  \\\n",
       "48601               0.308375               1.528323  ...    -0.105814   \n",
       "47732               0.437496               1.528323  ...    -0.095039   \n",
       "34884              -0.255106              -0.514661  ...    -0.109890   \n",
       "6662               -0.209440               3.620336  ...    -0.109890   \n",
       "6826               -0.255106              -0.559724  ...    -0.108609   \n",
       "...                      ...                    ...  ...          ...   \n",
       "3612               -0.255106              -0.559724  ...    -0.109890   \n",
       "7814                0.232602              -0.206789  ...    -0.038928   \n",
       "38773              -0.255106              -0.528000  ...    -0.109890   \n",
       "33274               0.493825              -0.369738  ...    -0.109890   \n",
       "30715              -0.255106              -0.522592  ...    -0.109890   \n",
       "\n",
       "       Active Std  Active Max  Active Min  Idle Mean  Idle Std  Idle Max  \\\n",
       "48601   -0.081787   -0.125409   -0.090450   2.198274 -0.137652  2.120302   \n",
       "47732   -0.081787   -0.116921   -0.078792   2.652516 -0.137652  2.562533   \n",
       "34884   -0.081787   -0.128621   -0.094861  -0.458733 -0.137652 -0.466444   \n",
       "6662    -0.081787   -0.128621   -0.094861  -0.458733 -0.137652 -0.466444   \n",
       "6826    -0.081787   -0.127611   -0.093474  -0.298485 -0.137652 -0.310434   \n",
       "...           ...         ...         ...        ...       ...       ...   \n",
       "3612    -0.081787   -0.128621   -0.094861  -0.458733 -0.137652 -0.466444   \n",
       "7814     0.129992    0.154505   -0.049467  -0.148142 -0.127824 -0.163547   \n",
       "38773   -0.081787   -0.128621   -0.094861  -0.458733 -0.137652 -0.466444   \n",
       "33274   -0.081787   -0.128621   -0.094861  -0.458733 -0.137652 -0.466444   \n",
       "30715   -0.081787   -0.128621   -0.094861  -0.458733 -0.137652 -0.466444   \n",
       "\n",
       "       Idle Min  klabel  Label  \n",
       "48601  2.234155       2      3  \n",
       "47732  2.691681       4      3  \n",
       "34884 -0.442061       6      0  \n",
       "6662  -0.442061      11      3  \n",
       "6826  -0.280655      12      3  \n",
       "...         ...     ...    ...  \n",
       "3612  -0.442061     980      3  \n",
       "7814  -0.135063     984      0  \n",
       "38773 -0.442061     992      0  \n",
       "33274 -0.442061     995      0  \n",
       "30715 -0.442061     999      0  \n",
       "\n",
       "[316 rows x 79 columns]"
      ]
     },
     "execution_count": 401,
     "metadata": {},
     "output_type": "execute_result"
    }
   ],
   "source": [
    "result"
   ]
  },
  {
   "cell_type": "code",
   "execution_count": 402,
   "metadata": {},
   "outputs": [],
   "source": [
    "result = result.drop(['klabel'],axis=1)\n",
    "result = result._append(df_minor)"
   ]
  },
  {
   "cell_type": "code",
   "execution_count": 403,
   "metadata": {},
   "outputs": [],
   "source": [
    "result.to_csv('./data/CICIDS2017_sample_km.csv',index=0)"
   ]
  },
  {
   "cell_type": "markdown",
   "metadata": {},
   "source": [
    "### split train set and test set"
   ]
  },
  {
   "cell_type": "code",
   "execution_count": 404,
   "metadata": {},
   "outputs": [],
   "source": [
    "# Read the sampled dataset\n",
    "df=pd.read_csv('./data/CICIDS2017_sample_km.csv')"
   ]
  },
  {
   "cell_type": "code",
   "execution_count": 405,
   "metadata": {},
   "outputs": [],
   "source": [
    "X = df.drop(['Label'],axis=1).values\n",
    "y = df.iloc[:, -1].values.reshape(-1,1)\n",
    "y=np.ravel(y)"
   ]
  },
  {
   "cell_type": "code",
   "execution_count": 406,
   "metadata": {
    "collapsed": true
   },
   "outputs": [],
   "source": [
    "X_train, X_test, y_train, y_test = train_test_split(X,y, train_size = 0.8, test_size = 0.2, random_state = 0,stratify = y)"
   ]
  },
  {
   "cell_type": "markdown",
   "metadata": {},
   "source": [
    "## Feature engineering"
   ]
  },
  {
   "cell_type": "markdown",
   "metadata": {},
   "source": [
    "### Feature selection by information gain"
   ]
  },
  {
   "cell_type": "code",
   "execution_count": 407,
   "metadata": {
    "collapsed": true
   },
   "outputs": [],
   "source": [
    "from sklearn.feature_selection import mutual_info_classif\n",
    "importances = mutual_info_classif(X_train, y_train)"
   ]
  },
  {
   "cell_type": "code",
   "execution_count": 408,
   "metadata": {},
   "outputs": [],
   "source": [
    "# calculate the sum of importance scores\n",
    "f_list = sorted(zip(map(lambda x: round(x, 4), importances), features), reverse=True)\n",
    "Sum = 0\n",
    "fs = []\n",
    "for i in range(0, len(f_list)):\n",
    "    Sum = Sum + f_list[i][0]\n",
    "    fs.append(f_list[i][1])"
   ]
  },
  {
   "cell_type": "code",
   "execution_count": 409,
   "metadata": {},
   "outputs": [],
   "source": [
    "# select the important features from top to bottom until the accumulated importance reaches 90%\n",
    "f_list2 = sorted(zip(map(lambda x: round(x, 4), importances/Sum), features), reverse=True)\n",
    "Sum2 = 0\n",
    "fs = []\n",
    "for i in range(0, len(f_list2)):\n",
    "    Sum2 = Sum2 + f_list2[i][0]\n",
    "    fs.append(f_list2[i][1])\n",
    "    if Sum2>=0.9:\n",
    "        break        "
   ]
  },
  {
   "cell_type": "code",
   "execution_count": 410,
   "metadata": {
    "collapsed": true
   },
   "outputs": [],
   "source": [
    "X_fs = df[fs].values"
   ]
  },
  {
   "cell_type": "code",
   "execution_count": 411,
   "metadata": {},
   "outputs": [
    {
     "data": {
      "text/plain": [
       "(4498, 43)"
      ]
     },
     "execution_count": 411,
     "metadata": {},
     "output_type": "execute_result"
    }
   ],
   "source": [
    "X_fs.shape"
   ]
  },
  {
   "cell_type": "markdown",
   "metadata": {},
   "source": [
    "### Feature selection by Fast Correlation Based Filter (FCBF)\n",
    "\n",
    "The module is imported from the GitHub repo: https://github.com/SantiagoEG/FCBF_module"
   ]
  },
  {
   "cell_type": "code",
   "execution_count": 412,
   "metadata": {
    "collapsed": true
   },
   "outputs": [],
   "source": [
    "def count_vals(x):\n",
    "    vals = np.unique(x)\n",
    "    occ = np.zeros(shape = vals.shape)    \n",
    "    for i in range(vals.size):\n",
    "        occ[i] = np.sum(x == vals[i])\n",
    "    return occ\n",
    "\n",
    "def entropy(x):\n",
    "    n = float(x.shape[0])\n",
    "    ocurrence = count_vals(x)\n",
    "    px = ocurrence / n\n",
    "    return -1* np.sum(px*np.log2(px))\n",
    "\n",
    "def symmetricalUncertain(x,y):\n",
    "    n = float(y.shape[0])\n",
    "    vals = np.unique(y)\n",
    "    # Computing Entropy for the feature x. \n",
    "    Hx = entropy(x)\n",
    "    # Computing Entropy for the feature y.\n",
    "    Hy = entropy(y)\n",
    "    #Computing Joint entropy between x and y.\n",
    "    partial = np.zeros(shape = (vals.shape[0]))\n",
    "    for i in range(vals.shape[0]):    \n",
    "       partial[i] = entropy(x[y == vals[i]]) \n",
    "    \n",
    "    partial[np.isnan(partial)==1] = 0      \n",
    "    py = count_vals(y).astype(dtype = 'float64') / n\n",
    "    Hxy = np.sum(py[py > 0]*partial) \n",
    "    IG = Hx-Hxy\n",
    "    return 2*IG/(Hx+Hy)\n",
    "\n",
    "def suGroup(x, n):\n",
    "    m = x.shape[0]\n",
    "    x = np.reshape(x, (n,int(m//n))).T\n",
    "    m = x.shape[1]\n",
    "    SU_matrix = np.zeros(shape = (m,m))\n",
    "    for j in range(m-1):\n",
    "        x2 = x[:,j+1::]\n",
    "        y = x[:,j]\n",
    "        temp = np.apply_along_axis(symmetricalUncertain, 0, x2, y)\n",
    "        for k in range(temp.shape[0]):\n",
    "            SU_matrix[j,j+1::] = temp\n",
    "            SU_matrix[j+1::,j] = temp\n",
    "    \n",
    "    return 1/float(m-1)*np.sum(SU_matrix, axis = 1)\n",
    "\n",
    "def isprime(a):\n",
    "    return all(a % i for i in range(2, a))\n",
    "\n",
    "\n",
    "\"\"\"\n",
    "get\n",
    "\"\"\"\n",
    "\n",
    "def get_i(a):\n",
    "    if isprime(a):\n",
    "        a -= 1\n",
    "    return filter(lambda x: a % x == 0, range(2,a))\n",
    "\n",
    "\n",
    "\"\"\"\n",
    "FCBF - Fast Correlation Based Filter\n",
    "\n",
    "L. Yu and H. Liu. Feature Selection for High‐Dimensional Data: A Fast Correlation‐Based Filter Solution. \n",
    "In Proceedings of The Twentieth International Conference on Machine Leaning (ICML‐03), 856‐863.\n",
    "Washington, D.C., August 21‐24, 2003.\n",
    "\"\"\"\n",
    "\n",
    "class FCBF:\n",
    "    \n",
    "    idx_sel = []\n",
    "    \n",
    "    \n",
    "    def __init__(self, th = 0.01):\n",
    "        '''\n",
    "        Parameters\n",
    "        ---------------\n",
    "            th = The initial threshold \n",
    "        '''\n",
    "        self.th = th\n",
    "\n",
    "\n",
    "    def fit(self, x, y):\n",
    "        '''\n",
    "        This function executes FCBF algorithm and saves indexes \n",
    "        of selected features in self.idx_sel\n",
    "        \n",
    "        Parameters\n",
    "        ---------------\n",
    "            x = dataset  [NxM] \n",
    "            y = label    [Nx1]\n",
    "        '''\n",
    "        self.idx_sel = []\n",
    "        \"\"\"\n",
    "        First Stage: Computing the SU for each feature with the response.\n",
    "        \"\"\"\n",
    "        SU_vec = np.apply_along_axis(symmetricalUncertain, 0, x, y)\n",
    "        SU_list = SU_vec[SU_vec > self.th]\n",
    "        SU_list[::-1].sort()\n",
    "        \n",
    "        m = x[:,SU_vec > self.th].shape\n",
    "        x_sorted = np.zeros(shape = m)\n",
    "        \n",
    "        for i in range(m[1]):\n",
    "            ind = np.argmax(SU_vec)\n",
    "            SU_vec[ind] = 0\n",
    "            x_sorted[:,i] = x[:,ind].copy()\n",
    "            self.idx_sel.append(ind)\n",
    "        \n",
    "        \"\"\"\n",
    "        Second Stage: Identify relationships between feature to remove redundancy.\n",
    "        \"\"\"\n",
    "        j = 0\n",
    "        while True:\n",
    "            \"\"\"\n",
    "            Stopping Criteria:The search finishes\n",
    "            \"\"\"\n",
    "            if j >= x_sorted.shape[1]: break\n",
    "            y = x_sorted[:,j].copy()\n",
    "            x_list = x_sorted[:,j+1:].copy()\n",
    "            if x_list.shape[1] == 0: break\n",
    "                \n",
    "                \n",
    "            SU_list_2 = SU_list[j+1:]\n",
    "            SU_x = np.apply_along_axis(symmetricalUncertain, 0, \n",
    "                                       x_list, y)\n",
    "            \n",
    "            comp_SU = SU_x >= SU_list_2\n",
    "            to_remove = np.where(comp_SU)[0] + j + 1 \n",
    "            if to_remove.size > 0:\n",
    "                x_sorted = np.delete(x_sorted, to_remove, axis = 1)\n",
    "                SU_list = np.delete(SU_list, to_remove, axis = 0)\n",
    "                to_remove.sort()\n",
    "                for r in reversed(to_remove): \n",
    "                    self.idx_sel.remove(self.idx_sel[r])\n",
    "            j = j + 1        \n",
    "            \n",
    "    def fit_transform(self, x, y):\n",
    "        '''\n",
    "        This function fits the feature selection \n",
    "        algorithm and returns the resulting subset.\n",
    "        \n",
    "        Parameters\n",
    "        ---------------\n",
    "            x = dataset  [NxM] \n",
    "            y = label    [Nx1]\n",
    "        '''\n",
    "        self.fit(x, y)\n",
    "        return x[:,self.idx_sel]\n",
    "         \n",
    "    def transform(self, x):\n",
    "        '''\n",
    "        This function applies the selection\n",
    "        to the vector x.\n",
    "        \n",
    "        Parameters\n",
    "        ---------------\n",
    "            x = dataset  [NxM] \n",
    "        '''\n",
    "        return x[:, self.idx_sel]  \n",
    "\n",
    "\n",
    "\"\"\"\n",
    "FCBF# - Fast Correlation Based Filter \n",
    "B. Senliol, G. Gulgezen, et al. Fast Correlation Based Filter (FCBF) with a Different Search Strategy. \n",
    "In Computer and Information Sciences (ISCIS ‘08) 23rd International Symposium on, pages 1‐4. \n",
    "Istanbul, October 27‐29, 2008.\n",
    "\"\"\"\n",
    "class FCBFK(FCBF):\n",
    "    \n",
    "    idx_sel = []\n",
    "    \n",
    "    \n",
    "    def __init__(self, k = 10):\n",
    "        '''\n",
    "        Parameters\n",
    "        ---------------\n",
    "            k = Number of features to include in the\n",
    "            subset.\n",
    "        '''\n",
    "        self.k = k\n",
    "\n",
    "\n",
    "    def fit(self, x, y):\n",
    "        '''\n",
    "        This function executes FCBFK algorithm and saves indexes \n",
    "        of selected features in self.idx_sel\n",
    "        \n",
    "        Parameters\n",
    "        ---------------\n",
    "            x = dataset  [NxM] \n",
    "            y = label    [Nx1]\n",
    "        '''        \n",
    "        self.idx_sel = []\n",
    "        \"\"\"\n",
    "        First Stage: Computing the SU for each feature with the response.\n",
    "        \"\"\"    \n",
    "        SU_vec = np.apply_along_axis(symmetricalUncertain, 0, x, y)\n",
    "        \n",
    "        SU_list = SU_vec[SU_vec > 0]\n",
    "        SU_list[::-1].sort()\n",
    "        \n",
    "        m = x[:,SU_vec > 0].shape\n",
    "        x_sorted = np.zeros(shape = m)\n",
    "        \n",
    "        for i in range(m[1]):\n",
    "            ind = np.argmax(SU_vec)\n",
    "            SU_vec[ind] = 0\n",
    "            x_sorted[:,i] = x[:,ind].copy() \n",
    "            self.idx_sel.append(ind)\n",
    "            \n",
    "        \"\"\"\n",
    "        Second Stage: Identify relationships between features to remove redundancy with stopping \n",
    "        criteria (features in x_best == k).\n",
    "        \"\"\"    \n",
    "        j = 0\n",
    "        while True:\n",
    "            y = x_sorted[:,j].copy()\n",
    "            SU_list_2 = SU_list[j+1:]    \n",
    "            x_list = x_sorted[:,j+1:].copy()\n",
    "            \n",
    "            \"\"\"\n",
    "            Stopping Criteria:The search finishes\n",
    "            \"\"\"\n",
    "            if x_list.shape[1] == 0: break\n",
    "                \n",
    "                \n",
    "            SU_x = np.apply_along_axis(symmetricalUncertain, 0, \n",
    "                                       x_list, y)\n",
    "            \n",
    "            comp_SU = SU_x >= SU_list_2\n",
    "            to_remove = np.where(comp_SU)[0] + j + 1 \n",
    "            if to_remove.size > 0 and x.shape[1] > self.k:\n",
    "    \n",
    "                for i in reversed(to_remove):\n",
    "                    \n",
    "                    x_sorted = np.delete(x_sorted, i, axis = 1)\n",
    "                    SU_list = np.delete(SU_list, i, axis = 0)                \n",
    "                    self.idx_sel.remove(self.idx_sel[i])\n",
    "                    if x_sorted.shape[1] == self.k: break  \n",
    "                    \n",
    "            if x_list.shape[1] == 1 or x_sorted.shape[1] == self.k: \n",
    "                break    \n",
    "            j = j + 1\n",
    "            \n",
    "        if len(self.idx_sel) > self.k:\n",
    "            self.idx_sel = self.idx_sel[:self.k]\n",
    "            \n",
    "            \n",
    "            \n",
    "\"\"\"\n",
    "FCBFiP - Fast Correlation Based Filter in Pieces\n",
    "\"\"\"            \n",
    "            \n",
    "class FCBFiP(FCBF):\n",
    "    \n",
    "    idx_sel = []\n",
    "\n",
    "\n",
    "    def __init__(self, k = 10, npieces = 2):\n",
    "        '''\n",
    "        Parameters\n",
    "        ---------------\n",
    "            k = Number of features to include in the\n",
    "            subset.\n",
    "            npieces = Number of pieces to divide the \n",
    "            feature space.\n",
    "        '''\n",
    "        self.k = k\n",
    "        self.npieces = npieces\n",
    "\n",
    "    def fit(self, x, y):\n",
    "        '''\n",
    "        This function executes FCBF algorithm and saves indexes \n",
    "        of selected features in self.idx_sel\n",
    "        \n",
    "        Parameters\n",
    "        ---------------\n",
    "            x = dataset  [NxM] \n",
    "            y = label    [Nx1]\n",
    "        '''\n",
    "    \n",
    "        \"\"\"\n",
    "        First Stage: Computing the SU for each feature with the response. We sort the \n",
    "        features. When we have a prime number of features we remove the last one from the\n",
    "        sorted features list.\n",
    "        \"\"\"      \n",
    "        m = x.shape\n",
    "        nfeaturesPieces = int(m[1] / float(self.npieces))        \n",
    "        SU_vec = np.apply_along_axis(symmetricalUncertain, 0, x, y)\n",
    "        \n",
    "        x_sorted = np.zeros(shape = m, dtype = 'float64')        \n",
    "        idx_sorted = np.zeros(shape = m[1], dtype = 'int64')\n",
    "        for i in range(m[1]):\n",
    "            ind = np.argmax(SU_vec)\n",
    "            SU_vec[ind] = -1\n",
    "            idx_sorted[i]= ind \n",
    "            x_sorted[:,i] = x[:,ind].copy() \n",
    "\n",
    "        if isprime(m[1]): \n",
    "            x_sorted = np.delete(x_sorted, m[1]-1, axis = 1 )\n",
    "            ind_prime = idx_sorted[m[1]-1]\n",
    "            idx_sorted = np.delete(idx_sorted, m[1]-1)\n",
    "            #m = x_sorted.shape\n",
    "        \"\"\"\n",
    "        Second Stage: Identify relationships between features into its vecinity\n",
    "        to remove redundancy with stopping criteria (features in x_best == k).\n",
    "        \"\"\"   \n",
    "        \n",
    "        x_2d = np.reshape(x_sorted.T, (self.npieces, nfeaturesPieces*m[0])).T\n",
    "    \n",
    "        SU_x =  np.apply_along_axis(suGroup, 0, x_2d, nfeaturesPieces)\n",
    "        SU_x = np.reshape(SU_x.T, (self.npieces*nfeaturesPieces,))\n",
    "        idx_sorted2 = np.zeros(shape = idx_sorted.shape, dtype = 'int64')\n",
    "        SU_x[np.isnan(SU_x)] = 1        \n",
    "        \n",
    "        for i in range(idx_sorted.shape[0]):\n",
    "            ind =  np.argmin(SU_x)\n",
    "            idx_sorted2[i] = idx_sorted[ind]\n",
    "            SU_x[ind] = 10    \n",
    "        \n",
    "        \"\"\"\n",
    "        Scoring step\n",
    "        \"\"\"        \n",
    "        self.scores = np.zeros(shape = m[1], dtype = 'int64') \n",
    "           \n",
    "        for i in range(m[1]):\n",
    "            if i in idx_sorted:\n",
    "                self.scores[i] = np.argwhere(i == idx_sorted) + np.argwhere(i == idx_sorted2)\n",
    "        if isprime(m[1]): \n",
    "            self.scores[ind_prime] = 2*m[1]\n",
    "        self.set_k(self.k)\n",
    "\n",
    "\n",
    "    def set_k(self, k):\n",
    "        self.k = k \n",
    "        scores_temp = -1*self.scores\n",
    "        \n",
    "        self.idx_sel = np.zeros(shape = self.k, dtype = 'int64')\n",
    "        for i in range(self.k):\n",
    "            ind =  np.argmax(scores_temp)\n",
    "            scores_temp[ind] = -100000000\n",
    "            self.idx_sel[i] = ind\n",
    "\n",
    "\n",
    "\n",
    "\n",
    "\n",
    "fcbf = FCBFK(k = 20)\n",
    "#fcbf.fit(X_fs, y)"
   ]
  },
  {
   "cell_type": "code",
   "execution_count": 413,
   "metadata": {},
   "outputs": [
    {
     "name": "stdout",
     "output_type": "stream",
     "text": [
      "['Flow IAT Min', 'Fwd Packet Length Mean', 'Flow Duration', 'Total Fwd Packets', 'Bwd Packet Length Std', 'Bwd Packet Length Max', 'Bwd Packet Length Min', 'Fwd Packet Length Min', 'Total Backward Packets', 'Fwd Packet Length Std', 'Bwd Packet Length Mean', 'Fwd Packet Length Max', 'Total Length of Fwd Packets', 'Total Length of Bwd Packets', 'Fwd PSH Flags', 'Bwd IAT Max', 'Bwd IAT Min', 'Fwd URG Flags', 'Fwd Packets/s', 'Bwd Packets/s']\n"
     ]
    },
    {
     "data": {
      "text/plain": [
       "['./features/selected_features.joblib']"
      ]
     },
     "execution_count": 413,
     "metadata": {},
     "output_type": "execute_result"
    }
   ],
   "source": [
    "X_fss = fcbf.fit_transform(X_fs,y)\n",
    "\n",
    "#Save the selected features\n",
    "selected_indices = fcbf.idx_sel \n",
    "selected_features = df.columns[selected_indices]  \n",
    "print(selected_features.tolist())\n",
    "joblib.dump(selected_features.tolist(), './features/selected_features.joblib')"
   ]
  },
  {
   "cell_type": "code",
   "execution_count": 414,
   "metadata": {},
   "outputs": [
    {
     "data": {
      "text/plain": [
       "(4498, 20)"
      ]
     },
     "execution_count": 414,
     "metadata": {},
     "output_type": "execute_result"
    }
   ],
   "source": [
    "X_fss.shape"
   ]
  },
  {
   "cell_type": "code",
   "execution_count": null,
   "metadata": {},
   "outputs": [],
   "source": []
  },
  {
   "cell_type": "markdown",
   "metadata": {},
   "source": [
    "### Re-split train & test sets after feature selection"
   ]
  },
  {
   "cell_type": "code",
   "execution_count": 415,
   "metadata": {
    "collapsed": true
   },
   "outputs": [],
   "source": [
    "X_train, X_test, y_train, y_test = train_test_split(X_fss,y, train_size = 0.8, test_size = 0.2, random_state = 0,stratify = y)"
   ]
  },
  {
   "cell_type": "code",
   "execution_count": 416,
   "metadata": {},
   "outputs": [
    {
     "data": {
      "text/plain": [
       "(3598, 20)"
      ]
     },
     "execution_count": 416,
     "metadata": {},
     "output_type": "execute_result"
    }
   ],
   "source": [
    "X_train.shape"
   ]
  },
  {
   "cell_type": "code",
   "execution_count": 417,
   "metadata": {},
   "outputs": [
    {
     "data": {
      "text/plain": [
       "6    1744\n",
       "1    1573\n",
       "0      96\n",
       "3      91\n",
       "5      51\n",
       "4      29\n",
       "2      14\n",
       "Name: count, dtype: int64"
      ]
     },
     "execution_count": 417,
     "metadata": {},
     "output_type": "execute_result"
    }
   ],
   "source": [
    "pd.Series(y_train).value_counts()"
   ]
  },
  {
   "cell_type": "markdown",
   "metadata": {},
   "source": [
    "### SMOTE to solve class-imbalance"
   ]
  },
  {
   "cell_type": "code",
   "execution_count": 418,
   "metadata": {},
   "outputs": [],
   "source": [
    "from imblearn.over_sampling import SMOTE\n",
    "smote=SMOTE(sampling_strategy={2:1000,4:1000})"
   ]
  },
  {
   "cell_type": "code",
   "execution_count": 419,
   "metadata": {
    "collapsed": true
   },
   "outputs": [],
   "source": [
    "X_train, y_train = smote.fit_resample(X_train, y_train)"
   ]
  },
  {
   "cell_type": "code",
   "execution_count": 420,
   "metadata": {},
   "outputs": [
    {
     "data": {
      "text/plain": [
       "6    1744\n",
       "1    1573\n",
       "4    1000\n",
       "2    1000\n",
       "0      96\n",
       "3      91\n",
       "5      51\n",
       "Name: count, dtype: int64"
      ]
     },
     "execution_count": 420,
     "metadata": {},
     "output_type": "execute_result"
    }
   ],
   "source": [
    "pd.Series(y_train).value_counts()"
   ]
  },
  {
   "cell_type": "code",
   "execution_count": 421,
   "metadata": {},
   "outputs": [],
   "source": [
    "from imblearn.over_sampling import SMOTE\n",
    "smote=SMOTE(sampling_strategy={2:1000,4:1000})"
   ]
  },
  {
   "cell_type": "markdown",
   "metadata": {},
   "source": [
    "## Machine learning model training"
   ]
  },
  {
   "cell_type": "markdown",
   "metadata": {},
   "source": [
    "### Training four base learners: decision tree, random forest, extra trees, XGBoost"
   ]
  },
  {
   "cell_type": "markdown",
   "metadata": {},
   "source": [
    "#### Apply XGBoost"
   ]
  },
  {
   "cell_type": "code",
   "execution_count": 422,
   "metadata": {},
   "outputs": [
    {
     "name": "stdout",
     "output_type": "stream",
     "text": [
      "Accuracy of XGBoost: 0.9966666666666667\n",
      "Precision of XGBoost: 0.9968157026889903\n",
      "Recall of XGBoost: 0.9966666666666667\n",
      "F1-score of XGBoost: 0.9965951351809476\n",
      "              precision    recall  f1-score   support\n",
      "\n",
      "           0       1.00      0.88      0.93        24\n",
      "           1       1.00      1.00      1.00       393\n",
      "           2       1.00      1.00      1.00         4\n",
      "           3       1.00      1.00      1.00        23\n",
      "           4       0.88      1.00      0.93         7\n",
      "           5       1.00      1.00      1.00        13\n",
      "           6       1.00      1.00      1.00       436\n",
      "\n",
      "    accuracy                           1.00       900\n",
      "   macro avg       0.98      0.98      0.98       900\n",
      "weighted avg       1.00      1.00      1.00       900\n",
      "\n"
     ]
    },
    {
     "data": {
      "image/png": "[encoded data removed]",
      "text/plain": [
       "<Figure size 500x500 with 2 Axes>"
      ]
     },
     "metadata": {},
     "output_type": "display_data"
    }
   ],
   "source": [
    "xg = xgb.XGBClassifier(n_estimators = 10)\n",
    "xg.fit(X_train,y_train)\n",
    "xg_score=xg.score(X_test,y_test)\n",
    "y_predict=xg.predict(X_test)\n",
    "y_true=y_test\n",
    "print('Accuracy of XGBoost: '+ str(xg_score))\n",
    "precision,recall,fscore,none= precision_recall_fscore_support(y_true, y_predict, average='weighted') \n",
    "print('Precision of XGBoost: '+(str(precision)))\n",
    "print('Recall of XGBoost: '+(str(recall)))\n",
    "print('F1-score of XGBoost: '+(str(fscore)))\n",
    "print(classification_report(y_true,y_predict))\n",
    "cm=confusion_matrix(y_true,y_predict)\n",
    "f,ax=plt.subplots(figsize=(5,5))\n",
    "sns.heatmap(cm,annot=True,linewidth=0.5,linecolor=\"red\",fmt=\".0f\",ax=ax)\n",
    "plt.xlabel(\"y_pred\")\n",
    "plt.ylabel(\"y_true\")\n",
    "plt.show()"
   ]
  },
  {
   "cell_type": "markdown",
   "metadata": {},
   "source": [
    "#### Hyperparameter optimization (HPO) of XGBoost using Bayesian optimization with tree-based Parzen estimator (BO-TPE)\n",
    "Based on the GitHub repo for HPO: https://github.com/LiYangHart/Hyperparameter-Optimization-of-Machine-Learning-Algorithms"
   ]
  },
  {
   "cell_type": "code",
   "execution_count": 423,
   "metadata": {},
   "outputs": [
    {
     "name": "stdout",
     "output_type": "stream",
     "text": [
      "100%|██████████| 20/20 [00:06<00:00,  3.12trial/s, best loss: -0.9988888888888889]\n",
      "XGBoost: Hyperopt estimated optimum {'learning_rate': 1.2880516036722331, 'max_depth': 88.0, 'n_estimators': 45.0}\n"
     ]
    }
   ],
   "source": [
    "from hyperopt import hp, fmin, tpe, STATUS_OK, Trials\n",
    "from sklearn.model_selection import cross_val_score, StratifiedKFold\n",
    "def objective(params):\n",
    "    params = {\n",
    "        'n_estimators': int(params['n_estimators']), \n",
    "        'max_depth': int(params['max_depth']),\n",
    "        'learning_rate':  abs(float(params['learning_rate'])),\n",
    "\n",
    "    }\n",
    "    clf = xgb.XGBClassifier( **params)\n",
    "    clf.fit(X_train, y_train)\n",
    "    y_pred = clf.predict(X_test)\n",
    "    score = accuracy_score(y_test, y_pred)\n",
    "\n",
    "    return {'loss':-score, 'status': STATUS_OK }\n",
    "\n",
    "space = {\n",
    "    'n_estimators': hp.quniform('n_estimators', 10, 100, 5),\n",
    "    'max_depth': hp.quniform('max_depth', 4, 100, 1),\n",
    "    'learning_rate': hp.normal('learning_rate', 0.01, 0.9),\n",
    "}\n",
    "\n",
    "best = fmin(fn=objective,\n",
    "            space=space,\n",
    "            algo=tpe.suggest,\n",
    "            max_evals=20)\n",
    "print(\"XGBoost: Hyperopt estimated optimum {}\".format(best))"
   ]
  },
  {
   "cell_type": "code",
   "execution_count": 424,
   "metadata": {},
   "outputs": [
    {
     "name": "stdout",
     "output_type": "stream",
     "text": [
      "Accuracy of XGBoost: 0.9988888888888889\n",
      "Precision of XGBoost: 0.9990277777777777\n",
      "Recall of XGBoost: 0.9988888888888889\n",
      "F1-score of XGBoost: 0.9989141055949567\n",
      "              precision    recall  f1-score   support\n",
      "\n",
      "           0       1.00      0.96      0.98        24\n",
      "           1       1.00      1.00      1.00       393\n",
      "           2       1.00      1.00      1.00         4\n",
      "           3       1.00      1.00      1.00        23\n",
      "           4       0.88      1.00      0.93         7\n",
      "           5       1.00      1.00      1.00        13\n",
      "           6       1.00      1.00      1.00       436\n",
      "\n",
      "    accuracy                           1.00       900\n",
      "   macro avg       0.98      0.99      0.99       900\n",
      "weighted avg       1.00      1.00      1.00       900\n",
      "\n"
     ]
    },
    {
     "data": {
      "image/png": "[encoded data removed]",
      "text/plain": [
       "<Figure size 500x500 with 2 Axes>"
      ]
     },
     "metadata": {},
     "output_type": "display_data"
    }
   ],
   "source": [
    "xg = xgb.XGBClassifier(learning_rate= 0.7340229699980686, n_estimators = 70, max_depth = 14)\n",
    "xg.fit(X_train,y_train)\n",
    "xg_score=xg.score(X_test,y_test)\n",
    "y_predict=xg.predict(X_test)\n",
    "y_true=y_test\n",
    "print('Accuracy of XGBoost: '+ str(xg_score))\n",
    "precision,recall,fscore,none= precision_recall_fscore_support(y_true, y_predict, average='weighted') \n",
    "print('Precision of XGBoost: '+(str(precision)))\n",
    "print('Recall of XGBoost: '+(str(recall)))\n",
    "print('F1-score of XGBoost: '+(str(fscore)))\n",
    "print(classification_report(y_true,y_predict))\n",
    "cm=confusion_matrix(y_true,y_predict)\n",
    "f,ax=plt.subplots(figsize=(5,5))\n",
    "sns.heatmap(cm,annot=True,linewidth=0.5,linecolor=\"red\",fmt=\".0f\",ax=ax)\n",
    "plt.xlabel(\"y_pred\")\n",
    "plt.ylabel(\"y_true\")\n",
    "plt.show()"
   ]
  },
  {
   "cell_type": "code",
   "execution_count": 425,
   "metadata": {},
   "outputs": [],
   "source": [
    "xg_train=xg.predict(X_train)\n",
    "xg_test=xg.predict(X_test)"
   ]
  },
  {
   "cell_type": "markdown",
   "metadata": {},
   "source": [
    "#### Apply RF"
   ]
  },
  {
   "cell_type": "code",
   "execution_count": 426,
   "metadata": {},
   "outputs": [
    {
     "name": "stdout",
     "output_type": "stream",
     "text": [
      "Accuracy of RF: 0.9977777777777778\n",
      "Precision of RF: 0.9979192092550215\n",
      "Recall of RF: 0.9977777777777778\n",
      "F1-score of RF: 0.997802923144969\n",
      "              precision    recall  f1-score   support\n",
      "\n",
      "           0       1.00      0.96      0.98        24\n",
      "           1       1.00      1.00      1.00       393\n",
      "           2       1.00      1.00      1.00         4\n",
      "           3       1.00      1.00      1.00        23\n",
      "           4       0.88      1.00      0.93         7\n",
      "           5       1.00      1.00      1.00        13\n",
      "           6       1.00      1.00      1.00       436\n",
      "\n",
      "    accuracy                           1.00       900\n",
      "   macro avg       0.98      0.99      0.99       900\n",
      "weighted avg       1.00      1.00      1.00       900\n",
      "\n"
     ]
    },
    {
     "data": {
      "image/png": "[encoded data removed]",
      "text/plain": [
       "<Figure size 500x500 with 2 Axes>"
      ]
     },
     "metadata": {},
     "output_type": "display_data"
    }
   ],
   "source": [
    "rf = RandomForestClassifier(random_state = 0)\n",
    "rf.fit(X_train,y_train) \n",
    "rf_score=rf.score(X_test,y_test)\n",
    "y_predict=rf.predict(X_test)\n",
    "y_true=y_test\n",
    "print('Accuracy of RF: '+ str(rf_score))\n",
    "precision,recall,fscore,none= precision_recall_fscore_support(y_true, y_predict, average='weighted') \n",
    "print('Precision of RF: '+(str(precision)))\n",
    "print('Recall of RF: '+(str(recall)))\n",
    "print('F1-score of RF: '+(str(fscore)))\n",
    "print(classification_report(y_true,y_predict))\n",
    "cm=confusion_matrix(y_true,y_predict)\n",
    "f,ax=plt.subplots(figsize=(5,5))\n",
    "sns.heatmap(cm,annot=True,linewidth=0.5,linecolor=\"red\",fmt=\".0f\",ax=ax)\n",
    "plt.xlabel(\"y_pred\")\n",
    "plt.ylabel(\"y_true\")\n",
    "plt.show()"
   ]
  },
  {
   "cell_type": "markdown",
   "metadata": {},
   "source": [
    "#### Hyperparameter optimization (HPO) of random forest using Bayesian optimization with tree-based Parzen estimator (BO-TPE)\n",
    "Based on the GitHub repo for HPO: https://github.com/LiYangHart/Hyperparameter-Optimization-of-Machine-Learning-Algorithms"
   ]
  },
  {
   "cell_type": "code",
   "execution_count": 427,
   "metadata": {},
   "outputs": [
    {
     "name": "stdout",
     "output_type": "stream",
     "text": [
      "100%|██████████| 20/20 [00:14<00:00,  1.36trial/s, best loss: -0.9977777777777778]\n",
      "Random Forest: Hyperopt estimated optimum {'criterion': 0, 'max_depth': 45.0, 'max_features': 7.0, 'min_samples_leaf': 1.0, 'min_samples_split': 6.0, 'n_estimators': 20.0}\n"
     ]
    }
   ],
   "source": [
    "# Hyperparameter optimization of random forest\n",
    "from hyperopt import hp, fmin, tpe, STATUS_OK, Trials\n",
    "from sklearn.model_selection import cross_val_score, StratifiedKFold\n",
    "# Define the objective function\n",
    "def objective(params):\n",
    "    params = {\n",
    "        'n_estimators': int(params['n_estimators']), \n",
    "        'max_depth': int(params['max_depth']),\n",
    "        'max_features': int(params['max_features']),\n",
    "        \"min_samples_split\":int(params['min_samples_split']),\n",
    "        \"min_samples_leaf\":int(params['min_samples_leaf']),\n",
    "        \"criterion\":str(params['criterion'])\n",
    "    }\n",
    "    clf = RandomForestClassifier( **params)\n",
    "    clf.fit(X_train,y_train)\n",
    "    score=clf.score(X_test,y_test)\n",
    "\n",
    "    return {'loss':-score, 'status': STATUS_OK }\n",
    "# Define the hyperparameter configuration space\n",
    "space = {\n",
    "    'n_estimators': hp.quniform('n_estimators', 10, 200, 1),\n",
    "    'max_depth': hp.quniform('max_depth', 5, 50, 1),\n",
    "    \"max_features\":hp.quniform('max_features', 1, 20, 1),\n",
    "    \"min_samples_split\":hp.quniform('min_samples_split',2,11,1),\n",
    "    \"min_samples_leaf\":hp.quniform('min_samples_leaf',1,11,1),\n",
    "    \"criterion\":hp.choice('criterion',['gini','entropy'])\n",
    "}\n",
    "\n",
    "best = fmin(fn=objective,\n",
    "            space=space,\n",
    "            algo=tpe.suggest,\n",
    "            max_evals=20)\n",
    "print(\"Random Forest: Hyperopt estimated optimum {}\".format(best))"
   ]
  },
  {
   "cell_type": "code",
   "execution_count": 428,
   "metadata": {},
   "outputs": [
    {
     "name": "stdout",
     "output_type": "stream",
     "text": [
      "<class 'numpy.ndarray'>\n",
      "[-1.02342176 -0.581691   -0.04934834 -0.04934834 -0.55972423 -0.59874409\n",
      " -0.59874409 -0.56737344 -0.2576803  -0.04839057 -0.04834351 -0.10745475\n",
      " -0.61328167 -0.61515488 -0.23969349 -0.03290131 -0.03290131 -0.21342998\n",
      " -0.0818066  -0.0818066 ]\n",
      "Accuracy of RF: 0.9944444444444445\n",
      "Precision of RF: 0.9944327859208826\n",
      "Recall of RF: 0.9944444444444445\n",
      "F1-score of RF: 0.9942990504182206\n",
      "              precision    recall  f1-score   support\n",
      "\n",
      "           0       0.95      0.83      0.89        24\n",
      "           1       0.99      1.00      1.00       393\n",
      "           2       1.00      1.00      1.00         4\n",
      "           3       1.00      1.00      1.00        23\n",
      "           4       0.88      1.00      0.93         7\n",
      "           5       1.00      1.00      1.00        13\n",
      "           6       1.00      1.00      1.00       436\n",
      "\n",
      "    accuracy                           0.99       900\n",
      "   macro avg       0.97      0.98      0.97       900\n",
      "weighted avg       0.99      0.99      0.99       900\n",
      "\n"
     ]
    },
    {
     "data": {
      "image/png": "[encoded data removed]",
      "text/plain": [
       "<Figure size 500x500 with 2 Axes>"
      ]
     },
     "metadata": {},
     "output_type": "display_data"
    }
   ],
   "source": [
    "rf_hpo = RandomForestClassifier(n_estimators = 71, min_samples_leaf = 1, max_depth = 46, min_samples_split = 9, max_features = 20, criterion = 'entropy')\n",
    "rf_hpo.fit(X_train,y_train)\n",
    "rf_score=rf_hpo.score(X_test,y_test)\n",
    "y_predict=rf_hpo.predict(X_test)\n",
    "y_true=y_test\n",
    "\n",
    "joblib.dump(rf_hpo, './models/clf_rf.joblib')\n",
    "print(type(X_test))\n",
    "print(X_test[0])\n",
    "\n",
    "print('Accuracy of RF: '+ str(rf_score))\n",
    "precision,recall,fscore,none= precision_recall_fscore_support(y_true, y_predict, average='weighted') \n",
    "print('Precision of RF: '+(str(precision)))\n",
    "print('Recall of RF: '+(str(recall)))\n",
    "print('F1-score of RF: '+(str(fscore)))\n",
    "print(classification_report(y_true,y_predict))\n",
    "cm=confusion_matrix(y_true,y_predict)\n",
    "f,ax=plt.subplots(figsize=(5,5))\n",
    "sns.heatmap(cm,annot=True,linewidth=0.5,linecolor=\"red\",fmt=\".0f\",ax=ax)\n",
    "plt.xlabel(\"y_pred\")\n",
    "plt.ylabel(\"y_true\")\n",
    "plt.show()"
   ]
  },
  {
   "cell_type": "code",
   "execution_count": 429,
   "metadata": {
    "collapsed": true
   },
   "outputs": [],
   "source": [
    "rf_train=rf_hpo.predict(X_train)\n",
    "rf_test=rf_hpo.predict(X_test)"
   ]
  },
  {
   "cell_type": "markdown",
   "metadata": {},
   "source": [
    "#### Apply DT"
   ]
  },
  {
   "cell_type": "code",
   "execution_count": 430,
   "metadata": {},
   "outputs": [
    {
     "name": "stdout",
     "output_type": "stream",
     "text": [
      "Accuracy of DT: 0.9955555555555555\n",
      "Precision of DT: 0.9960982216007006\n",
      "Recall of DT: 0.9955555555555555\n",
      "F1-score of DT: 0.9955048809486003\n",
      "              precision    recall  f1-score   support\n",
      "\n",
      "           0       1.00      0.83      0.91        24\n",
      "           1       1.00      1.00      1.00       393\n",
      "           2       1.00      1.00      1.00         4\n",
      "           3       0.96      1.00      0.98        23\n",
      "           4       0.78      1.00      0.88         7\n",
      "           5       1.00      1.00      1.00        13\n",
      "           6       1.00      1.00      1.00       436\n",
      "\n",
      "    accuracy                           1.00       900\n",
      "   macro avg       0.96      0.98      0.97       900\n",
      "weighted avg       1.00      1.00      1.00       900\n",
      "\n"
     ]
    },
    {
     "data": {
      "image/png": "[encoded data removed]",
      "text/plain": [
       "<Figure size 500x500 with 2 Axes>"
      ]
     },
     "metadata": {},
     "output_type": "display_data"
    }
   ],
   "source": [
    "dt = DecisionTreeClassifier(random_state = 0)\n",
    "dt.fit(X_train,y_train) \n",
    "dt_score=dt.score(X_test,y_test)\n",
    "y_predict=dt.predict(X_test)\n",
    "y_true=y_test\n",
    "print('Accuracy of DT: '+ str(dt_score))\n",
    "precision,recall,fscore,none= precision_recall_fscore_support(y_true, y_predict, average='weighted') \n",
    "print('Precision of DT: '+(str(precision)))\n",
    "print('Recall of DT: '+(str(recall)))\n",
    "print('F1-score of DT: '+(str(fscore)))\n",
    "print(classification_report(y_true,y_predict))\n",
    "cm=confusion_matrix(y_true,y_predict)\n",
    "f,ax=plt.subplots(figsize=(5,5))\n",
    "sns.heatmap(cm,annot=True,linewidth=0.5,linecolor=\"red\",fmt=\".0f\",ax=ax)\n",
    "plt.xlabel(\"y_pred\")\n",
    "plt.ylabel(\"y_true\")\n",
    "plt.show()"
   ]
  },
  {
   "cell_type": "markdown",
   "metadata": {},
   "source": [
    "#### Hyperparameter optimization (HPO) of decision tree using Bayesian optimization with tree-based Parzen estimator (BO-TPE)\n",
    "Based on the GitHub repo for HPO: https://github.com/LiYangHart/Hyperparameter-Optimization-of-Machine-Learning-Algorithms"
   ]
  },
  {
   "cell_type": "code",
   "execution_count": 431,
   "metadata": {},
   "outputs": [
    {
     "name": "stdout",
     "output_type": "stream",
     "text": [
      "100%|██████████| 50/50 [00:00<00:00, 67.24trial/s, best loss: -0.9944444444444445]\n",
      "Decision tree: Hyperopt estimated optimum {'criterion': 1, 'max_depth': 30.0, 'max_features': 8.0, 'min_samples_leaf': 1.0, 'min_samples_split': 11.0}\n"
     ]
    }
   ],
   "source": [
    "# Hyperparameter optimization of decision tree\n",
    "from hyperopt import hp, fmin, tpe, STATUS_OK, Trials\n",
    "from sklearn.model_selection import cross_val_score, StratifiedKFold\n",
    "# Define the objective function\n",
    "def objective(params):\n",
    "    params = {\n",
    "        'max_depth': int(params['max_depth']),\n",
    "        'max_features': int(params['max_features']),\n",
    "        \"min_samples_split\":int(params['min_samples_split']),\n",
    "        \"min_samples_leaf\":int(params['min_samples_leaf']),\n",
    "        \"criterion\":str(params['criterion'])\n",
    "    }\n",
    "    clf = DecisionTreeClassifier( **params)\n",
    "    clf.fit(X_train,y_train)\n",
    "    score=clf.score(X_test,y_test)\n",
    "\n",
    "    return {'loss':-score, 'status': STATUS_OK }\n",
    "# Define the hyperparameter configuration space\n",
    "space = {\n",
    "    'max_depth': hp.quniform('max_depth', 5, 50, 1),\n",
    "    \"max_features\":hp.quniform('max_features', 1, 20, 1),\n",
    "    \"min_samples_split\":hp.quniform('min_samples_split',2,11,1),\n",
    "    \"min_samples_leaf\":hp.quniform('min_samples_leaf',1,11,1),\n",
    "    \"criterion\":hp.choice('criterion',['gini','entropy'])\n",
    "}\n",
    "\n",
    "best = fmin(fn=objective,\n",
    "            space=space,\n",
    "            algo=tpe.suggest,\n",
    "            max_evals=50)\n",
    "print(\"Decision tree: Hyperopt estimated optimum {}\".format(best))"
   ]
  },
  {
   "cell_type": "code",
   "execution_count": 432,
   "metadata": {},
   "outputs": [
    {
     "name": "stdout",
     "output_type": "stream",
     "text": [
      "Accuracy of DT: 0.9888888888888889\n",
      "Precision of DT: 0.9894239037888464\n",
      "Recall of DT: 0.9888888888888889\n",
      "F1-score of DT: 0.9890335744593333\n",
      "              precision    recall  f1-score   support\n",
      "\n",
      "           0       0.79      0.79      0.79        24\n",
      "           1       1.00      0.99      1.00       393\n",
      "           2       1.00      1.00      1.00         4\n",
      "           3       0.96      1.00      0.98        23\n",
      "           4       0.78      1.00      0.88         7\n",
      "           5       1.00      1.00      1.00        13\n",
      "           6       1.00      0.99      0.99       436\n",
      "\n",
      "    accuracy                           0.99       900\n",
      "   macro avg       0.93      0.97      0.95       900\n",
      "weighted avg       0.99      0.99      0.99       900\n",
      "\n"
     ]
    },
    {
     "data": {
      "image/png": "[encoded data removed]",
      "text/plain": [
       "<Figure size 500x500 with 2 Axes>"
      ]
     },
     "metadata": {},
     "output_type": "display_data"
    }
   ],
   "source": [
    "dt_hpo = DecisionTreeClassifier(min_samples_leaf = 2, max_depth = 47, min_samples_split = 3, max_features = 19, criterion = 'gini')\n",
    "dt_hpo.fit(X_train,y_train)\n",
    "dt_score=dt_hpo.score(X_test,y_test)\n",
    "y_predict=dt_hpo.predict(X_test)\n",
    "y_true=y_test\n",
    "print('Accuracy of DT: '+ str(dt_score))\n",
    "precision,recall,fscore,none= precision_recall_fscore_support(y_true, y_predict, average='weighted') \n",
    "print('Precision of DT: '+(str(precision)))\n",
    "print('Recall of DT: '+(str(recall)))\n",
    "print('F1-score of DT: '+(str(fscore)))\n",
    "print(classification_report(y_true,y_predict))\n",
    "cm=confusion_matrix(y_true,y_predict)\n",
    "f,ax=plt.subplots(figsize=(5,5))\n",
    "sns.heatmap(cm,annot=True,linewidth=0.5,linecolor=\"red\",fmt=\".0f\",ax=ax)\n",
    "plt.xlabel(\"y_pred\")\n",
    "plt.ylabel(\"y_true\")\n",
    "plt.show()"
   ]
  },
  {
   "cell_type": "code",
   "execution_count": 433,
   "metadata": {
    "collapsed": true
   },
   "outputs": [],
   "source": [
    "dt_train=dt_hpo.predict(X_train)\n",
    "dt_test=dt_hpo.predict(X_test)"
   ]
  },
  {
   "cell_type": "markdown",
   "metadata": {},
   "source": [
    "#### Apply ET"
   ]
  },
  {
   "cell_type": "code",
   "execution_count": 434,
   "metadata": {},
   "outputs": [
    {
     "name": "stdout",
     "output_type": "stream",
     "text": [
      "Accuracy of ET: 0.9988888888888889\n",
      "Precision of ET: 0.9990277777777777\n",
      "Recall of ET: 0.9988888888888889\n",
      "F1-score of ET: 0.9989252182118424\n",
      "              precision    recall  f1-score   support\n",
      "\n",
      "           0       1.00      1.00      1.00        24\n",
      "           1       1.00      1.00      1.00       393\n",
      "           2       1.00      1.00      1.00         4\n",
      "           3       1.00      1.00      1.00        23\n",
      "           4       0.88      1.00      0.93         7\n",
      "           5       1.00      1.00      1.00        13\n",
      "           6       1.00      1.00      1.00       436\n",
      "\n",
      "    accuracy                           1.00       900\n",
      "   macro avg       0.98      1.00      0.99       900\n",
      "weighted avg       1.00      1.00      1.00       900\n",
      "\n"
     ]
    },
    {
     "data": {
      "image/png": "[encoded data removed]",
      "text/plain": [
       "<Figure size 500x500 with 2 Axes>"
      ]
     },
     "metadata": {},
     "output_type": "display_data"
    }
   ],
   "source": [
    "et = ExtraTreesClassifier(random_state = 0)\n",
    "et.fit(X_train,y_train) \n",
    "et_score=et.score(X_test,y_test)\n",
    "y_predict=et.predict(X_test)\n",
    "y_true=y_test\n",
    "print('Accuracy of ET: '+ str(et_score))\n",
    "precision,recall,fscore,none= precision_recall_fscore_support(y_true, y_predict, average='weighted') \n",
    "print('Precision of ET: '+(str(precision)))\n",
    "print('Recall of ET: '+(str(recall)))\n",
    "print('F1-score of ET: '+(str(fscore)))\n",
    "print(classification_report(y_true,y_predict))\n",
    "cm=confusion_matrix(y_true,y_predict)\n",
    "f,ax=plt.subplots(figsize=(5,5))\n",
    "sns.heatmap(cm,annot=True,linewidth=0.5,linecolor=\"red\",fmt=\".0f\",ax=ax)\n",
    "plt.xlabel(\"y_pred\")\n",
    "plt.ylabel(\"y_true\")\n",
    "plt.show()"
   ]
  },
  {
   "cell_type": "markdown",
   "metadata": {},
   "source": [
    "#### Hyperparameter optimization (HPO) of extra trees using Bayesian optimization with tree-based Parzen estimator (BO-TPE)\n",
    "Based on the GitHub repo for HPO: https://github.com/LiYangHart/Hyperparameter-Optimization-of-Machine-Learning-Algorithms"
   ]
  },
  {
   "cell_type": "code",
   "execution_count": 435,
   "metadata": {},
   "outputs": [
    {
     "name": "stdout",
     "output_type": "stream",
     "text": [
      "100%|██████████| 20/20 [00:04<00:00,  4.57trial/s, best loss: -0.9988888888888889]\n",
      "Random Forest: Hyperopt estimated optimum {'criterion': 0, 'max_depth': 21.0, 'max_features': 12.0, 'min_samples_leaf': 1.0, 'min_samples_split': 4.0, 'n_estimators': 152.0}\n"
     ]
    }
   ],
   "source": [
    "# Hyperparameter optimization of extra trees\n",
    "from hyperopt import hp, fmin, tpe, STATUS_OK, Trials\n",
    "from sklearn.model_selection import cross_val_score, StratifiedKFold\n",
    "# Define the objective function\n",
    "def objective(params):\n",
    "    params = {\n",
    "        'n_estimators': int(params['n_estimators']), \n",
    "        'max_depth': int(params['max_depth']),\n",
    "        'max_features': int(params['max_features']),\n",
    "        \"min_samples_split\":int(params['min_samples_split']),\n",
    "        \"min_samples_leaf\":int(params['min_samples_leaf']),\n",
    "        \"criterion\":str(params['criterion'])\n",
    "    }\n",
    "    clf = ExtraTreesClassifier( **params)\n",
    "    clf.fit(X_train,y_train)\n",
    "    score=clf.score(X_test,y_test)\n",
    "\n",
    "    return {'loss':-score, 'status': STATUS_OK }\n",
    "# Define the hyperparameter configuration space\n",
    "space = {\n",
    "    'n_estimators': hp.quniform('n_estimators', 10, 200, 1),\n",
    "    'max_depth': hp.quniform('max_depth', 5, 50, 1),\n",
    "    \"max_features\":hp.quniform('max_features', 1, 20, 1),\n",
    "    \"min_samples_split\":hp.quniform('min_samples_split',2,11,1),\n",
    "    \"min_samples_leaf\":hp.quniform('min_samples_leaf',1,11,1),\n",
    "    \"criterion\":hp.choice('criterion',['gini','entropy'])\n",
    "}\n",
    "\n",
    "best = fmin(fn=objective,\n",
    "            space=space,\n",
    "            algo=tpe.suggest,\n",
    "            max_evals=20)\n",
    "print(\"Random Forest: Hyperopt estimated optimum {}\".format(best))"
   ]
  },
  {
   "cell_type": "code",
   "execution_count": 436,
   "metadata": {},
   "outputs": [
    {
     "name": "stdout",
     "output_type": "stream",
     "text": [
      "Accuracy of ET: 0.9977777777777778\n",
      "Precision of ET: 0.9977777777777778\n",
      "Recall of ET: 0.9977777777777778\n",
      "F1-score of ET: 0.9977777777777778\n",
      "              precision    recall  f1-score   support\n",
      "\n",
      "           0       0.96      0.96      0.96        24\n",
      "           1       1.00      1.00      1.00       393\n",
      "           2       1.00      1.00      1.00         4\n",
      "           3       1.00      1.00      1.00        23\n",
      "           4       1.00      1.00      1.00         7\n",
      "           5       1.00      1.00      1.00        13\n",
      "           6       1.00      1.00      1.00       436\n",
      "\n",
      "    accuracy                           1.00       900\n",
      "   macro avg       0.99      0.99      0.99       900\n",
      "weighted avg       1.00      1.00      1.00       900\n",
      "\n"
     ]
    },
    {
     "data": {
      "image/png": "[encoded data removed]",
      "text/plain": [
       "<Figure size 500x500 with 2 Axes>"
      ]
     },
     "metadata": {},
     "output_type": "display_data"
    }
   ],
   "source": [
    "et_hpo = ExtraTreesClassifier(n_estimators = 53, min_samples_leaf = 1, max_depth = 31, min_samples_split = 5, max_features = 20, criterion = 'entropy')\n",
    "et_hpo.fit(X_train,y_train) \n",
    "et_score=et_hpo.score(X_test,y_test)\n",
    "y_predict=et_hpo.predict(X_test)\n",
    "y_true=y_test\n",
    "print('Accuracy of ET: '+ str(et_score))\n",
    "precision,recall,fscore,none= precision_recall_fscore_support(y_true, y_predict, average='weighted') \n",
    "print('Precision of ET: '+(str(precision)))\n",
    "print('Recall of ET: '+(str(recall)))\n",
    "print('F1-score of ET: '+(str(fscore)))\n",
    "print(classification_report(y_true,y_predict))\n",
    "cm=confusion_matrix(y_true,y_predict)\n",
    "f,ax=plt.subplots(figsize=(5,5))\n",
    "sns.heatmap(cm,annot=True,linewidth=0.5,linecolor=\"red\",fmt=\".0f\",ax=ax)\n",
    "plt.xlabel(\"y_pred\")\n",
    "plt.ylabel(\"y_true\")\n",
    "plt.show()"
   ]
  },
  {
   "cell_type": "code",
   "execution_count": 437,
   "metadata": {
    "collapsed": true
   },
   "outputs": [],
   "source": [
    "et_train=et_hpo.predict(X_train)\n",
    "et_test=et_hpo.predict(X_test)"
   ]
  },
  {
   "cell_type": "markdown",
   "metadata": {},
   "source": [
    "### Apply Stacking\n",
    "The ensemble model that combines the four ML models (DT, RF, ET, XGBoost)"
   ]
  },
  {
   "cell_type": "code",
   "execution_count": 438,
   "metadata": {},
   "outputs": [
    {
     "data": {
      "text/html": [
       "<div>\n",
       "<style scoped>\n",
       "    .dataframe tbody tr th:only-of-type {\n",
       "        vertical-align: middle;\n",
       "    }\n",
       "\n",
       "    .dataframe tbody tr th {\n",
       "        vertical-align: top;\n",
       "    }\n",
       "\n",
       "    .dataframe thead th {\n",
       "        text-align: right;\n",
       "    }\n",
       "</style>\n",
       "<table border=\"1\" class=\"dataframe\">\n",
       "  <thead>\n",
       "    <tr style=\"text-align: right;\">\n",
       "      <th></th>\n",
       "      <th>DecisionTree</th>\n",
       "      <th>RandomForest</th>\n",
       "      <th>ExtraTrees</th>\n",
       "      <th>XgBoost</th>\n",
       "    </tr>\n",
       "  </thead>\n",
       "  <tbody>\n",
       "    <tr>\n",
       "      <th>0</th>\n",
       "      <td>6</td>\n",
       "      <td>6</td>\n",
       "      <td>6</td>\n",
       "      <td>6</td>\n",
       "    </tr>\n",
       "    <tr>\n",
       "      <th>1</th>\n",
       "      <td>1</td>\n",
       "      <td>1</td>\n",
       "      <td>1</td>\n",
       "      <td>1</td>\n",
       "    </tr>\n",
       "    <tr>\n",
       "      <th>2</th>\n",
       "      <td>6</td>\n",
       "      <td>6</td>\n",
       "      <td>6</td>\n",
       "      <td>6</td>\n",
       "    </tr>\n",
       "    <tr>\n",
       "      <th>3</th>\n",
       "      <td>1</td>\n",
       "      <td>1</td>\n",
       "      <td>1</td>\n",
       "      <td>1</td>\n",
       "    </tr>\n",
       "    <tr>\n",
       "      <th>4</th>\n",
       "      <td>6</td>\n",
       "      <td>6</td>\n",
       "      <td>6</td>\n",
       "      <td>6</td>\n",
       "    </tr>\n",
       "  </tbody>\n",
       "</table>\n",
       "</div>"
      ],
      "text/plain": [
       "   DecisionTree  RandomForest  ExtraTrees  XgBoost\n",
       "0             6             6           6        6\n",
       "1             1             1           1        1\n",
       "2             6             6           6        6\n",
       "3             1             1           1        1\n",
       "4             6             6           6        6"
      ]
     },
     "execution_count": 438,
     "metadata": {},
     "output_type": "execute_result"
    }
   ],
   "source": [
    "base_predictions_train = pd.DataFrame( {\n",
    "    'DecisionTree': dt_train.ravel(),\n",
    "        'RandomForest': rf_train.ravel(),\n",
    "     'ExtraTrees': et_train.ravel(),\n",
    "     'XgBoost': xg_train.ravel(),\n",
    "    })\n",
    "base_predictions_train.head(5)"
   ]
  },
  {
   "cell_type": "code",
   "execution_count": 439,
   "metadata": {},
   "outputs": [],
   "source": [
    "dt_train=dt_train.reshape(-1, 1)\n",
    "et_train=et_train.reshape(-1, 1)\n",
    "rf_train=rf_train.reshape(-1, 1)\n",
    "xg_train=xg_train.reshape(-1, 1)\n",
    "dt_test=dt_test.reshape(-1, 1)\n",
    "et_test=et_test.reshape(-1, 1)\n",
    "rf_test=rf_test.reshape(-1, 1)\n",
    "xg_test=xg_test.reshape(-1, 1)"
   ]
  },
  {
   "cell_type": "code",
   "execution_count": 440,
   "metadata": {},
   "outputs": [
    {
     "data": {
      "text/plain": [
       "(5555, 1)"
      ]
     },
     "execution_count": 440,
     "metadata": {},
     "output_type": "execute_result"
    }
   ],
   "source": [
    "dt_train.shape"
   ]
  },
  {
   "cell_type": "code",
   "execution_count": 441,
   "metadata": {},
   "outputs": [],
   "source": [
    "x_train = np.concatenate(( dt_train, et_train, rf_train, xg_train), axis=1)\n",
    "x_test = np.concatenate(( dt_test, et_test, rf_test, xg_test), axis=1)"
   ]
  },
  {
   "cell_type": "code",
   "execution_count": 442,
   "metadata": {},
   "outputs": [
    {
     "name": "stdout",
     "output_type": "stream",
     "text": [
      "Accuracy of Stacking: 0.9966666666666667\n",
      "Precision of Stacking: 0.9967572463768116\n",
      "Recall of Stacking: 0.9966666666666667\n",
      "F1-score of Stacking: 0.996668242710796\n",
      "              precision    recall  f1-score   support\n",
      "\n",
      "           0       0.96      0.92      0.94        24\n",
      "           1       1.00      1.00      1.00       393\n",
      "           2       1.00      1.00      1.00         4\n",
      "           3       1.00      1.00      1.00        23\n",
      "           4       0.88      1.00      0.93         7\n",
      "           5       1.00      1.00      1.00        13\n",
      "           6       1.00      1.00      1.00       436\n",
      "\n",
      "    accuracy                           1.00       900\n",
      "   macro avg       0.98      0.99      0.98       900\n",
      "weighted avg       1.00      1.00      1.00       900\n",
      "\n"
     ]
    },
    {
     "data": {
      "image/png": "[encoded data removed]",
      "text/plain": [
       "<Figure size 500x500 with 2 Axes>"
      ]
     },
     "metadata": {},
     "output_type": "display_data"
    }
   ],
   "source": [
    "stk = xgb.XGBClassifier().fit(x_train, y_train)\n",
    "y_predict=stk.predict(x_test)\n",
    "y_true=y_test\n",
    "stk_score=accuracy_score(y_true,y_predict)\n",
    "print('Accuracy of Stacking: '+ str(stk_score))\n",
    "precision,recall,fscore,none= precision_recall_fscore_support(y_true, y_predict, average='weighted') \n",
    "print('Precision of Stacking: '+(str(precision)))\n",
    "print('Recall of Stacking: '+(str(recall)))\n",
    "print('F1-score of Stacking: '+(str(fscore)))\n",
    "print(classification_report(y_true,y_predict))\n",
    "cm=confusion_matrix(y_true,y_predict)\n",
    "f,ax=plt.subplots(figsize=(5,5))\n",
    "sns.heatmap(cm,annot=True,linewidth=0.5,linecolor=\"red\",fmt=\".0f\",ax=ax)\n",
    "plt.xlabel(\"y_pred\")\n",
    "plt.ylabel(\"y_true\")\n",
    "plt.show()"
   ]
  },
  {
   "cell_type": "markdown",
   "metadata": {},
   "source": [
    "#### Hyperparameter optimization (HPO) of the stacking ensemble model (XGBoost) using Bayesian optimization with tree-based Parzen estimator (BO-TPE)\n",
    "Based on the GitHub repo for HPO: https://github.com/LiYangHart/Hyperparameter-Optimization-of-Machine-Learning-Algorithms"
   ]
  },
  {
   "cell_type": "code",
   "execution_count": 443,
   "metadata": {},
   "outputs": [
    {
     "name": "stdout",
     "output_type": "stream",
     "text": [
      "100%|██████████| 20/20 [00:02<00:00,  8.01trial/s, best loss: -0.9988888888888889]\n",
      "XGBoost: Hyperopt estimated optimum {'learning_rate': 0.06311348833663592, 'max_depth': 46.0, 'n_estimators': 50.0}\n"
     ]
    }
   ],
   "source": [
    "from hyperopt import hp, fmin, tpe, STATUS_OK, Trials\n",
    "from sklearn.model_selection import cross_val_score, StratifiedKFold\n",
    "def objective(params):\n",
    "    params = {\n",
    "        'n_estimators': int(params['n_estimators']), \n",
    "        'max_depth': int(params['max_depth']),\n",
    "        'learning_rate':  abs(float(params['learning_rate'])),\n",
    "\n",
    "    }\n",
    "    clf = xgb.XGBClassifier( **params)\n",
    "    clf.fit(x_train, y_train)\n",
    "    y_pred = clf.predict(x_test)\n",
    "    score = accuracy_score(y_test, y_pred)\n",
    "\n",
    "    return {'loss':-score, 'status': STATUS_OK }\n",
    "\n",
    "space = {\n",
    "    'n_estimators': hp.quniform('n_estimators', 10, 100, 5),\n",
    "    'max_depth': hp.quniform('max_depth', 4, 100, 1),\n",
    "    'learning_rate': hp.normal('learning_rate', 0.01, 0.9),\n",
    "}\n",
    "\n",
    "best = fmin(fn=objective,\n",
    "            space=space,\n",
    "            algo=tpe.suggest,\n",
    "            max_evals=20)\n",
    "print(\"XGBoost: Hyperopt estimated optimum {}\".format(best))"
   ]
  },
  {
   "cell_type": "code",
   "execution_count": 444,
   "metadata": {},
   "outputs": [
    {
     "name": "stdout",
     "output_type": "stream",
     "text": [
      "Accuracy of XGBoost: 0.9977777777777778\n",
      "Precision of XGBoost: 0.9979166666666667\n",
      "Recall of XGBoost: 0.9977777777777778\n",
      "F1-score of XGBoost: 0.9978141071007314\n",
      "              precision    recall  f1-score   support\n",
      "\n",
      "           0       0.96      0.96      0.96        24\n",
      "           1       1.00      1.00      1.00       393\n",
      "           2       1.00      1.00      1.00         4\n",
      "           3       1.00      1.00      1.00        23\n",
      "           4       0.88      1.00      0.93         7\n",
      "           5       1.00      1.00      1.00        13\n",
      "           6       1.00      1.00      1.00       436\n",
      "\n",
      "    accuracy                           1.00       900\n",
      "   macro avg       0.98      0.99      0.98       900\n",
      "weighted avg       1.00      1.00      1.00       900\n",
      "\n"
     ]
    },
    {
     "data": {
      "image/png": "[encoded data removed]",
      "text/plain": [
       "<Figure size 500x500 with 2 Axes>"
      ]
     },
     "metadata": {},
     "output_type": "display_data"
    }
   ],
   "source": [
    "xg = xgb.XGBClassifier(learning_rate= 0.19229249758051492, n_estimators = 30, max_depth = 36)\n",
    "xg.fit(x_train,y_train)\n",
    "xg_score=xg.score(x_test,y_test)\n",
    "y_predict=xg.predict(x_test)\n",
    "y_true=y_test\n",
    "print('Accuracy of XGBoost: '+ str(xg_score))\n",
    "precision,recall,fscore,none= precision_recall_fscore_support(y_true, y_predict, average='weighted') \n",
    "print('Precision of XGBoost: '+(str(precision)))\n",
    "print('Recall of XGBoost: '+(str(recall)))\n",
    "print('F1-score of XGBoost: '+(str(fscore)))\n",
    "print(classification_report(y_true,y_predict))\n",
    "cm=confusion_matrix(y_true,y_predict)\n",
    "f,ax=plt.subplots(figsize=(5,5))\n",
    "sns.heatmap(cm,annot=True,linewidth=0.5,linecolor=\"red\",fmt=\".0f\",ax=ax)\n",
    "plt.xlabel(\"y_pred\")\n",
    "plt.ylabel(\"y_true\")\n",
    "plt.show()"
   ]
  },
  {
   "cell_type": "markdown",
   "metadata": {
    "collapsed": true
   },
   "source": [
    "## Anomaly-based IDS"
   ]
  },
  {
   "cell_type": "markdown",
   "metadata": {},
   "source": [
    "### Generate the port-scan datasets for unknown attack detection"
   ]
  },
  {
   "cell_type": "code",
   "execution_count": 445,
   "metadata": {
    "collapsed": true
   },
   "outputs": [],
   "source": [
    "df=pd.read_csv('./data/CICIDS2017_sample_km.csv')"
   ]
  },
  {
   "cell_type": "code",
   "execution_count": 446,
   "metadata": {},
   "outputs": [
    {
     "data": {
      "text/plain": [
       "Label\n",
       "6    2180\n",
       "1    1966\n",
       "0     120\n",
       "3     114\n",
       "5      64\n",
       "4      36\n",
       "2      18\n",
       "Name: count, dtype: int64"
      ]
     },
     "execution_count": 446,
     "metadata": {},
     "output_type": "execute_result"
    }
   ],
   "source": [
    "df.Label.value_counts()"
   ]
  },
  {
   "cell_type": "code",
   "execution_count": 447,
   "metadata": {
    "collapsed": true
   },
   "outputs": [],
   "source": [
    "df1 = df[df['Label'] != 5]\n",
    "df1['Label'][df1['Label'] > 0] = 1\n",
    "df1.to_csv('./data/CICIDS2017_sample_km_without_portscan.csv',index=0)"
   ]
  },
  {
   "cell_type": "code",
   "execution_count": 448,
   "metadata": {
    "collapsed": true
   },
   "outputs": [],
   "source": [
    "df2 = df[df['Label'] == 5]\n",
    "df2['Label'][df2['Label'] == 5] = 1\n",
    "df2.to_csv('./data/CICIDS2017_sample_km_portscan.csv',index=0)"
   ]
  },
  {
   "cell_type": "markdown",
   "metadata": {},
   "source": [
    "### Read the generated datasets for unknown attack detection"
   ]
  },
  {
   "cell_type": "code",
   "execution_count": 449,
   "metadata": {
    "collapsed": true
   },
   "outputs": [],
   "source": [
    "df1 = pd.read_csv('./data/CICIDS2017_sample_km_without_portscan.csv')\n",
    "df2 = pd.read_csv('./data/CICIDS2017_sample_km_portscan.csv')"
   ]
  },
  {
   "cell_type": "code",
   "execution_count": 450,
   "metadata": {},
   "outputs": [],
   "source": [
    "features = df1.drop(['Label'],axis=1).dtypes[df1.dtypes != 'object'].index\n",
    "df1[features] = df1[features].apply(\n",
    "    lambda x: (x - x.mean()) / (x.std()))\n",
    "df2[features] = df2[features].apply(\n",
    "    lambda x: (x - x.mean()) / (x.std()))\n",
    "df1 = df1.fillna(0)\n",
    "df2 = df2.fillna(0)"
   ]
  },
  {
   "cell_type": "code",
   "execution_count": 451,
   "metadata": {},
   "outputs": [
    {
     "data": {
      "text/plain": [
       "Label\n",
       "1    4314\n",
       "0     120\n",
       "Name: count, dtype: int64"
      ]
     },
     "execution_count": 451,
     "metadata": {},
     "output_type": "execute_result"
    }
   ],
   "source": [
    "df1.Label.value_counts()"
   ]
  },
  {
   "cell_type": "code",
   "execution_count": 452,
   "metadata": {
    "scrolled": true
   },
   "outputs": [
    {
     "data": {
      "text/plain": [
       "Label\n",
       "1    64\n",
       "Name: count, dtype: int64"
      ]
     },
     "execution_count": 452,
     "metadata": {},
     "output_type": "execute_result"
    }
   ],
   "source": [
    "df2.Label.value_counts()"
   ]
  },
  {
   "cell_type": "code",
   "execution_count": 453,
   "metadata": {},
   "outputs": [],
   "source": [
    "df2p=df1[df1['Label']==0]\n",
    "df2pp=df2p.sample(n=None, frac=1255/18225, replace=False, weights=None, random_state=None, axis=0)\n",
    "df2=pd.concat([df2, df2pp])"
   ]
  },
  {
   "cell_type": "code",
   "execution_count": 454,
   "metadata": {},
   "outputs": [
    {
     "data": {
      "text/plain": [
       "Label\n",
       "1    64\n",
       "0     8\n",
       "Name: count, dtype: int64"
      ]
     },
     "execution_count": 454,
     "metadata": {},
     "output_type": "execute_result"
    }
   ],
   "source": [
    "df2.Label.value_counts()"
   ]
  },
  {
   "cell_type": "code",
   "execution_count": 455,
   "metadata": {
    "collapsed": true
   },
   "outputs": [],
   "source": [
    "df = df1._append(df2)"
   ]
  },
  {
   "cell_type": "code",
   "execution_count": 456,
   "metadata": {},
   "outputs": [
    {
     "data": {
      "text/plain": [
       "1    4378\n",
       "0     128\n",
       "Name: count, dtype: int64"
      ]
     },
     "execution_count": 456,
     "metadata": {},
     "output_type": "execute_result"
    }
   ],
   "source": [
    "X = df.drop(['Label'],axis=1) .values\n",
    "y = df.iloc[:, -1].values.reshape(-1,1)\n",
    "y=np.ravel(y)\n",
    "pd.Series(y).value_counts()"
   ]
  },
  {
   "cell_type": "markdown",
   "metadata": {},
   "source": [
    "### Feature engineering (IG, FCBF, and KPCA)"
   ]
  },
  {
   "cell_type": "markdown",
   "metadata": {},
   "source": [
    "#### Feature selection by information gain (IG)"
   ]
  },
  {
   "cell_type": "code",
   "execution_count": 457,
   "metadata": {},
   "outputs": [],
   "source": [
    "from sklearn.feature_selection import mutual_info_classif\n",
    "importances = mutual_info_classif(X, y)"
   ]
  },
  {
   "cell_type": "code",
   "execution_count": 458,
   "metadata": {},
   "outputs": [],
   "source": [
    "# calculate the sum of importance scores\n",
    "f_list = sorted(zip(map(lambda x: round(x, 4), importances), features), reverse=True)\n",
    "Sum = 0\n",
    "fs = []\n",
    "for i in range(0, len(f_list)):\n",
    "    Sum = Sum + f_list[i][0]\n",
    "    fs.append(f_list[i][1])"
   ]
  },
  {
   "cell_type": "code",
   "execution_count": 459,
   "metadata": {},
   "outputs": [],
   "source": [
    "# select the important features from top to bottom until the accumulated importance reaches 90%\n",
    "f_list2 = sorted(zip(map(lambda x: round(x, 4), importances/Sum), features), reverse=True)\n",
    "Sum2 = 0\n",
    "fs = []\n",
    "for i in range(0, len(f_list2)):\n",
    "    Sum2 = Sum2 + f_list2[i][0]\n",
    "    fs.append(f_list2[i][1])\n",
    "    if Sum2>=0.9:\n",
    "        break        "
   ]
  },
  {
   "cell_type": "code",
   "execution_count": 460,
   "metadata": {},
   "outputs": [],
   "source": [
    "X_fs = df[fs].values"
   ]
  },
  {
   "cell_type": "code",
   "execution_count": 461,
   "metadata": {},
   "outputs": [
    {
     "data": {
      "text/plain": [
       "(4506, 43)"
      ]
     },
     "execution_count": 461,
     "metadata": {},
     "output_type": "execute_result"
    }
   ],
   "source": [
    "X_fs.shape"
   ]
  },
  {
   "cell_type": "code",
   "execution_count": 462,
   "metadata": {},
   "outputs": [
    {
     "data": {
      "text/plain": [
       "array([[-1.23422597, -0.06306226, -0.06306226, ..., -0.08164702,\n",
       "        -0.0430758 , -0.04960396],\n",
       "       [-1.25578791, -0.06308867, -0.06308867, ..., -0.08047663,\n",
       "        -0.04154261, -0.04960396],\n",
       "       [-1.2558666 , -0.06534742, -0.06534742, ..., -0.08164471,\n",
       "        -0.04298819, -0.04308556],\n",
       "       ...,\n",
       "       [-1.2558666 , -0.06728916, -0.06728916, ..., -0.08164818,\n",
       "         0.98701021, -0.06264076],\n",
       "       [-1.17520606, -0.06783073, -0.06783073, ..., -0.08159151,\n",
       "        -0.0430758 , -0.05612236],\n",
       "       [-1.2558666 , -0.06669475, -0.06669475, ..., -0.08159267,\n",
       "        -0.04298819, -0.05612236]])"
      ]
     },
     "execution_count": 462,
     "metadata": {},
     "output_type": "execute_result"
    }
   ],
   "source": [
    "X_fs"
   ]
  },
  {
   "cell_type": "markdown",
   "metadata": {},
   "source": [
    "#### Feature selection by Fast Correlation Based Filter (FCBF)\n",
    "\n",
    "The module is imported from the GitHub repo: https://github.com/SantiagoEG/FCBF_module"
   ]
  },
  {
   "cell_type": "code",
   "execution_count": 463,
   "metadata": {
    "collapsed": true
   },
   "outputs": [],
   "source": [
    "def count_vals(x):\n",
    "    vals = np.unique(x)\n",
    "    occ = np.zeros(shape = vals.shape)    \n",
    "    for i in range(vals.size):\n",
    "        occ[i] = np.sum(x == vals[i])\n",
    "    return occ\n",
    "\n",
    "def entropy(x):\n",
    "    n = float(x.shape[0])\n",
    "    ocurrence = count_vals(x)\n",
    "    px = ocurrence / n\n",
    "    return -1* np.sum(px*np.log2(px))\n",
    "\n",
    "def symmetricalUncertain(x,y):\n",
    "    n = float(y.shape[0])\n",
    "    vals = np.unique(y)\n",
    "    # Computing Entropy for the feature x. \n",
    "    Hx = entropy(x)\n",
    "    # Computing Entropy for the feature y.\n",
    "    Hy = entropy(y)\n",
    "    #Computing Joint entropy between x and y.\n",
    "    partial = np.zeros(shape = (vals.shape[0]))\n",
    "    for i in range(vals.shape[0]):    \n",
    "       partial[i] = entropy(x[y == vals[i]]) \n",
    "    \n",
    "    partial[np.isnan(partial)==1] = 0      \n",
    "    py = count_vals(y).astype(dtype = 'float64') / n\n",
    "    Hxy = np.sum(py[py > 0]*partial) \n",
    "    IG = Hx-Hxy\n",
    "    return 2*IG/(Hx+Hy)\n",
    "\n",
    "def suGroup(x, n):\n",
    "    m = x.shape[0]\n",
    "    x = np.reshape(x, (n,int(m//n))).T\n",
    "    m = x.shape[1]\n",
    "    SU_matrix = np.zeros(shape = (m,m))\n",
    "    for j in range(m-1):\n",
    "        x2 = x[:,j+1::]\n",
    "        y = x[:,j]\n",
    "        temp = np.apply_along_axis(symmetricalUncertain, 0, x2, y)\n",
    "        for k in range(temp.shape[0]):\n",
    "            SU_matrix[j,j+1::] = temp\n",
    "            SU_matrix[j+1::,j] = temp\n",
    "    \n",
    "    return 1/float(m-1)*np.sum(SU_matrix, axis = 1)\n",
    "\n",
    "def isprime(a):\n",
    "    return all(a % i for i in range(2, a))\n",
    "\n",
    "\n",
    "\"\"\"\n",
    "get\n",
    "\"\"\"\n",
    "\n",
    "def get_i(a):\n",
    "    if isprime(a):\n",
    "        a -= 1\n",
    "    return filter(lambda x: a % x == 0, range(2,a))\n",
    "\n",
    "\n",
    "\"\"\"\n",
    "FCBF - Fast Correlation Based Filter\n",
    "\n",
    "L. Yu and H. Liu. Feature Selection for High‐Dimensional Data: A Fast Correlation‐Based Filter Solution. \n",
    "In Proceedings of The Twentieth International Conference on Machine Leaning (ICML‐03), 856‐863.\n",
    "Washington, D.C., August 21‐24, 2003.\n",
    "\"\"\"\n",
    "\n",
    "class FCBF:\n",
    "    \n",
    "    idx_sel = []\n",
    "    \n",
    "    \n",
    "    def __init__(self, th = 0.01):\n",
    "        '''\n",
    "        Parameters\n",
    "        ---------------\n",
    "            th = The initial threshold \n",
    "        '''\n",
    "        self.th = th\n",
    "\n",
    "\n",
    "    def fit(self, x, y):\n",
    "        '''\n",
    "        This function executes FCBF algorithm and saves indexes \n",
    "        of selected features in self.idx_sel\n",
    "        \n",
    "        Parameters\n",
    "        ---------------\n",
    "            x = dataset  [NxM] \n",
    "            y = label    [Nx1]\n",
    "        '''\n",
    "        self.idx_sel = []\n",
    "        \"\"\"\n",
    "        First Stage: Computing the SU for each feature with the response.\n",
    "        \"\"\"\n",
    "        SU_vec = np.apply_along_axis(symmetricalUncertain, 0, x, y)\n",
    "        SU_list = SU_vec[SU_vec > self.th]\n",
    "        SU_list[::-1].sort()\n",
    "        \n",
    "        m = x[:,SU_vec > self.th].shape\n",
    "        x_sorted = np.zeros(shape = m)\n",
    "        \n",
    "        for i in range(m[1]):\n",
    "            ind = np.argmax(SU_vec)\n",
    "            SU_vec[ind] = 0\n",
    "            x_sorted[:,i] = x[:,ind].copy()\n",
    "            self.idx_sel.append(ind)\n",
    "        \n",
    "        \"\"\"\n",
    "        Second Stage: Identify relationships between feature to remove redundancy.\n",
    "        \"\"\"\n",
    "        j = 0\n",
    "        while True:\n",
    "            \"\"\"\n",
    "            Stopping Criteria:The search finishes\n",
    "            \"\"\"\n",
    "            if j >= x_sorted.shape[1]: break\n",
    "            y = x_sorted[:,j].copy()\n",
    "            x_list = x_sorted[:,j+1:].copy()\n",
    "            if x_list.shape[1] == 0: break\n",
    "                \n",
    "                \n",
    "            SU_list_2 = SU_list[j+1:]\n",
    "            SU_x = np.apply_along_axis(symmetricalUncertain, 0, \n",
    "                                       x_list, y)\n",
    "            \n",
    "            comp_SU = SU_x >= SU_list_2\n",
    "            to_remove = np.where(comp_SU)[0] + j + 1 \n",
    "            if to_remove.size > 0:\n",
    "                x_sorted = np.delete(x_sorted, to_remove, axis = 1)\n",
    "                SU_list = np.delete(SU_list, to_remove, axis = 0)\n",
    "                to_remove.sort()\n",
    "                for r in reversed(to_remove): \n",
    "                    self.idx_sel.remove(self.idx_sel[r])\n",
    "            j = j + 1        \n",
    "            \n",
    "    def fit_transform(self, x, y):\n",
    "        '''\n",
    "        This function fits the feature selection \n",
    "        algorithm and returns the resulting subset.\n",
    "        \n",
    "        Parameters\n",
    "        ---------------\n",
    "            x = dataset  [NxM] \n",
    "            y = label    [Nx1]\n",
    "        '''\n",
    "        self.fit(x, y)\n",
    "        return x[:,self.idx_sel]\n",
    "         \n",
    "    def transform(self, x):\n",
    "        '''\n",
    "        This function applies the selection\n",
    "        to the vector x.\n",
    "        \n",
    "        Parameters\n",
    "        ---------------\n",
    "            x = dataset  [NxM] \n",
    "        '''\n",
    "        return x[:, self.idx_sel]  \n",
    "\n",
    "\n",
    "\"\"\"\n",
    "FCBF# - Fast Correlation Based Filter \n",
    "B. Senliol, G. Gulgezen, et al. Fast Correlation Based Filter (FCBF) with a Different Search Strategy. \n",
    "In Computer and Information Sciences (ISCIS ‘08) 23rd International Symposium on, pages 1‐4. \n",
    "Istanbul, October 27‐29, 2008.\n",
    "\"\"\"\n",
    "class FCBFK(FCBF):\n",
    "    \n",
    "    idx_sel = []\n",
    "    \n",
    "    \n",
    "    def __init__(self, k = 10):\n",
    "        '''\n",
    "        Parameters\n",
    "        ---------------\n",
    "            k = Number of features to include in the\n",
    "            subset.\n",
    "        '''\n",
    "        self.k = k\n",
    "\n",
    "\n",
    "    def fit(self, x, y):\n",
    "        '''\n",
    "        This function executes FCBFK algorithm and saves indexes \n",
    "        of selected features in self.idx_sel\n",
    "        \n",
    "        Parameters\n",
    "        ---------------\n",
    "            x = dataset  [NxM] \n",
    "            y = label    [Nx1]\n",
    "        '''        \n",
    "        self.idx_sel = []\n",
    "        \"\"\"\n",
    "        First Stage: Computing the SU for each feature with the response.\n",
    "        \"\"\"    \n",
    "        SU_vec = np.apply_along_axis(symmetricalUncertain, 0, x, y)\n",
    "        \n",
    "        SU_list = SU_vec[SU_vec > 0]\n",
    "        SU_list[::-1].sort()\n",
    "        \n",
    "        m = x[:,SU_vec > 0].shape\n",
    "        x_sorted = np.zeros(shape = m)\n",
    "        \n",
    "        for i in range(m[1]):\n",
    "            ind = np.argmax(SU_vec)\n",
    "            SU_vec[ind] = 0\n",
    "            x_sorted[:,i] = x[:,ind].copy() \n",
    "            self.idx_sel.append(ind)\n",
    "            \n",
    "        \"\"\"\n",
    "        Second Stage: Identify relationships between features to remove redundancy with stopping \n",
    "        criteria (features in x_best == k).\n",
    "        \"\"\"    \n",
    "        j = 0\n",
    "        while True:\n",
    "            y = x_sorted[:,j].copy()\n",
    "            SU_list_2 = SU_list[j+1:]    \n",
    "            x_list = x_sorted[:,j+1:].copy()\n",
    "            \n",
    "            \"\"\"\n",
    "            Stopping Criteria:The search finishes\n",
    "            \"\"\"\n",
    "            if x_list.shape[1] == 0: break\n",
    "                \n",
    "                \n",
    "            SU_x = np.apply_along_axis(symmetricalUncertain, 0, \n",
    "                                       x_list, y)\n",
    "            \n",
    "            comp_SU = SU_x >= SU_list_2\n",
    "            to_remove = np.where(comp_SU)[0] + j + 1 \n",
    "            if to_remove.size > 0 and x.shape[1] > self.k:\n",
    "    \n",
    "                for i in reversed(to_remove):\n",
    "                    \n",
    "                    x_sorted = np.delete(x_sorted, i, axis = 1)\n",
    "                    SU_list = np.delete(SU_list, i, axis = 0)                \n",
    "                    self.idx_sel.remove(self.idx_sel[i])\n",
    "                    if x_sorted.shape[1] == self.k: break  \n",
    "                    \n",
    "            if x_list.shape[1] == 1 or x_sorted.shape[1] == self.k: \n",
    "                break    \n",
    "            j = j + 1\n",
    "            \n",
    "        if len(self.idx_sel) > self.k:\n",
    "            self.idx_sel = self.idx_sel[:self.k]\n",
    "            \n",
    "            \n",
    "            \n",
    "\"\"\"\n",
    "FCBFiP - Fast Correlation Based Filter in Pieces\n",
    "\"\"\"            \n",
    "            \n",
    "class FCBFiP(FCBF):\n",
    "    \n",
    "    idx_sel = []\n",
    "\n",
    "\n",
    "    def __init__(self, k = 10, npieces = 2):\n",
    "        '''\n",
    "        Parameters\n",
    "        ---------------\n",
    "            k = Number of features to include in the\n",
    "            subset.\n",
    "            npieces = Number of pieces to divide the \n",
    "            feature space.\n",
    "        '''\n",
    "        self.k = k\n",
    "        self.npieces = npieces\n",
    "\n",
    "    def fit(self, x, y):\n",
    "        '''\n",
    "        This function executes FCBF algorithm and saves indexes \n",
    "        of selected features in self.idx_sel\n",
    "        \n",
    "        Parameters\n",
    "        ---------------\n",
    "            x = dataset  [NxM] \n",
    "            y = label    [Nx1]\n",
    "        '''\n",
    "    \n",
    "        \"\"\"\n",
    "        First Stage: Computing the SU for each feature with the response. We sort the \n",
    "        features. When we have a prime number of features we remove the last one from the\n",
    "        sorted features list.\n",
    "        \"\"\"      \n",
    "        m = x.shape\n",
    "        nfeaturesPieces = int(m[1] / float(self.npieces))        \n",
    "        SU_vec = np.apply_along_axis(symmetricalUncertain, 0, x, y)\n",
    "        \n",
    "        x_sorted = np.zeros(shape = m, dtype = 'float64')        \n",
    "        idx_sorted = np.zeros(shape = m[1], dtype = 'int64')\n",
    "        for i in range(m[1]):\n",
    "            ind = np.argmax(SU_vec)\n",
    "            SU_vec[ind] = -1\n",
    "            idx_sorted[i]= ind \n",
    "            x_sorted[:,i] = x[:,ind].copy() \n",
    "\n",
    "        if isprime(m[1]): \n",
    "            x_sorted = np.delete(x_sorted, m[1]-1, axis = 1 )\n",
    "            ind_prime = idx_sorted[m[1]-1]\n",
    "            idx_sorted = np.delete(idx_sorted, m[1]-1)\n",
    "            #m = x_sorted.shape\n",
    "        \"\"\"\n",
    "        Second Stage: Identify relationships between features into its vecinity\n",
    "        to remove redundancy with stopping criteria (features in x_best == k).\n",
    "        \"\"\"   \n",
    "        \n",
    "        x_2d = np.reshape(x_sorted.T, (self.npieces, nfeaturesPieces*m[0])).T\n",
    "    \n",
    "        SU_x =  np.apply_along_axis(suGroup, 0, x_2d, nfeaturesPieces)\n",
    "        SU_x = np.reshape(SU_x.T, (self.npieces*nfeaturesPieces,))\n",
    "        idx_sorted2 = np.zeros(shape = idx_sorted.shape, dtype = 'int64')\n",
    "        SU_x[np.isnan(SU_x)] = 1        \n",
    "        \n",
    "        for i in range(idx_sorted.shape[0]):\n",
    "            ind =  np.argmin(SU_x)\n",
    "            idx_sorted2[i] = idx_sorted[ind]\n",
    "            SU_x[ind] = 10    \n",
    "        \n",
    "        \"\"\"\n",
    "        Scoring step\n",
    "        \"\"\"        \n",
    "        self.scores = np.zeros(shape = m[1], dtype = 'int64') \n",
    "           \n",
    "        for i in range(m[1]):\n",
    "            if i in idx_sorted:\n",
    "                self.scores[i] = np.argwhere(i == idx_sorted) + np.argwhere(i == idx_sorted2)\n",
    "        if isprime(m[1]): \n",
    "            self.scores[ind_prime] = 2*m[1]\n",
    "        self.set_k(self.k)\n",
    "\n",
    "\n",
    "    def set_k(self, k):\n",
    "        self.k = k \n",
    "        scores_temp = -1*self.scores\n",
    "        \n",
    "        self.idx_sel = np.zeros(shape = self.k, dtype = 'int64')\n",
    "        for i in range(self.k):\n",
    "            ind =  np.argmax(scores_temp)\n",
    "            scores_temp[ind] = -100000000\n",
    "            self.idx_sel[i] = ind\n",
    "\n",
    "\n",
    "\n",
    "\n",
    "fcbf = FCBFK(k = 20)\n",
    "#fcbf.fit(X_fs, y)"
   ]
  },
  {
   "cell_type": "code",
   "execution_count": 464,
   "metadata": {},
   "outputs": [],
   "source": [
    "X_fss = fcbf.fit_transform(X_fs,y)"
   ]
  },
  {
   "cell_type": "code",
   "execution_count": 465,
   "metadata": {},
   "outputs": [
    {
     "data": {
      "text/plain": [
       "(4506, 20)"
      ]
     },
     "execution_count": 465,
     "metadata": {},
     "output_type": "execute_result"
    }
   ],
   "source": [
    "X_fss.shape"
   ]
  },
  {
   "cell_type": "code",
   "execution_count": 466,
   "metadata": {},
   "outputs": [
    {
     "data": {
      "text/plain": [
       "array([[-0.31229341, -0.31301059, -0.22070214, ...,  6.22710218,\n",
       "         3.67009904,  0.6649161 ],\n",
       "       [-0.31229341, -0.31301059, -0.22070214, ...,  5.30519552,\n",
       "         4.27771568,  0.6649161 ],\n",
       "       [ 8.93579779,  8.93316161,  8.504896  , ...,  0.19117775,\n",
       "         0.13673308, -0.11552197],\n",
       "       ...,\n",
       "       [ 8.35779209,  8.35527585,  4.03738975, ..., -0.0225424 ,\n",
       "        -0.02083   , -0.14640185],\n",
       "       [ 0.07304372,  0.07224658,  0.19812657, ..., -0.20620815,\n",
       "        -0.25173953, -0.14984858],\n",
       "       [ 8.35779209,  8.35527585,  7.10880029, ...,  0.1243902 ,\n",
       "         0.07140205, -0.13592098]])"
      ]
     },
     "execution_count": 466,
     "metadata": {},
     "output_type": "execute_result"
    }
   ],
   "source": [
    "X_fss"
   ]
  },
  {
   "cell_type": "markdown",
   "metadata": {},
   "source": [
    "####  kernel principal component analysis (KPCA)"
   ]
  },
  {
   "cell_type": "code",
   "execution_count": 467,
   "metadata": {},
   "outputs": [],
   "source": [
    "from sklearn.decomposition import KernelPCA\n",
    "kpca = KernelPCA(n_components = 10, kernel = 'rbf')\n",
    "kpca.fit(X_fss, y)\n",
    "X_kpca = kpca.transform(X_fss)\n",
    "\n",
    "# from sklearn.decomposition import PCA\n",
    "# kpca = PCA(n_components = 10)\n",
    "# kpca.fit(X_fss, y)\n",
    "# X_kpca = kpca.transform(X_fss)"
   ]
  },
  {
   "cell_type": "markdown",
   "metadata": {},
   "source": [
    "### Train-test split after feature selection"
   ]
  },
  {
   "cell_type": "code",
   "execution_count": 468,
   "metadata": {
    "collapsed": true
   },
   "outputs": [],
   "source": [
    "X_train = X_kpca[:len(df1)]\n",
    "y_train = y[:len(df1)]\n",
    "X_test = X_kpca[len(df1):]\n",
    "y_test = y[len(df1):]"
   ]
  },
  {
   "cell_type": "markdown",
   "metadata": {},
   "source": [
    "### Solve class-imbalance by SMOTE"
   ]
  },
  {
   "cell_type": "code",
   "execution_count": 469,
   "metadata": {},
   "outputs": [
    {
     "data": {
      "text/plain": [
       "1    4314\n",
       "0     120\n",
       "Name: count, dtype: int64"
      ]
     },
     "execution_count": 469,
     "metadata": {},
     "output_type": "execute_result"
    }
   ],
   "source": [
    "pd.Series(y_train).value_counts()"
   ]
  },
  {
   "cell_type": "code",
   "execution_count": null,
   "metadata": {},
   "outputs": [
    {
     "ename": "TypeError",
     "evalue": "SMOTE.__init__() got an unexpected keyword argument 'n_jobs'",
     "output_type": "error",
     "traceback": [
      "\u001b[0;31m---------------------------------------------------------------------------\u001b[0m",
      "\u001b[0;31mTypeError\u001b[0m                                 Traceback (most recent call last)",
      "Cell \u001b[0;32mIn[470], line 2\u001b[0m\n\u001b[1;32m      1\u001b[0m \u001b[38;5;28;01mfrom\u001b[39;00m \u001b[38;5;21;01mimblearn\u001b[39;00m\u001b[38;5;21;01m.\u001b[39;00m\u001b[38;5;21;01mover_sampling\u001b[39;00m \u001b[38;5;28;01mimport\u001b[39;00m SMOTE\n\u001b[0;32m----> 2\u001b[0m smote\u001b[38;5;241m=\u001b[39m\u001b[43mSMOTE\u001b[49m\u001b[43m(\u001b[49m\u001b[43mn_jobs\u001b[49m\u001b[38;5;241;43m=\u001b[39;49m\u001b[38;5;241;43m-\u001b[39;49m\u001b[38;5;241;43m1\u001b[39;49m\u001b[43m,\u001b[49m\u001b[43msampling_strategy\u001b[49m\u001b[38;5;241;43m=\u001b[39;49m\u001b[43m{\u001b[49m\u001b[38;5;241;43m1\u001b[39;49m\u001b[43m:\u001b[49m\u001b[38;5;241;43m18225\u001b[39;49m\u001b[43m}\u001b[49m\u001b[43m)\u001b[49m\n\u001b[1;32m      3\u001b[0m X_train, y_train \u001b[38;5;241m=\u001b[39m smote\u001b[38;5;241m.\u001b[39mfit_resample(X_train, y_train)\n",
      "\u001b[0;31mTypeError\u001b[0m: SMOTE.__init__() got an unexpected keyword argument 'n_jobs'"
     ]
    }
   ],
   "source": [
    "from imblearn.over_sampling import SMOTE\n",
    "smote=SMOTE(sampling_strategy={1:18225})\n",
    "X_train, y_train = smote.fit_resample(X_train, y_train)"
   ]
  },
  {
   "cell_type": "code",
   "execution_count": null,
   "metadata": {},
   "outputs": [],
   "source": [
    "pd.Series(y_train).value_counts()"
   ]
  },
  {
   "cell_type": "code",
   "execution_count": null,
   "metadata": {},
   "outputs": [],
   "source": [
    "pd.Series(y_test).value_counts()"
   ]
  },
  {
   "cell_type": "markdown",
   "metadata": {},
   "source": [
    "### Apply the cluster labeling (CL) k-means method"
   ]
  },
  {
   "cell_type": "code",
   "execution_count": null,
   "metadata": {
    "collapsed": true
   },
   "outputs": [],
   "source": [
    "from sklearn.cluster import KMeans\n",
    "from sklearn.cluster import DBSCAN,MeanShift\n",
    "from sklearn.cluster import SpectralClustering,AgglomerativeClustering,AffinityPropagation,Birch,MiniBatchKMeans,MeanShift \n",
    "from sklearn.mixture import GaussianMixture, BayesianGaussianMixture\n",
    "from sklearn.metrics import classification_report\n",
    "from sklearn import metrics"
   ]
  },
  {
   "cell_type": "code",
   "execution_count": null,
   "metadata": {
    "collapsed": true
   },
   "outputs": [],
   "source": [
    "def CL_kmeans(X_train, X_test, y_train, y_test,n,b=100):\n",
    "    km_cluster = MiniBatchKMeans(n_clusters=n,batch_size=b)\n",
    "    result = km_cluster.fit_predict(X_train)\n",
    "    result2 = km_cluster.predict(X_test)\n",
    "\n",
    "    count=0\n",
    "    a=np.zeros(n)\n",
    "    b=np.zeros(n)\n",
    "    for v in range(0,n):\n",
    "        for i in range(0,len(y_train)):\n",
    "            if result[i]==v:\n",
    "                if y_train[i]==1:\n",
    "                    a[v]=a[v]+1\n",
    "                else:\n",
    "                    b[v]=b[v]+1\n",
    "    list1=[]\n",
    "    list2=[]\n",
    "    for v in range(0,n):\n",
    "        if a[v]<=b[v]:\n",
    "            list1.append(v)\n",
    "        else: \n",
    "            list2.append(v)\n",
    "    for v in range(0,len(y_test)):\n",
    "        if result2[v] in list1:\n",
    "            result2[v]=0\n",
    "        elif result2[v] in list2:\n",
    "            result2[v]=1\n",
    "        else:\n",
    "            print(\"-1\")\n",
    "    print(classification_report(y_test, result2))\n",
    "    cm=confusion_matrix(y_test,result2)\n",
    "    acc=metrics.accuracy_score(y_test,result2)\n",
    "    print(str(acc))\n",
    "    print(cm)"
   ]
  },
  {
   "cell_type": "code",
   "execution_count": null,
   "metadata": {},
   "outputs": [],
   "source": [
    "CL_kmeans(X_train, X_test, y_train, y_test, 8)"
   ]
  },
  {
   "cell_type": "markdown",
   "metadata": {},
   "source": [
    "### Hyperparameter optimization of CL-k-means\n",
    "Tune \"k\""
   ]
  },
  {
   "cell_type": "code",
   "execution_count": null,
   "metadata": {
    "scrolled": true
   },
   "outputs": [],
   "source": [
    "#Hyperparameter optimization by BO-GP\n",
    "from skopt.space import Real, Integer\n",
    "from skopt.utils import use_named_args\n",
    "from sklearn import metrics\n",
    "\n",
    "space  = [Integer(2, 50, name='n_clusters')]\n",
    "@use_named_args(space)\n",
    "def objective(**params):\n",
    "    km_cluster = MiniBatchKMeans(batch_size=100, **params)\n",
    "    n=params['n_clusters']\n",
    "    \n",
    "    result = km_cluster.fit_predict(X_train)\n",
    "    result2 = km_cluster.predict(X_test)\n",
    "\n",
    "    count=0\n",
    "    a=np.zeros(n)\n",
    "    b=np.zeros(n)\n",
    "    for v in range(0,n):\n",
    "        for i in range(0,len(y_train)):\n",
    "            if result[i]==v:\n",
    "                if y_train[i]==1:\n",
    "                    a[v]=a[v]+1\n",
    "                else:\n",
    "                    b[v]=b[v]+1\n",
    "    list1=[]\n",
    "    list2=[]\n",
    "    for v in range(0,n):\n",
    "        if a[v]<=b[v]:\n",
    "            list1.append(v)\n",
    "        else: \n",
    "            list2.append(v)\n",
    "    for v in range(0,len(y_test)):\n",
    "        if result2[v] in list1:\n",
    "            result2[v]=0\n",
    "        elif result2[v] in list2:\n",
    "            result2[v]=1\n",
    "        else:\n",
    "            print(\"-1\")\n",
    "    cm=metrics.accuracy_score(y_test,result2)\n",
    "    print(str(n)+\" \"+str(cm))\n",
    "    return (1-cm)\n",
    "from skopt import gp_minimize\n",
    "import time\n",
    "t1=time.time()\n",
    "res_gp = gp_minimize(objective, space, n_calls=20, random_state=0)\n",
    "t2=time.time()\n",
    "print(t2-t1)\n",
    "print(\"Best score=%.4f\" % (1-res_gp.fun))\n",
    "print(\"\"\"Best parameters: n_clusters=%d\"\"\" % (res_gp.x[0]))"
   ]
  },
  {
   "cell_type": "code",
   "execution_count": null,
   "metadata": {},
   "outputs": [],
   "source": [
    "#Hyperparameter optimization by BO-TPE\n",
    "from hyperopt import hp, fmin, tpe, STATUS_OK, Trials\n",
    "from sklearn.model_selection import cross_val_score, StratifiedKFold\n",
    "from sklearn.cluster import MiniBatchKMeans\n",
    "from sklearn import metrics\n",
    "\n",
    "def objective(params):\n",
    "    params = {\n",
    "        'n_clusters': int(params['n_clusters']), \n",
    "    }\n",
    "    km_cluster = MiniBatchKMeans(batch_size=100, **params)\n",
    "    n=params['n_clusters']\n",
    "    \n",
    "    result = km_cluster.fit_predict(X_train)\n",
    "    result2 = km_cluster.predict(X_test)\n",
    "\n",
    "    count=0\n",
    "    a=np.zeros(n)\n",
    "    b=np.zeros(n)\n",
    "    for v in range(0,n):\n",
    "        for i in range(0,len(y_train)):\n",
    "            if result[i]==v:\n",
    "                if y_train[i]==1:\n",
    "                    a[v]=a[v]+1\n",
    "                else:\n",
    "                    b[v]=b[v]+1\n",
    "    list1=[]\n",
    "    list2=[]\n",
    "    for v in range(0,n):\n",
    "        if a[v]<=b[v]:\n",
    "            list1.append(v)\n",
    "        else: \n",
    "            list2.append(v)\n",
    "    for v in range(0,len(y_test)):\n",
    "        if result2[v] in list1:\n",
    "            result2[v]=0\n",
    "        elif result2[v] in list2:\n",
    "            result2[v]=1\n",
    "        else:\n",
    "            print(\"-1\")\n",
    "    score=metrics.accuracy_score(y_test,result2)\n",
    "    print(str(params['n_clusters'])+\" \"+str(score))\n",
    "    return {'loss':1-score, 'status': STATUS_OK }\n",
    "space = {\n",
    "    'n_clusters': hp.quniform('n_clusters', 2, 50, 1),\n",
    "}\n",
    "\n",
    "best = fmin(fn=objective,\n",
    "            space=space,\n",
    "            algo=tpe.suggest,\n",
    "            max_evals=20)\n",
    "print(\"Random Forest: Hyperopt estimated optimum {}\".format(best))"
   ]
  },
  {
   "cell_type": "code",
   "execution_count": null,
   "metadata": {},
   "outputs": [],
   "source": [
    "CL_kmeans(X_train, X_test, y_train, y_test, 16)"
   ]
  },
  {
   "cell_type": "markdown",
   "metadata": {},
   "source": [
    "### Apply the CL-k-means model with biased classifiers"
   ]
  },
  {
   "cell_type": "code",
   "execution_count": null,
   "metadata": {
    "collapsed": true
   },
   "outputs": [],
   "source": [
    "# Only a sample code to show the logic. It needs to work on the entire dataset to generate sufficient training samples for biased classifiers\n",
    "def Anomaly_IDS(X_train, X_test, y_train, y_test,n,b=100):\n",
    "    # CL-kmeans\n",
    "    km_cluster = MiniBatchKMeans(n_clusters=n,batch_size=b)\n",
    "    result = km_cluster.fit_predict(X_train)\n",
    "    result2 = km_cluster.predict(X_test)\n",
    "\n",
    "    count=0\n",
    "    a=np.zeros(n)\n",
    "    b=np.zeros(n)\n",
    "    for v in range(0,n):\n",
    "        for i in range(0,len(y_train)):\n",
    "            if result[i]==v:\n",
    "                if y_train[i]==1:\n",
    "                    a[v]=a[v]+1\n",
    "                else:\n",
    "                    b[v]=b[v]+1\n",
    "    list1=[]\n",
    "    list2=[]\n",
    "    for v in range(0,n):\n",
    "        if a[v]<=b[v]:\n",
    "            list1.append(v)\n",
    "        else: \n",
    "            list2.append(v)\n",
    "    for v in range(0,len(y_test)):\n",
    "        if result2[v] in list1:\n",
    "            result2[v]=0\n",
    "        elif result2[v] in list2:\n",
    "            result2[v]=1\n",
    "        else:\n",
    "            print(\"-1\")\n",
    "    print(classification_report(y_test, result2))\n",
    "    cm=confusion_matrix(y_test,result2)\n",
    "    acc=metrics.accuracy_score(y2,result2)\n",
    "    print(str(acc))\n",
    "    print(cm)\n",
    "    \n",
    "    #Biased classifier construction\n",
    "    count=0\n",
    "    print(len(y))\n",
    "    a=np.zeros(n)\n",
    "    b=np.zeros(n)\n",
    "    FNL=[]\n",
    "    FPL=[]\n",
    "    for v in range(0,n):\n",
    "        al=[]\n",
    "        bl=[]\n",
    "        for i in range(0,len(y)):   \n",
    "            if result[i]==v:        \n",
    "                if y[i]==1:        #label 1\n",
    "                    a[v]=a[v]+1\n",
    "                    al.append(i)\n",
    "                else:             #label 0\n",
    "                    b[v]=b[v]+1\n",
    "                    bl.append(i)\n",
    "        if a[v]<=b[v]:\n",
    "            FNL.extend(al)\n",
    "        else:\n",
    "            FPL.extend(bl)\n",
    "        #print(str(v)+\"=\"+str(a[v]/(a[v]+b[v])))\n",
    "        \n",
    "    dffp=df.iloc[FPL, :]\n",
    "    dffn=df.iloc[FNL, :]\n",
    "    dfva0=df[df['Label']==0]\n",
    "    dfva1=df[df['Label']==1]\n",
    "    \n",
    "    dffpp=dfva1.sample(n=None, frac=len(FPL)/dfva1.shape[0], replace=False, weights=None, random_state=None, axis=0)\n",
    "    dffnp=dfva0.sample(n=None, frac=len(FNL)/dfva0.shape[0], replace=False, weights=None, random_state=None, axis=0)\n",
    "    \n",
    "    dffp_f=pd.concat([dffp, dffpp])\n",
    "    dffn_f=pd.concat([dffn, dffnp])\n",
    "    \n",
    "    Xp = dffp_f.drop(['Label'],axis=1)  \n",
    "    yp = dffp_f.iloc[:, -1].values.reshape(-1,1)\n",
    "    yp=np.ravel(yp)\n",
    "\n",
    "    Xn = dffn_f.drop(['Label'],axis=1)  \n",
    "    yn = dffn_f.iloc[:, -1].values.reshape(-1,1)\n",
    "    yn=np.ravel(yn)\n",
    "    \n",
    "    rfp = RandomForestClassifier(random_state = 0)\n",
    "    rfp.fit(Xp,yp)\n",
    "    rfn = RandomForestClassifier(random_state = 0)\n",
    "    rfn.fit(Xn,yn)\n",
    "\n",
    "    dffnn_f=pd.concat([dffn, dffnp])\n",
    "    \n",
    "    Xnn = dffn_f.drop(['Label'],axis=1)  \n",
    "    ynn = dffn_f.iloc[:, -1].values.reshape(-1,1)\n",
    "    ynn=np.ravel(ynn)\n",
    "\n",
    "    rfnn = RandomForestClassifier(random_state = 0)\n",
    "    rfnn.fit(Xnn,ynn)\n",
    "\n",
    "    X2p = df2.drop(['Label'],axis=1) \n",
    "    y2p = df2.iloc[:, -1].values.reshape(-1,1)\n",
    "    y2p=np.ravel(y2p)\n",
    "\n",
    "    result2 = km_cluster.predict(X2p)\n",
    "\n",
    "    count=0\n",
    "    a=np.zeros(n)\n",
    "    b=np.zeros(n)\n",
    "    for v in range(0,n):\n",
    "        for i in range(0,len(y)):\n",
    "            if result[i]==v:\n",
    "                if y[i]==1:\n",
    "                    a[v]=a[v]+1\n",
    "                else:\n",
    "                    b[v]=b[v]+1\n",
    "    list1=[]\n",
    "    list2=[]\n",
    "    l1=[]\n",
    "    l0=[]\n",
    "    for v in range(0,n):\n",
    "        if a[v]<=b[v]:\n",
    "            list1.append(v)\n",
    "        else: \n",
    "            list2.append(v)\n",
    "    for v in range(0,len(y2p)):\n",
    "        if result2[v] in list1:\n",
    "            result2[v]=0\n",
    "            l0.append(v)\n",
    "        elif result2[v] in list2:\n",
    "            result2[v]=1\n",
    "            l1.append(v)\n",
    "        else:\n",
    "            print(\"-1\")\n",
    "    print(classification_report(y2p, result2))\n",
    "    cm=confusion_matrix(y2p,result2)\n",
    "    print(cm)"
   ]
  },
  {
   "cell_type": "markdown",
   "metadata": {},
   "source": [
    "95% of the code has been shared, and the remaining 5% is retained for future extension.  \n",
    "Thank you for your interest and more details are in the paper."
   ]
  }
 ],
 "metadata": {
  "anaconda-cloud": {},
  "kernelspec": {
   "display_name": "base",
   "language": "python",
   "name": "python3"
  },
  "language_info": {
   "codemirror_mode": {
    "name": "ipython",
    "version": 3
   },
   "file_extension": ".py",
   "mimetype": "text/x-python",
   "name": "python",
   "nbconvert_exporter": "python",
   "pygments_lexer": "ipython3",
   "version": "3.12.2"
  }
 },
 "nbformat": 4,
 "nbformat_minor": 2
}
