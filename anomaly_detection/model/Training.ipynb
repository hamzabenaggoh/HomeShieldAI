{
 "cells": [
  {
   "cell_type": "markdown",
   "metadata": {},
   "source": [
    "# MTH-IDS: A Multi-Tiered Hybrid Intrusion Detection System for Internet of Vehicles\n",
    "This is the code for the paper entitled \"[**MTH-IDS: A Multi-Tiered Hybrid Intrusion Detection System for Internet of Vehicles**](https://arxiv.org/pdf/2105.13289.pdf)\" accepted in IEEE Internet of Things Journal.  \n",
    "Authors: Li Yang (liyanghart@gmail.com), Abdallah Moubayed, and Abdallah Shami  \n",
    "Organization: The Optimized Computing and Communications (OC2) Lab, ECE Department, Western University\n",
    "\n",
    "If you find this repository useful in your research, please cite:  \n",
    "L. Yang, A. Moubayed, and A. Shami, “MTH-IDS: A Multi-Tiered Hybrid Intrusion Detection System for Internet of Vehicles,” IEEE Internet of Things Journal, vol. 9, no. 1, pp. 616-632, Jan.1, 2022."
   ]
  },
  {
   "cell_type": "markdown",
   "metadata": {},
   "source": [
    "## Import libraries"
   ]
  },
  {
   "cell_type": "code",
   "execution_count": 570,
   "metadata": {},
   "outputs": [],
   "source": [
    "import warnings\n",
    "warnings.filterwarnings(\"ignore\")"
   ]
  },
  {
   "cell_type": "code",
   "execution_count": 571,
   "metadata": {},
   "outputs": [
    {
     "name": "stdout",
     "output_type": "stream",
     "text": [
      "sklearn version: 1.5.1\n"
     ]
    }
   ],
   "source": [
    "import numpy as np\n",
    "import pandas as pd\n",
    "import seaborn as sns\n",
    "import matplotlib.pyplot as plt\n",
    "from sklearn.preprocessing import LabelEncoder, StandardScaler\n",
    "from sklearn.model_selection import train_test_split\n",
    "from sklearn.metrics import classification_report,confusion_matrix,accuracy_score,precision_recall_fscore_support\n",
    "from sklearn.metrics import f1_score,roc_auc_score\n",
    "from sklearn.ensemble import RandomForestClassifier,ExtraTreesClassifier\n",
    "from sklearn.tree import DecisionTreeClassifier\n",
    "import xgboost as xgb\n",
    "from xgboost import plot_importance\n",
    "import joblib\n",
    "import sklearn\n",
    "print(\"sklearn version:\", sklearn.__version__)\n",
    "\n"
   ]
  },
  {
   "cell_type": "markdown",
   "metadata": {},
   "source": [
    "## Read the sampled CICIDS2017 dataset\n",
    "The CICIDS2017 dataset is publicly available at: https://www.unb.ca/cic/datasets/ids-2017.html  \n",
    "Due to the large size of this dataset, the sampled subsets of CICIDS2017 is used. The subsets are in the \"data\" folder.  \n",
    "If you want to use this code on other datasets (e.g., CAN-intrusion dataset), just change the dataset name and follow the same steps. The models in this code are generic models that can be used in any intrusion detection/network traffic datasets."
   ]
  },
  {
   "cell_type": "code",
   "execution_count": 572,
   "metadata": {},
   "outputs": [],
   "source": [
    "#Read dataset\n",
    "df = pd.read_csv('./data/CICIDS2017_sample.csv') \n",
    "# The results in this code is based on the original CICIDS2017 dataset. Please go to cell [21] if you work on the sampled dataset. "
   ]
  },
  {
   "cell_type": "code",
   "execution_count": 573,
   "metadata": {},
   "outputs": [
    {
     "data": {
      "text/plain": [
       "['./features/training_features.joblib']"
      ]
     },
     "execution_count": 573,
     "metadata": {},
     "output_type": "execute_result"
    }
   ],
   "source": [
    "df\n",
    "\n",
    "# Save the training features\n",
    "training_features = df.columns.tolist()\n",
    "joblib.dump(training_features, './features/training_features.joblib')\n"
   ]
  },
  {
   "cell_type": "code",
   "execution_count": 574,
   "metadata": {},
   "outputs": [
    {
     "data": {
      "text/plain": [
       "Label\n",
       "BENIGN          22731\n",
       "DoS             19035\n",
       "PortScan         7946\n",
       "BruteForce       2767\n",
       "WebAttack        2180\n",
       "Bot              1966\n",
       "Infiltration       36\n",
       "Name: count, dtype: int64"
      ]
     },
     "execution_count": 574,
     "metadata": {},
     "output_type": "execute_result"
    }
   ],
   "source": [
    "df.Label.value_counts()"
   ]
  },
  {
   "cell_type": "markdown",
   "metadata": {},
   "source": [
    "### Preprocessing (normalization and padding values)"
   ]
  },
  {
   "cell_type": "code",
   "execution_count": 575,
   "metadata": {},
   "outputs": [
    {
     "data": {
      "text/html": [
       "<div>\n",
       "<style scoped>\n",
       "    .dataframe tbody tr th:only-of-type {\n",
       "        vertical-align: middle;\n",
       "    }\n",
       "\n",
       "    .dataframe tbody tr th {\n",
       "        vertical-align: top;\n",
       "    }\n",
       "\n",
       "    .dataframe thead th {\n",
       "        text-align: right;\n",
       "    }\n",
       "</style>\n",
       "<table border=\"1\" class=\"dataframe\">\n",
       "  <thead>\n",
       "    <tr style=\"text-align: right;\">\n",
       "      <th></th>\n",
       "      <th>Flow Duration</th>\n",
       "      <th>Total Fwd Packets</th>\n",
       "      <th>Total Backward Packets</th>\n",
       "      <th>Total Length of Fwd Packets</th>\n",
       "      <th>Total Length of Bwd Packets</th>\n",
       "      <th>Fwd Packet Length Max</th>\n",
       "      <th>Fwd Packet Length Min</th>\n",
       "      <th>Fwd Packet Length Mean</th>\n",
       "      <th>Fwd Packet Length Std</th>\n",
       "      <th>Bwd Packet Length Max</th>\n",
       "      <th>...</th>\n",
       "      <th>min_seg_size_forward</th>\n",
       "      <th>Active Mean</th>\n",
       "      <th>Active Std</th>\n",
       "      <th>Active Max</th>\n",
       "      <th>Active Min</th>\n",
       "      <th>Idle Mean</th>\n",
       "      <th>Idle Std</th>\n",
       "      <th>Idle Max</th>\n",
       "      <th>Idle Min</th>\n",
       "      <th>Label</th>\n",
       "    </tr>\n",
       "  </thead>\n",
       "  <tbody>\n",
       "    <tr>\n",
       "      <th>0</th>\n",
       "      <td>-0.528474</td>\n",
       "      <td>-0.068427</td>\n",
       "      <td>-0.081807</td>\n",
       "      <td>-0.032573</td>\n",
       "      <td>-0.048344</td>\n",
       "      <td>-0.202328</td>\n",
       "      <td>-0.085799</td>\n",
       "      <td>-0.141626</td>\n",
       "      <td>-0.176450</td>\n",
       "      <td>-0.559724</td>\n",
       "      <td>...</td>\n",
       "      <td>-1.023422</td>\n",
       "      <td>-0.10989</td>\n",
       "      <td>-0.081787</td>\n",
       "      <td>-0.128621</td>\n",
       "      <td>-0.094861</td>\n",
       "      <td>-0.458733</td>\n",
       "      <td>-0.137652</td>\n",
       "      <td>-0.466444</td>\n",
       "      <td>-0.442061</td>\n",
       "      <td>BENIGN</td>\n",
       "    </tr>\n",
       "    <tr>\n",
       "      <th>1</th>\n",
       "      <td>-0.524597</td>\n",
       "      <td>0.704885</td>\n",
       "      <td>0.850348</td>\n",
       "      <td>0.027749</td>\n",
       "      <td>0.920418</td>\n",
       "      <td>0.603280</td>\n",
       "      <td>-0.211176</td>\n",
       "      <td>-0.082435</td>\n",
       "      <td>0.240598</td>\n",
       "      <td>1.006311</td>\n",
       "      <td>...</td>\n",
       "      <td>-1.023422</td>\n",
       "      <td>-0.10989</td>\n",
       "      <td>-0.081787</td>\n",
       "      <td>-0.128621</td>\n",
       "      <td>-0.094861</td>\n",
       "      <td>-0.458733</td>\n",
       "      <td>-0.137652</td>\n",
       "      <td>-0.466444</td>\n",
       "      <td>-0.442061</td>\n",
       "      <td>BENIGN</td>\n",
       "    </tr>\n",
       "    <tr>\n",
       "      <th>2</th>\n",
       "      <td>-0.525237</td>\n",
       "      <td>0.300654</td>\n",
       "      <td>0.339166</td>\n",
       "      <td>0.020443</td>\n",
       "      <td>0.363715</td>\n",
       "      <td>0.603280</td>\n",
       "      <td>-0.211176</td>\n",
       "      <td>0.044065</td>\n",
       "      <td>0.439623</td>\n",
       "      <td>0.484299</td>\n",
       "      <td>...</td>\n",
       "      <td>0.742122</td>\n",
       "      <td>-0.10989</td>\n",
       "      <td>-0.081787</td>\n",
       "      <td>-0.128621</td>\n",
       "      <td>-0.094861</td>\n",
       "      <td>-0.458733</td>\n",
       "      <td>-0.137652</td>\n",
       "      <td>-0.466444</td>\n",
       "      <td>-0.442061</td>\n",
       "      <td>BENIGN</td>\n",
       "    </tr>\n",
       "    <tr>\n",
       "      <th>3</th>\n",
       "      <td>-0.524565</td>\n",
       "      <td>0.652159</td>\n",
       "      <td>0.745105</td>\n",
       "      <td>0.026625</td>\n",
       "      <td>0.933542</td>\n",
       "      <td>0.603280</td>\n",
       "      <td>-0.211176</td>\n",
       "      <td>-0.074097</td>\n",
       "      <td>0.257380</td>\n",
       "      <td>1.006311</td>\n",
       "      <td>...</td>\n",
       "      <td>-1.023422</td>\n",
       "      <td>-0.10989</td>\n",
       "      <td>-0.081787</td>\n",
       "      <td>-0.128621</td>\n",
       "      <td>-0.094861</td>\n",
       "      <td>-0.458733</td>\n",
       "      <td>-0.137652</td>\n",
       "      <td>-0.466444</td>\n",
       "      <td>-0.442061</td>\n",
       "      <td>BENIGN</td>\n",
       "    </tr>\n",
       "    <tr>\n",
       "      <th>4</th>\n",
       "      <td>-0.524560</td>\n",
       "      <td>0.757610</td>\n",
       "      <td>0.805244</td>\n",
       "      <td>0.028030</td>\n",
       "      <td>0.960045</td>\n",
       "      <td>0.603280</td>\n",
       "      <td>-0.211176</td>\n",
       "      <td>-0.091862</td>\n",
       "      <td>0.225736</td>\n",
       "      <td>1.006311</td>\n",
       "      <td>...</td>\n",
       "      <td>-1.023422</td>\n",
       "      <td>-0.10989</td>\n",
       "      <td>-0.081787</td>\n",
       "      <td>-0.128621</td>\n",
       "      <td>-0.094861</td>\n",
       "      <td>-0.458733</td>\n",
       "      <td>-0.137652</td>\n",
       "      <td>-0.466444</td>\n",
       "      <td>-0.442061</td>\n",
       "      <td>BENIGN</td>\n",
       "    </tr>\n",
       "  </tbody>\n",
       "</table>\n",
       "<p>5 rows × 78 columns</p>\n",
       "</div>"
      ],
      "text/plain": [
       "   Flow Duration  Total Fwd Packets  Total Backward Packets  \\\n",
       "0      -0.528474          -0.068427               -0.081807   \n",
       "1      -0.524597           0.704885                0.850348   \n",
       "2      -0.525237           0.300654                0.339166   \n",
       "3      -0.524565           0.652159                0.745105   \n",
       "4      -0.524560           0.757610                0.805244   \n",
       "\n",
       "   Total Length of Fwd Packets  Total Length of Bwd Packets  \\\n",
       "0                    -0.032573                    -0.048344   \n",
       "1                     0.027749                     0.920418   \n",
       "2                     0.020443                     0.363715   \n",
       "3                     0.026625                     0.933542   \n",
       "4                     0.028030                     0.960045   \n",
       "\n",
       "   Fwd Packet Length Max  Fwd Packet Length Min  Fwd Packet Length Mean  \\\n",
       "0              -0.202328              -0.085799               -0.141626   \n",
       "1               0.603280              -0.211176               -0.082435   \n",
       "2               0.603280              -0.211176                0.044065   \n",
       "3               0.603280              -0.211176               -0.074097   \n",
       "4               0.603280              -0.211176               -0.091862   \n",
       "\n",
       "   Fwd Packet Length Std  Bwd Packet Length Max  ...  min_seg_size_forward  \\\n",
       "0              -0.176450              -0.559724  ...             -1.023422   \n",
       "1               0.240598               1.006311  ...             -1.023422   \n",
       "2               0.439623               0.484299  ...              0.742122   \n",
       "3               0.257380               1.006311  ...             -1.023422   \n",
       "4               0.225736               1.006311  ...             -1.023422   \n",
       "\n",
       "   Active Mean  Active Std  Active Max  Active Min  Idle Mean  Idle Std  \\\n",
       "0     -0.10989   -0.081787   -0.128621   -0.094861  -0.458733 -0.137652   \n",
       "1     -0.10989   -0.081787   -0.128621   -0.094861  -0.458733 -0.137652   \n",
       "2     -0.10989   -0.081787   -0.128621   -0.094861  -0.458733 -0.137652   \n",
       "3     -0.10989   -0.081787   -0.128621   -0.094861  -0.458733 -0.137652   \n",
       "4     -0.10989   -0.081787   -0.128621   -0.094861  -0.458733 -0.137652   \n",
       "\n",
       "   Idle Max  Idle Min   Label  \n",
       "0 -0.466444 -0.442061  BENIGN  \n",
       "1 -0.466444 -0.442061  BENIGN  \n",
       "2 -0.466444 -0.442061  BENIGN  \n",
       "3 -0.466444 -0.442061  BENIGN  \n",
       "4 -0.466444 -0.442061  BENIGN  \n",
       "\n",
       "[5 rows x 78 columns]"
      ]
     },
     "execution_count": 575,
     "metadata": {},
     "output_type": "execute_result"
    }
   ],
   "source": [
    "# Z-score normalization\n",
    "features = df.dtypes[df.dtypes != 'object'].index\n",
    "# df[features] = df[features].apply(\n",
    "#     lambda x: (x - x.mean()) / (x.std()))\n",
    "\n",
    "\n",
    "\n",
    "df = df.replace([float('inf'), float('-inf')], 0) \n",
    "scaler = StandardScaler()\n",
    "df[features] = scaler.fit_transform(df[features])\n",
    "\n",
    "joblib.dump(scaler, './scalers/scaler.joblib')\n",
    "\n",
    "# # Fill empty values by 0          TODO: Trying out this before scaling \n",
    "df = df.fillna(0)\n",
    "\n",
    "\n",
    "df.head()"
   ]
  },
  {
   "cell_type": "markdown",
   "metadata": {},
   "source": [
    "### Data sampling\n",
    "Due to the space limit of GitHub files and the large size of network traffic data, we sample a small-sized subset for model learning using **k-means cluster sampling**"
   ]
  },
  {
   "cell_type": "code",
   "execution_count": 576,
   "metadata": {},
   "outputs": [],
   "source": [
    "labelencoder = LabelEncoder()\n",
    "df.iloc[:, -1] = labelencoder.fit_transform(df.iloc[:, -1])"
   ]
  },
  {
   "cell_type": "code",
   "execution_count": 577,
   "metadata": {},
   "outputs": [
    {
     "data": {
      "text/plain": [
       "Label\n",
       "0    22731\n",
       "3    19035\n",
       "5     7946\n",
       "2     2767\n",
       "6     2180\n",
       "1     1966\n",
       "4       36\n",
       "Name: count, dtype: int64"
      ]
     },
     "execution_count": 577,
     "metadata": {},
     "output_type": "execute_result"
    }
   ],
   "source": [
    "df.Label.value_counts()"
   ]
  },
  {
   "cell_type": "code",
   "execution_count": 578,
   "metadata": {},
   "outputs": [],
   "source": [
    "# retain the minority class instances and sample the majority class instances\n",
    "df_minor = df[(df['Label']==6)|(df['Label']==1)|(df['Label']==4)]\n",
    "df_major = df.drop(df_minor.index)"
   ]
  },
  {
   "cell_type": "code",
   "execution_count": 579,
   "metadata": {},
   "outputs": [],
   "source": [
    "X = df_major.drop(['Label'],axis=1) \n",
    "y = df_major.iloc[:, -1].values.reshape(-1,1)\n",
    "y=np.ravel(y)"
   ]
  },
  {
   "cell_type": "code",
   "execution_count": 580,
   "metadata": {
    "scrolled": true
   },
   "outputs": [],
   "source": [
    "# use k-means to cluster the data samples and select a proportion of data from each cluster\n",
    "from sklearn.cluster import MiniBatchKMeans\n",
    "kmeans = MiniBatchKMeans(n_clusters=1000, random_state=0).fit(X)"
   ]
  },
  {
   "cell_type": "code",
   "execution_count": 581,
   "metadata": {},
   "outputs": [],
   "source": [
    "klabel=kmeans.labels_\n",
    "df_major['klabel']=klabel"
   ]
  },
  {
   "cell_type": "code",
   "execution_count": 582,
   "metadata": {
    "scrolled": true
   },
   "outputs": [
    {
     "data": {
      "text/plain": [
       "klabel\n",
       "802    522\n",
       "915    481\n",
       "308    348\n",
       "319    337\n",
       "715    334\n",
       "      ... \n",
       "212      2\n",
       "712      1\n",
       "804      1\n",
       "398      1\n",
       "743      1\n",
       "Name: count, Length: 974, dtype: int64"
      ]
     },
     "execution_count": 582,
     "metadata": {},
     "output_type": "execute_result"
    }
   ],
   "source": [
    "df_major['klabel'].value_counts()"
   ]
  },
  {
   "cell_type": "code",
   "execution_count": 583,
   "metadata": {},
   "outputs": [],
   "source": [
    "cols = list(df_major)\n",
    "cols.insert(78, cols.pop(cols.index('Label')))\n",
    "df_major = df_major.loc[:, cols]"
   ]
  },
  {
   "cell_type": "code",
   "execution_count": 584,
   "metadata": {
    "scrolled": true
   },
   "outputs": [
    {
     "data": {
      "text/html": [
       "<div>\n",
       "<style scoped>\n",
       "    .dataframe tbody tr th:only-of-type {\n",
       "        vertical-align: middle;\n",
       "    }\n",
       "\n",
       "    .dataframe tbody tr th {\n",
       "        vertical-align: top;\n",
       "    }\n",
       "\n",
       "    .dataframe thead th {\n",
       "        text-align: right;\n",
       "    }\n",
       "</style>\n",
       "<table border=\"1\" class=\"dataframe\">\n",
       "  <thead>\n",
       "    <tr style=\"text-align: right;\">\n",
       "      <th></th>\n",
       "      <th>Flow Duration</th>\n",
       "      <th>Total Fwd Packets</th>\n",
       "      <th>Total Backward Packets</th>\n",
       "      <th>Total Length of Fwd Packets</th>\n",
       "      <th>Total Length of Bwd Packets</th>\n",
       "      <th>Fwd Packet Length Max</th>\n",
       "      <th>Fwd Packet Length Min</th>\n",
       "      <th>Fwd Packet Length Mean</th>\n",
       "      <th>Fwd Packet Length Std</th>\n",
       "      <th>Bwd Packet Length Max</th>\n",
       "      <th>...</th>\n",
       "      <th>Active Mean</th>\n",
       "      <th>Active Std</th>\n",
       "      <th>Active Max</th>\n",
       "      <th>Active Min</th>\n",
       "      <th>Idle Mean</th>\n",
       "      <th>Idle Std</th>\n",
       "      <th>Idle Max</th>\n",
       "      <th>Idle Min</th>\n",
       "      <th>klabel</th>\n",
       "      <th>Label</th>\n",
       "    </tr>\n",
       "  </thead>\n",
       "  <tbody>\n",
       "    <tr>\n",
       "      <th>0</th>\n",
       "      <td>-0.528474</td>\n",
       "      <td>-0.068427</td>\n",
       "      <td>-0.081807</td>\n",
       "      <td>-0.032573</td>\n",
       "      <td>-0.048344</td>\n",
       "      <td>-0.202328</td>\n",
       "      <td>-0.085799</td>\n",
       "      <td>-0.141626</td>\n",
       "      <td>-0.176450</td>\n",
       "      <td>-0.559724</td>\n",
       "      <td>...</td>\n",
       "      <td>-0.109890</td>\n",
       "      <td>-0.081787</td>\n",
       "      <td>-0.128621</td>\n",
       "      <td>-0.094861</td>\n",
       "      <td>-0.458733</td>\n",
       "      <td>-0.137652</td>\n",
       "      <td>-0.466444</td>\n",
       "      <td>-0.442061</td>\n",
       "      <td>393</td>\n",
       "      <td>0</td>\n",
       "    </tr>\n",
       "    <tr>\n",
       "      <th>1</th>\n",
       "      <td>-0.524597</td>\n",
       "      <td>0.704885</td>\n",
       "      <td>0.850348</td>\n",
       "      <td>0.027749</td>\n",
       "      <td>0.920418</td>\n",
       "      <td>0.603280</td>\n",
       "      <td>-0.211176</td>\n",
       "      <td>-0.082435</td>\n",
       "      <td>0.240598</td>\n",
       "      <td>1.006311</td>\n",
       "      <td>...</td>\n",
       "      <td>-0.109890</td>\n",
       "      <td>-0.081787</td>\n",
       "      <td>-0.128621</td>\n",
       "      <td>-0.094861</td>\n",
       "      <td>-0.458733</td>\n",
       "      <td>-0.137652</td>\n",
       "      <td>-0.466444</td>\n",
       "      <td>-0.442061</td>\n",
       "      <td>303</td>\n",
       "      <td>0</td>\n",
       "    </tr>\n",
       "    <tr>\n",
       "      <th>2</th>\n",
       "      <td>-0.525237</td>\n",
       "      <td>0.300654</td>\n",
       "      <td>0.339166</td>\n",
       "      <td>0.020443</td>\n",
       "      <td>0.363715</td>\n",
       "      <td>0.603280</td>\n",
       "      <td>-0.211176</td>\n",
       "      <td>0.044065</td>\n",
       "      <td>0.439623</td>\n",
       "      <td>0.484299</td>\n",
       "      <td>...</td>\n",
       "      <td>-0.109890</td>\n",
       "      <td>-0.081787</td>\n",
       "      <td>-0.128621</td>\n",
       "      <td>-0.094861</td>\n",
       "      <td>-0.458733</td>\n",
       "      <td>-0.137652</td>\n",
       "      <td>-0.466444</td>\n",
       "      <td>-0.442061</td>\n",
       "      <td>457</td>\n",
       "      <td>0</td>\n",
       "    </tr>\n",
       "    <tr>\n",
       "      <th>3</th>\n",
       "      <td>-0.524565</td>\n",
       "      <td>0.652159</td>\n",
       "      <td>0.745105</td>\n",
       "      <td>0.026625</td>\n",
       "      <td>0.933542</td>\n",
       "      <td>0.603280</td>\n",
       "      <td>-0.211176</td>\n",
       "      <td>-0.074097</td>\n",
       "      <td>0.257380</td>\n",
       "      <td>1.006311</td>\n",
       "      <td>...</td>\n",
       "      <td>-0.109890</td>\n",
       "      <td>-0.081787</td>\n",
       "      <td>-0.128621</td>\n",
       "      <td>-0.094861</td>\n",
       "      <td>-0.458733</td>\n",
       "      <td>-0.137652</td>\n",
       "      <td>-0.466444</td>\n",
       "      <td>-0.442061</td>\n",
       "      <td>303</td>\n",
       "      <td>0</td>\n",
       "    </tr>\n",
       "    <tr>\n",
       "      <th>4</th>\n",
       "      <td>-0.524560</td>\n",
       "      <td>0.757610</td>\n",
       "      <td>0.805244</td>\n",
       "      <td>0.028030</td>\n",
       "      <td>0.960045</td>\n",
       "      <td>0.603280</td>\n",
       "      <td>-0.211176</td>\n",
       "      <td>-0.091862</td>\n",
       "      <td>0.225736</td>\n",
       "      <td>1.006311</td>\n",
       "      <td>...</td>\n",
       "      <td>-0.109890</td>\n",
       "      <td>-0.081787</td>\n",
       "      <td>-0.128621</td>\n",
       "      <td>-0.094861</td>\n",
       "      <td>-0.458733</td>\n",
       "      <td>-0.137652</td>\n",
       "      <td>-0.466444</td>\n",
       "      <td>-0.442061</td>\n",
       "      <td>303</td>\n",
       "      <td>0</td>\n",
       "    </tr>\n",
       "    <tr>\n",
       "      <th>...</th>\n",
       "      <td>...</td>\n",
       "      <td>...</td>\n",
       "      <td>...</td>\n",
       "      <td>...</td>\n",
       "      <td>...</td>\n",
       "      <td>...</td>\n",
       "      <td>...</td>\n",
       "      <td>...</td>\n",
       "      <td>...</td>\n",
       "      <td>...</td>\n",
       "      <td>...</td>\n",
       "      <td>...</td>\n",
       "      <td>...</td>\n",
       "      <td>...</td>\n",
       "      <td>...</td>\n",
       "      <td>...</td>\n",
       "      <td>...</td>\n",
       "      <td>...</td>\n",
       "      <td>...</td>\n",
       "      <td>...</td>\n",
       "      <td>...</td>\n",
       "    </tr>\n",
       "    <tr>\n",
       "      <th>56656</th>\n",
       "      <td>-0.528468</td>\n",
       "      <td>-0.068427</td>\n",
       "      <td>-0.051737</td>\n",
       "      <td>-0.031309</td>\n",
       "      <td>-0.046220</td>\n",
       "      <td>-0.200833</td>\n",
       "      <td>0.457502</td>\n",
       "      <td>-0.064078</td>\n",
       "      <td>-0.255106</td>\n",
       "      <td>-0.517906</td>\n",
       "      <td>...</td>\n",
       "      <td>-0.109890</td>\n",
       "      <td>-0.081787</td>\n",
       "      <td>-0.128621</td>\n",
       "      <td>-0.094861</td>\n",
       "      <td>-0.458733</td>\n",
       "      <td>-0.137652</td>\n",
       "      <td>-0.466444</td>\n",
       "      <td>-0.442061</td>\n",
       "      <td>204</td>\n",
       "      <td>0</td>\n",
       "    </tr>\n",
       "    <tr>\n",
       "      <th>56657</th>\n",
       "      <td>-0.524845</td>\n",
       "      <td>-0.068427</td>\n",
       "      <td>-0.051737</td>\n",
       "      <td>-0.029904</td>\n",
       "      <td>-0.043932</td>\n",
       "      <td>-0.178414</td>\n",
       "      <td>0.770945</td>\n",
       "      <td>0.022086</td>\n",
       "      <td>-0.255106</td>\n",
       "      <td>-0.472842</td>\n",
       "      <td>...</td>\n",
       "      <td>-0.109890</td>\n",
       "      <td>-0.081787</td>\n",
       "      <td>-0.128621</td>\n",
       "      <td>-0.094861</td>\n",
       "      <td>-0.458733</td>\n",
       "      <td>-0.137652</td>\n",
       "      <td>-0.466444</td>\n",
       "      <td>-0.442061</td>\n",
       "      <td>638</td>\n",
       "      <td>0</td>\n",
       "    </tr>\n",
       "    <tr>\n",
       "      <th>56658</th>\n",
       "      <td>-0.215113</td>\n",
       "      <td>-0.015701</td>\n",
       "      <td>-0.021668</td>\n",
       "      <td>-0.013231</td>\n",
       "      <td>-0.016083</td>\n",
       "      <td>0.423924</td>\n",
       "      <td>-0.211176</td>\n",
       "      <td>0.269091</td>\n",
       "      <td>0.640334</td>\n",
       "      <td>0.711057</td>\n",
       "      <td>...</td>\n",
       "      <td>-0.108683</td>\n",
       "      <td>-0.081787</td>\n",
       "      <td>-0.127670</td>\n",
       "      <td>-0.093555</td>\n",
       "      <td>-0.256388</td>\n",
       "      <td>-0.137652</td>\n",
       "      <td>-0.269451</td>\n",
       "      <td>-0.238254</td>\n",
       "      <td>547</td>\n",
       "      <td>3</td>\n",
       "    </tr>\n",
       "    <tr>\n",
       "      <th>56659</th>\n",
       "      <td>-0.215113</td>\n",
       "      <td>0.037025</td>\n",
       "      <td>0.008402</td>\n",
       "      <td>-0.014823</td>\n",
       "      <td>0.058110</td>\n",
       "      <td>0.373106</td>\n",
       "      <td>-0.211176</td>\n",
       "      <td>0.050808</td>\n",
       "      <td>0.399315</td>\n",
       "      <td>1.528323</td>\n",
       "      <td>...</td>\n",
       "      <td>-0.108677</td>\n",
       "      <td>-0.081787</td>\n",
       "      <td>-0.127665</td>\n",
       "      <td>-0.093549</td>\n",
       "      <td>-0.256404</td>\n",
       "      <td>-0.137652</td>\n",
       "      <td>-0.269466</td>\n",
       "      <td>-0.238270</td>\n",
       "      <td>30</td>\n",
       "      <td>3</td>\n",
       "    </tr>\n",
       "    <tr>\n",
       "      <th>56660</th>\n",
       "      <td>-0.214991</td>\n",
       "      <td>0.037025</td>\n",
       "      <td>-0.006633</td>\n",
       "      <td>-0.019038</td>\n",
       "      <td>0.058110</td>\n",
       "      <td>0.238589</td>\n",
       "      <td>-0.211176</td>\n",
       "      <td>-0.013815</td>\n",
       "      <td>0.257733</td>\n",
       "      <td>3.111663</td>\n",
       "      <td>...</td>\n",
       "      <td>-0.108684</td>\n",
       "      <td>-0.081787</td>\n",
       "      <td>-0.127671</td>\n",
       "      <td>-0.093556</td>\n",
       "      <td>-0.256277</td>\n",
       "      <td>-0.137652</td>\n",
       "      <td>-0.269343</td>\n",
       "      <td>-0.238142</td>\n",
       "      <td>434</td>\n",
       "      <td>3</td>\n",
       "    </tr>\n",
       "  </tbody>\n",
       "</table>\n",
       "<p>52479 rows × 79 columns</p>\n",
       "</div>"
      ],
      "text/plain": [
       "       Flow Duration  Total Fwd Packets  Total Backward Packets  \\\n",
       "0          -0.528474          -0.068427               -0.081807   \n",
       "1          -0.524597           0.704885                0.850348   \n",
       "2          -0.525237           0.300654                0.339166   \n",
       "3          -0.524565           0.652159                0.745105   \n",
       "4          -0.524560           0.757610                0.805244   \n",
       "...              ...                ...                     ...   \n",
       "56656      -0.528468          -0.068427               -0.051737   \n",
       "56657      -0.524845          -0.068427               -0.051737   \n",
       "56658      -0.215113          -0.015701               -0.021668   \n",
       "56659      -0.215113           0.037025                0.008402   \n",
       "56660      -0.214991           0.037025               -0.006633   \n",
       "\n",
       "       Total Length of Fwd Packets  Total Length of Bwd Packets  \\\n",
       "0                        -0.032573                    -0.048344   \n",
       "1                         0.027749                     0.920418   \n",
       "2                         0.020443                     0.363715   \n",
       "3                         0.026625                     0.933542   \n",
       "4                         0.028030                     0.960045   \n",
       "...                            ...                          ...   \n",
       "56656                    -0.031309                    -0.046220   \n",
       "56657                    -0.029904                    -0.043932   \n",
       "56658                    -0.013231                    -0.016083   \n",
       "56659                    -0.014823                     0.058110   \n",
       "56660                    -0.019038                     0.058110   \n",
       "\n",
       "       Fwd Packet Length Max  Fwd Packet Length Min  Fwd Packet Length Mean  \\\n",
       "0                  -0.202328              -0.085799               -0.141626   \n",
       "1                   0.603280              -0.211176               -0.082435   \n",
       "2                   0.603280              -0.211176                0.044065   \n",
       "3                   0.603280              -0.211176               -0.074097   \n",
       "4                   0.603280              -0.211176               -0.091862   \n",
       "...                      ...                    ...                     ...   \n",
       "56656              -0.200833               0.457502               -0.064078   \n",
       "56657              -0.178414               0.770945                0.022086   \n",
       "56658               0.423924              -0.211176                0.269091   \n",
       "56659               0.373106              -0.211176                0.050808   \n",
       "56660               0.238589              -0.211176               -0.013815   \n",
       "\n",
       "       Fwd Packet Length Std  Bwd Packet Length Max  ...  Active Mean  \\\n",
       "0                  -0.176450              -0.559724  ...    -0.109890   \n",
       "1                   0.240598               1.006311  ...    -0.109890   \n",
       "2                   0.439623               0.484299  ...    -0.109890   \n",
       "3                   0.257380               1.006311  ...    -0.109890   \n",
       "4                   0.225736               1.006311  ...    -0.109890   \n",
       "...                      ...                    ...  ...          ...   \n",
       "56656              -0.255106              -0.517906  ...    -0.109890   \n",
       "56657              -0.255106              -0.472842  ...    -0.109890   \n",
       "56658               0.640334               0.711057  ...    -0.108683   \n",
       "56659               0.399315               1.528323  ...    -0.108677   \n",
       "56660               0.257733               3.111663  ...    -0.108684   \n",
       "\n",
       "       Active Std  Active Max  Active Min  Idle Mean  Idle Std  Idle Max  \\\n",
       "0       -0.081787   -0.128621   -0.094861  -0.458733 -0.137652 -0.466444   \n",
       "1       -0.081787   -0.128621   -0.094861  -0.458733 -0.137652 -0.466444   \n",
       "2       -0.081787   -0.128621   -0.094861  -0.458733 -0.137652 -0.466444   \n",
       "3       -0.081787   -0.128621   -0.094861  -0.458733 -0.137652 -0.466444   \n",
       "4       -0.081787   -0.128621   -0.094861  -0.458733 -0.137652 -0.466444   \n",
       "...           ...         ...         ...        ...       ...       ...   \n",
       "56656   -0.081787   -0.128621   -0.094861  -0.458733 -0.137652 -0.466444   \n",
       "56657   -0.081787   -0.128621   -0.094861  -0.458733 -0.137652 -0.466444   \n",
       "56658   -0.081787   -0.127670   -0.093555  -0.256388 -0.137652 -0.269451   \n",
       "56659   -0.081787   -0.127665   -0.093549  -0.256404 -0.137652 -0.269466   \n",
       "56660   -0.081787   -0.127671   -0.093556  -0.256277 -0.137652 -0.269343   \n",
       "\n",
       "       Idle Min  klabel  Label  \n",
       "0     -0.442061     393      0  \n",
       "1     -0.442061     303      0  \n",
       "2     -0.442061     457      0  \n",
       "3     -0.442061     303      0  \n",
       "4     -0.442061     303      0  \n",
       "...         ...     ...    ...  \n",
       "56656 -0.442061     204      0  \n",
       "56657 -0.442061     638      0  \n",
       "56658 -0.238254     547      3  \n",
       "56659 -0.238270      30      3  \n",
       "56660 -0.238142     434      3  \n",
       "\n",
       "[52479 rows x 79 columns]"
      ]
     },
     "execution_count": 584,
     "metadata": {},
     "output_type": "execute_result"
    }
   ],
   "source": [
    "df_major"
   ]
  },
  {
   "cell_type": "code",
   "execution_count": 585,
   "metadata": {},
   "outputs": [],
   "source": [
    "def typicalSampling(group):\n",
    "    name = group.name\n",
    "    frac = 0.008\n",
    "    return group.sample(frac=frac)\n",
    "\n",
    "result = df_major.groupby(\n",
    "    'klabel', group_keys=False\n",
    ").apply(typicalSampling)"
   ]
  },
  {
   "cell_type": "code",
   "execution_count": 586,
   "metadata": {},
   "outputs": [
    {
     "data": {
      "text/plain": [
       "Label\n",
       "0    124\n",
       "3    111\n",
       "5     62\n",
       "2     19\n",
       "Name: count, dtype: int64"
      ]
     },
     "execution_count": 586,
     "metadata": {},
     "output_type": "execute_result"
    }
   ],
   "source": [
    "result['Label'].value_counts()"
   ]
  },
  {
   "cell_type": "code",
   "execution_count": 587,
   "metadata": {
    "scrolled": true
   },
   "outputs": [
    {
     "data": {
      "text/html": [
       "<div>\n",
       "<style scoped>\n",
       "    .dataframe tbody tr th:only-of-type {\n",
       "        vertical-align: middle;\n",
       "    }\n",
       "\n",
       "    .dataframe tbody tr th {\n",
       "        vertical-align: top;\n",
       "    }\n",
       "\n",
       "    .dataframe thead th {\n",
       "        text-align: right;\n",
       "    }\n",
       "</style>\n",
       "<table border=\"1\" class=\"dataframe\">\n",
       "  <thead>\n",
       "    <tr style=\"text-align: right;\">\n",
       "      <th></th>\n",
       "      <th>Flow Duration</th>\n",
       "      <th>Total Fwd Packets</th>\n",
       "      <th>Total Backward Packets</th>\n",
       "      <th>Total Length of Fwd Packets</th>\n",
       "      <th>Total Length of Bwd Packets</th>\n",
       "      <th>Fwd Packet Length Max</th>\n",
       "      <th>Fwd Packet Length Min</th>\n",
       "      <th>Fwd Packet Length Mean</th>\n",
       "      <th>Fwd Packet Length Std</th>\n",
       "      <th>Bwd Packet Length Max</th>\n",
       "      <th>...</th>\n",
       "      <th>Active Mean</th>\n",
       "      <th>Active Std</th>\n",
       "      <th>Active Max</th>\n",
       "      <th>Active Min</th>\n",
       "      <th>Idle Mean</th>\n",
       "      <th>Idle Std</th>\n",
       "      <th>Idle Max</th>\n",
       "      <th>Idle Min</th>\n",
       "      <th>klabel</th>\n",
       "      <th>Label</th>\n",
       "    </tr>\n",
       "  </thead>\n",
       "  <tbody>\n",
       "    <tr>\n",
       "      <th>47844</th>\n",
       "      <td>1.803227</td>\n",
       "      <td>0.037025</td>\n",
       "      <td>0.008402</td>\n",
       "      <td>-0.018757</td>\n",
       "      <td>0.057771</td>\n",
       "      <td>0.238589</td>\n",
       "      <td>-0.211176</td>\n",
       "      <td>-0.009507</td>\n",
       "      <td>0.256470</td>\n",
       "      <td>1.528323</td>\n",
       "      <td>...</td>\n",
       "      <td>-0.108517</td>\n",
       "      <td>-0.081787</td>\n",
       "      <td>-0.127539</td>\n",
       "      <td>-0.093375</td>\n",
       "      <td>2.201385</td>\n",
       "      <td>-0.137652</td>\n",
       "      <td>2.123331</td>\n",
       "      <td>2.237288</td>\n",
       "      <td>2</td>\n",
       "      <td>3</td>\n",
       "    </tr>\n",
       "    <tr>\n",
       "      <th>43814</th>\n",
       "      <td>2.123366</td>\n",
       "      <td>-0.015701</td>\n",
       "      <td>0.023437</td>\n",
       "      <td>-0.016931</td>\n",
       "      <td>0.057771</td>\n",
       "      <td>0.287912</td>\n",
       "      <td>-0.211176</td>\n",
       "      <td>0.178331</td>\n",
       "      <td>0.453412</td>\n",
       "      <td>1.528323</td>\n",
       "      <td>...</td>\n",
       "      <td>-0.086910</td>\n",
       "      <td>-0.081787</td>\n",
       "      <td>-0.110515</td>\n",
       "      <td>-0.069995</td>\n",
       "      <td>2.571624</td>\n",
       "      <td>-0.137652</td>\n",
       "      <td>2.483780</td>\n",
       "      <td>2.610204</td>\n",
       "      <td>4</td>\n",
       "      <td>3</td>\n",
       "    </tr>\n",
       "    <tr>\n",
       "      <th>26214</th>\n",
       "      <td>-0.527821</td>\n",
       "      <td>-0.086002</td>\n",
       "      <td>-0.066772</td>\n",
       "      <td>-0.032292</td>\n",
       "      <td>-0.047181</td>\n",
       "      <td>-0.184392</td>\n",
       "      <td>0.687361</td>\n",
       "      <td>-0.000891</td>\n",
       "      <td>-0.255106</td>\n",
       "      <td>-0.513940</td>\n",
       "      <td>...</td>\n",
       "      <td>-0.109890</td>\n",
       "      <td>-0.081787</td>\n",
       "      <td>-0.128621</td>\n",
       "      <td>-0.094861</td>\n",
       "      <td>-0.458733</td>\n",
       "      <td>-0.137652</td>\n",
       "      <td>-0.466444</td>\n",
       "      <td>-0.442061</td>\n",
       "      <td>6</td>\n",
       "      <td>0</td>\n",
       "    </tr>\n",
       "    <tr>\n",
       "      <th>2337</th>\n",
       "      <td>-0.480469</td>\n",
       "      <td>-0.050851</td>\n",
       "      <td>-0.021668</td>\n",
       "      <td>-0.033089</td>\n",
       "      <td>0.057881</td>\n",
       "      <td>-0.218769</td>\n",
       "      <td>-0.211176</td>\n",
       "      <td>-0.198112</td>\n",
       "      <td>-0.209440</td>\n",
       "      <td>3.620336</td>\n",
       "      <td>...</td>\n",
       "      <td>-0.109890</td>\n",
       "      <td>-0.081787</td>\n",
       "      <td>-0.128621</td>\n",
       "      <td>-0.094861</td>\n",
       "      <td>-0.458733</td>\n",
       "      <td>-0.137652</td>\n",
       "      <td>-0.466444</td>\n",
       "      <td>-0.442061</td>\n",
       "      <td>11</td>\n",
       "      <td>3</td>\n",
       "    </tr>\n",
       "    <tr>\n",
       "      <th>6018</th>\n",
       "      <td>-0.389217</td>\n",
       "      <td>-0.015701</td>\n",
       "      <td>-0.081807</td>\n",
       "      <td>-0.032901</td>\n",
       "      <td>-0.048344</td>\n",
       "      <td>-0.239693</td>\n",
       "      <td>-0.085799</td>\n",
       "      <td>-0.213430</td>\n",
       "      <td>-0.255106</td>\n",
       "      <td>-0.559724</td>\n",
       "      <td>...</td>\n",
       "      <td>-0.109881</td>\n",
       "      <td>-0.081787</td>\n",
       "      <td>-0.128613</td>\n",
       "      <td>-0.094851</td>\n",
       "      <td>-0.299624</td>\n",
       "      <td>-0.137652</td>\n",
       "      <td>-0.311543</td>\n",
       "      <td>-0.281802</td>\n",
       "      <td>12</td>\n",
       "      <td>3</td>\n",
       "    </tr>\n",
       "    <tr>\n",
       "      <th>...</th>\n",
       "      <td>...</td>\n",
       "      <td>...</td>\n",
       "      <td>...</td>\n",
       "      <td>...</td>\n",
       "      <td>...</td>\n",
       "      <td>...</td>\n",
       "      <td>...</td>\n",
       "      <td>...</td>\n",
       "      <td>...</td>\n",
       "      <td>...</td>\n",
       "      <td>...</td>\n",
       "      <td>...</td>\n",
       "      <td>...</td>\n",
       "      <td>...</td>\n",
       "      <td>...</td>\n",
       "      <td>...</td>\n",
       "      <td>...</td>\n",
       "      <td>...</td>\n",
       "      <td>...</td>\n",
       "      <td>...</td>\n",
       "      <td>...</td>\n",
       "    </tr>\n",
       "    <tr>\n",
       "      <th>3612</th>\n",
       "      <td>-0.445424</td>\n",
       "      <td>-0.033276</td>\n",
       "      <td>-0.081807</td>\n",
       "      <td>-0.033182</td>\n",
       "      <td>-0.048344</td>\n",
       "      <td>-0.239693</td>\n",
       "      <td>-0.085799</td>\n",
       "      <td>-0.213430</td>\n",
       "      <td>-0.255106</td>\n",
       "      <td>-0.559724</td>\n",
       "      <td>...</td>\n",
       "      <td>-0.109890</td>\n",
       "      <td>-0.081787</td>\n",
       "      <td>-0.128621</td>\n",
       "      <td>-0.094861</td>\n",
       "      <td>-0.458733</td>\n",
       "      <td>-0.137652</td>\n",
       "      <td>-0.466444</td>\n",
       "      <td>-0.442061</td>\n",
       "      <td>980</td>\n",
       "      <td>3</td>\n",
       "    </tr>\n",
       "    <tr>\n",
       "      <th>39727</th>\n",
       "      <td>2.737999</td>\n",
       "      <td>0.212777</td>\n",
       "      <td>0.173784</td>\n",
       "      <td>-0.003021</td>\n",
       "      <td>-0.041205</td>\n",
       "      <td>0.187772</td>\n",
       "      <td>-0.211176</td>\n",
       "      <td>-0.034718</td>\n",
       "      <td>0.157580</td>\n",
       "      <td>-0.421290</td>\n",
       "      <td>...</td>\n",
       "      <td>-0.032902</td>\n",
       "      <td>0.155446</td>\n",
       "      <td>0.121735</td>\n",
       "      <td>-0.062938</td>\n",
       "      <td>-0.149549</td>\n",
       "      <td>-0.120981</td>\n",
       "      <td>-0.163547</td>\n",
       "      <td>-0.138164</td>\n",
       "      <td>984</td>\n",
       "      <td>0</td>\n",
       "    </tr>\n",
       "    <tr>\n",
       "      <th>24455</th>\n",
       "      <td>-0.527628</td>\n",
       "      <td>-0.033276</td>\n",
       "      <td>-0.021668</td>\n",
       "      <td>-0.028124</td>\n",
       "      <td>-0.045232</td>\n",
       "      <td>-0.199338</td>\n",
       "      <td>0.478399</td>\n",
       "      <td>-0.058334</td>\n",
       "      <td>-0.255106</td>\n",
       "      <td>-0.529081</td>\n",
       "      <td>...</td>\n",
       "      <td>-0.109890</td>\n",
       "      <td>-0.081787</td>\n",
       "      <td>-0.128621</td>\n",
       "      <td>-0.094861</td>\n",
       "      <td>-0.458733</td>\n",
       "      <td>-0.137652</td>\n",
       "      <td>-0.466444</td>\n",
       "      <td>-0.442061</td>\n",
       "      <td>992</td>\n",
       "      <td>0</td>\n",
       "    </tr>\n",
       "    <tr>\n",
       "      <th>26597</th>\n",
       "      <td>-0.293473</td>\n",
       "      <td>0.054600</td>\n",
       "      <td>-0.006633</td>\n",
       "      <td>0.018523</td>\n",
       "      <td>-0.046980</td>\n",
       "      <td>0.524064</td>\n",
       "      <td>-0.211176</td>\n",
       "      <td>0.472057</td>\n",
       "      <td>0.735884</td>\n",
       "      <td>-0.510335</td>\n",
       "      <td>...</td>\n",
       "      <td>-0.109890</td>\n",
       "      <td>-0.081787</td>\n",
       "      <td>-0.128621</td>\n",
       "      <td>-0.094861</td>\n",
       "      <td>-0.458733</td>\n",
       "      <td>-0.137652</td>\n",
       "      <td>-0.466444</td>\n",
       "      <td>-0.442061</td>\n",
       "      <td>995</td>\n",
       "      <td>0</td>\n",
       "    </tr>\n",
       "    <tr>\n",
       "      <th>53363</th>\n",
       "      <td>-0.526805</td>\n",
       "      <td>-0.068427</td>\n",
       "      <td>-0.051737</td>\n",
       "      <td>-0.030653</td>\n",
       "      <td>-0.046568</td>\n",
       "      <td>-0.190371</td>\n",
       "      <td>0.603776</td>\n",
       "      <td>-0.023868</td>\n",
       "      <td>-0.255106</td>\n",
       "      <td>-0.524755</td>\n",
       "      <td>...</td>\n",
       "      <td>-0.109890</td>\n",
       "      <td>-0.081787</td>\n",
       "      <td>-0.128621</td>\n",
       "      <td>-0.094861</td>\n",
       "      <td>-0.458733</td>\n",
       "      <td>-0.137652</td>\n",
       "      <td>-0.466444</td>\n",
       "      <td>-0.442061</td>\n",
       "      <td>999</td>\n",
       "      <td>0</td>\n",
       "    </tr>\n",
       "  </tbody>\n",
       "</table>\n",
       "<p>316 rows × 79 columns</p>\n",
       "</div>"
      ],
      "text/plain": [
       "       Flow Duration  Total Fwd Packets  Total Backward Packets  \\\n",
       "47844       1.803227           0.037025                0.008402   \n",
       "43814       2.123366          -0.015701                0.023437   \n",
       "26214      -0.527821          -0.086002               -0.066772   \n",
       "2337       -0.480469          -0.050851               -0.021668   \n",
       "6018       -0.389217          -0.015701               -0.081807   \n",
       "...              ...                ...                     ...   \n",
       "3612       -0.445424          -0.033276               -0.081807   \n",
       "39727       2.737999           0.212777                0.173784   \n",
       "24455      -0.527628          -0.033276               -0.021668   \n",
       "26597      -0.293473           0.054600               -0.006633   \n",
       "53363      -0.526805          -0.068427               -0.051737   \n",
       "\n",
       "       Total Length of Fwd Packets  Total Length of Bwd Packets  \\\n",
       "47844                    -0.018757                     0.057771   \n",
       "43814                    -0.016931                     0.057771   \n",
       "26214                    -0.032292                    -0.047181   \n",
       "2337                     -0.033089                     0.057881   \n",
       "6018                     -0.032901                    -0.048344   \n",
       "...                            ...                          ...   \n",
       "3612                     -0.033182                    -0.048344   \n",
       "39727                    -0.003021                    -0.041205   \n",
       "24455                    -0.028124                    -0.045232   \n",
       "26597                     0.018523                    -0.046980   \n",
       "53363                    -0.030653                    -0.046568   \n",
       "\n",
       "       Fwd Packet Length Max  Fwd Packet Length Min  Fwd Packet Length Mean  \\\n",
       "47844               0.238589              -0.211176               -0.009507   \n",
       "43814               0.287912              -0.211176                0.178331   \n",
       "26214              -0.184392               0.687361               -0.000891   \n",
       "2337               -0.218769              -0.211176               -0.198112   \n",
       "6018               -0.239693              -0.085799               -0.213430   \n",
       "...                      ...                    ...                     ...   \n",
       "3612               -0.239693              -0.085799               -0.213430   \n",
       "39727               0.187772              -0.211176               -0.034718   \n",
       "24455              -0.199338               0.478399               -0.058334   \n",
       "26597               0.524064              -0.211176                0.472057   \n",
       "53363              -0.190371               0.603776               -0.023868   \n",
       "\n",
       "       Fwd Packet Length Std  Bwd Packet Length Max  ...  Active Mean  \\\n",
       "47844               0.256470               1.528323  ...    -0.108517   \n",
       "43814               0.453412               1.528323  ...    -0.086910   \n",
       "26214              -0.255106              -0.513940  ...    -0.109890   \n",
       "2337               -0.209440               3.620336  ...    -0.109890   \n",
       "6018               -0.255106              -0.559724  ...    -0.109881   \n",
       "...                      ...                    ...  ...          ...   \n",
       "3612               -0.255106              -0.559724  ...    -0.109890   \n",
       "39727               0.157580              -0.421290  ...    -0.032902   \n",
       "24455              -0.255106              -0.529081  ...    -0.109890   \n",
       "26597               0.735884              -0.510335  ...    -0.109890   \n",
       "53363              -0.255106              -0.524755  ...    -0.109890   \n",
       "\n",
       "       Active Std  Active Max  Active Min  Idle Mean  Idle Std  Idle Max  \\\n",
       "47844   -0.081787   -0.127539   -0.093375   2.201385 -0.137652  2.123331   \n",
       "43814   -0.081787   -0.110515   -0.069995   2.571624 -0.137652  2.483780   \n",
       "26214   -0.081787   -0.128621   -0.094861  -0.458733 -0.137652 -0.466444   \n",
       "2337    -0.081787   -0.128621   -0.094861  -0.458733 -0.137652 -0.466444   \n",
       "6018    -0.081787   -0.128613   -0.094851  -0.299624 -0.137652 -0.311543   \n",
       "...           ...         ...         ...        ...       ...       ...   \n",
       "3612    -0.081787   -0.128621   -0.094861  -0.458733 -0.137652 -0.466444   \n",
       "39727    0.155446    0.121735   -0.062938  -0.149549 -0.120981 -0.163547   \n",
       "24455   -0.081787   -0.128621   -0.094861  -0.458733 -0.137652 -0.466444   \n",
       "26597   -0.081787   -0.128621   -0.094861  -0.458733 -0.137652 -0.466444   \n",
       "53363   -0.081787   -0.128621   -0.094861  -0.458733 -0.137652 -0.466444   \n",
       "\n",
       "       Idle Min  klabel  Label  \n",
       "47844  2.237288       2      3  \n",
       "43814  2.610204       4      3  \n",
       "26214 -0.442061       6      0  \n",
       "2337  -0.442061      11      3  \n",
       "6018  -0.281802      12      3  \n",
       "...         ...     ...    ...  \n",
       "3612  -0.442061     980      3  \n",
       "39727 -0.138164     984      0  \n",
       "24455 -0.442061     992      0  \n",
       "26597 -0.442061     995      0  \n",
       "53363 -0.442061     999      0  \n",
       "\n",
       "[316 rows x 79 columns]"
      ]
     },
     "execution_count": 587,
     "metadata": {},
     "output_type": "execute_result"
    }
   ],
   "source": [
    "result"
   ]
  },
  {
   "cell_type": "code",
   "execution_count": 588,
   "metadata": {},
   "outputs": [],
   "source": [
    "result = result.drop(['klabel'],axis=1)\n",
    "result = result._append(df_minor)"
   ]
  },
  {
   "cell_type": "code",
   "execution_count": 589,
   "metadata": {},
   "outputs": [],
   "source": [
    "result.to_csv('./data/CICIDS2017_sample_km.csv',index=0)"
   ]
  },
  {
   "cell_type": "markdown",
   "metadata": {},
   "source": [
    "### split train set and test set"
   ]
  },
  {
   "cell_type": "code",
   "execution_count": 590,
   "metadata": {},
   "outputs": [],
   "source": [
    "# Read the sampled dataset\n",
    "df=pd.read_csv('./data/CICIDS2017_sample_km.csv')"
   ]
  },
  {
   "cell_type": "code",
   "execution_count": 591,
   "metadata": {},
   "outputs": [],
   "source": [
    "X = df.drop(['Label'],axis=1).values\n",
    "y = df.iloc[:, -1].values.reshape(-1,1)\n",
    "y=np.ravel(y)"
   ]
  },
  {
   "cell_type": "code",
   "execution_count": 592,
   "metadata": {
    "collapsed": true
   },
   "outputs": [],
   "source": [
    "X_train, X_test, y_train, y_test = train_test_split(X,y, train_size = 0.8, test_size = 0.2, random_state = 0,stratify = y)"
   ]
  },
  {
   "cell_type": "markdown",
   "metadata": {},
   "source": [
    "## Feature engineering"
   ]
  },
  {
   "cell_type": "markdown",
   "metadata": {},
   "source": [
    "### Feature selection by information gain"
   ]
  },
  {
   "cell_type": "code",
   "execution_count": 593,
   "metadata": {
    "collapsed": true
   },
   "outputs": [],
   "source": [
    "from sklearn.feature_selection import mutual_info_classif\n",
    "importances = mutual_info_classif(X_train, y_train)"
   ]
  },
  {
   "cell_type": "code",
   "execution_count": 594,
   "metadata": {},
   "outputs": [],
   "source": [
    "# calculate the sum of importance scores\n",
    "f_list = sorted(zip(map(lambda x: round(x, 4), importances), features), reverse=True)\n",
    "Sum = 0\n",
    "fs = []\n",
    "for i in range(0, len(f_list)):\n",
    "    Sum = Sum + f_list[i][0]\n",
    "    fs.append(f_list[i][1])"
   ]
  },
  {
   "cell_type": "code",
   "execution_count": 595,
   "metadata": {},
   "outputs": [],
   "source": [
    "# select the important features from top to bottom until the accumulated importance reaches 90%\n",
    "f_list2 = sorted(zip(map(lambda x: round(x, 4), importances/Sum), features), reverse=True)\n",
    "Sum2 = 0\n",
    "fs = []\n",
    "for i in range(0, len(f_list2)):\n",
    "    Sum2 = Sum2 + f_list2[i][0]\n",
    "    fs.append(f_list2[i][1])\n",
    "    if Sum2>=0.9:\n",
    "        break        "
   ]
  },
  {
   "cell_type": "code",
   "execution_count": 596,
   "metadata": {
    "collapsed": true
   },
   "outputs": [],
   "source": [
    "X_fs = df[fs].values"
   ]
  },
  {
   "cell_type": "code",
   "execution_count": 597,
   "metadata": {},
   "outputs": [
    {
     "data": {
      "text/plain": [
       "(4498, 43)"
      ]
     },
     "execution_count": 597,
     "metadata": {},
     "output_type": "execute_result"
    }
   ],
   "source": [
    "X_fs.shape"
   ]
  },
  {
   "cell_type": "markdown",
   "metadata": {},
   "source": [
    "### Feature selection by Fast Correlation Based Filter (FCBF)\n",
    "\n",
    "The module is imported from the GitHub repo: https://github.com/SantiagoEG/FCBF_module"
   ]
  },
  {
   "cell_type": "code",
   "execution_count": 598,
   "metadata": {
    "collapsed": true
   },
   "outputs": [],
   "source": [
    "def count_vals(x):\n",
    "    vals = np.unique(x)\n",
    "    occ = np.zeros(shape = vals.shape)    \n",
    "    for i in range(vals.size):\n",
    "        occ[i] = np.sum(x == vals[i])\n",
    "    return occ\n",
    "\n",
    "def entropy(x):\n",
    "    n = float(x.shape[0])\n",
    "    ocurrence = count_vals(x)\n",
    "    px = ocurrence / n\n",
    "    return -1* np.sum(px*np.log2(px))\n",
    "\n",
    "def symmetricalUncertain(x,y):\n",
    "    n = float(y.shape[0])\n",
    "    vals = np.unique(y)\n",
    "    # Computing Entropy for the feature x. \n",
    "    Hx = entropy(x)\n",
    "    # Computing Entropy for the feature y.\n",
    "    Hy = entropy(y)\n",
    "    #Computing Joint entropy between x and y.\n",
    "    partial = np.zeros(shape = (vals.shape[0]))\n",
    "    for i in range(vals.shape[0]):    \n",
    "       partial[i] = entropy(x[y == vals[i]]) \n",
    "    \n",
    "    partial[np.isnan(partial)==1] = 0      \n",
    "    py = count_vals(y).astype(dtype = 'float64') / n\n",
    "    Hxy = np.sum(py[py > 0]*partial) \n",
    "    IG = Hx-Hxy\n",
    "    return 2*IG/(Hx+Hy)\n",
    "\n",
    "def suGroup(x, n):\n",
    "    m = x.shape[0]\n",
    "    x = np.reshape(x, (n,int(m//n))).T\n",
    "    m = x.shape[1]\n",
    "    SU_matrix = np.zeros(shape = (m,m))\n",
    "    for j in range(m-1):\n",
    "        x2 = x[:,j+1::]\n",
    "        y = x[:,j]\n",
    "        temp = np.apply_along_axis(symmetricalUncertain, 0, x2, y)\n",
    "        for k in range(temp.shape[0]):\n",
    "            SU_matrix[j,j+1::] = temp\n",
    "            SU_matrix[j+1::,j] = temp\n",
    "    \n",
    "    return 1/float(m-1)*np.sum(SU_matrix, axis = 1)\n",
    "\n",
    "def isprime(a):\n",
    "    return all(a % i for i in range(2, a))\n",
    "\n",
    "\n",
    "\"\"\"\n",
    "get\n",
    "\"\"\"\n",
    "\n",
    "def get_i(a):\n",
    "    if isprime(a):\n",
    "        a -= 1\n",
    "    return filter(lambda x: a % x == 0, range(2,a))\n",
    "\n",
    "\n",
    "\"\"\"\n",
    "FCBF - Fast Correlation Based Filter\n",
    "\n",
    "L. Yu and H. Liu. Feature Selection for High‐Dimensional Data: A Fast Correlation‐Based Filter Solution. \n",
    "In Proceedings of The Twentieth International Conference on Machine Leaning (ICML‐03), 856‐863.\n",
    "Washington, D.C., August 21‐24, 2003.\n",
    "\"\"\"\n",
    "\n",
    "class FCBF:\n",
    "    \n",
    "    idx_sel = []\n",
    "    \n",
    "    \n",
    "    def __init__(self, th = 0.01):\n",
    "        '''\n",
    "        Parameters\n",
    "        ---------------\n",
    "            th = The initial threshold \n",
    "        '''\n",
    "        self.th = th\n",
    "\n",
    "\n",
    "    def fit(self, x, y):\n",
    "        '''\n",
    "        This function executes FCBF algorithm and saves indexes \n",
    "        of selected features in self.idx_sel\n",
    "        \n",
    "        Parameters\n",
    "        ---------------\n",
    "            x = dataset  [NxM] \n",
    "            y = label    [Nx1]\n",
    "        '''\n",
    "        self.idx_sel = []\n",
    "        \"\"\"\n",
    "        First Stage: Computing the SU for each feature with the response.\n",
    "        \"\"\"\n",
    "        SU_vec = np.apply_along_axis(symmetricalUncertain, 0, x, y)\n",
    "        SU_list = SU_vec[SU_vec > self.th]\n",
    "        SU_list[::-1].sort()\n",
    "        \n",
    "        m = x[:,SU_vec > self.th].shape\n",
    "        x_sorted = np.zeros(shape = m)\n",
    "        \n",
    "        for i in range(m[1]):\n",
    "            ind = np.argmax(SU_vec)\n",
    "            SU_vec[ind] = 0\n",
    "            x_sorted[:,i] = x[:,ind].copy()\n",
    "            self.idx_sel.append(ind)\n",
    "        \n",
    "        \"\"\"\n",
    "        Second Stage: Identify relationships between feature to remove redundancy.\n",
    "        \"\"\"\n",
    "        j = 0\n",
    "        while True:\n",
    "            \"\"\"\n",
    "            Stopping Criteria:The search finishes\n",
    "            \"\"\"\n",
    "            if j >= x_sorted.shape[1]: break\n",
    "            y = x_sorted[:,j].copy()\n",
    "            x_list = x_sorted[:,j+1:].copy()\n",
    "            if x_list.shape[1] == 0: break\n",
    "                \n",
    "                \n",
    "            SU_list_2 = SU_list[j+1:]\n",
    "            SU_x = np.apply_along_axis(symmetricalUncertain, 0, \n",
    "                                       x_list, y)\n",
    "            \n",
    "            comp_SU = SU_x >= SU_list_2\n",
    "            to_remove = np.where(comp_SU)[0] + j + 1 \n",
    "            if to_remove.size > 0:\n",
    "                x_sorted = np.delete(x_sorted, to_remove, axis = 1)\n",
    "                SU_list = np.delete(SU_list, to_remove, axis = 0)\n",
    "                to_remove.sort()\n",
    "                for r in reversed(to_remove): \n",
    "                    self.idx_sel.remove(self.idx_sel[r])\n",
    "            j = j + 1        \n",
    "            \n",
    "    def fit_transform(self, x, y):\n",
    "        '''\n",
    "        This function fits the feature selection \n",
    "        algorithm and returns the resulting subset.\n",
    "        \n",
    "        Parameters\n",
    "        ---------------\n",
    "            x = dataset  [NxM] \n",
    "            y = label    [Nx1]\n",
    "        '''\n",
    "        self.fit(x, y)\n",
    "        return x[:,self.idx_sel]\n",
    "         \n",
    "    def transform(self, x):\n",
    "        '''\n",
    "        This function applies the selection\n",
    "        to the vector x.\n",
    "        \n",
    "        Parameters\n",
    "        ---------------\n",
    "            x = dataset  [NxM] \n",
    "        '''\n",
    "        return x[:, self.idx_sel]  \n",
    "\n",
    "\n",
    "\"\"\"\n",
    "FCBF# - Fast Correlation Based Filter \n",
    "B. Senliol, G. Gulgezen, et al. Fast Correlation Based Filter (FCBF) with a Different Search Strategy. \n",
    "In Computer and Information Sciences (ISCIS ‘08) 23rd International Symposium on, pages 1‐4. \n",
    "Istanbul, October 27‐29, 2008.\n",
    "\"\"\"\n",
    "class FCBFK(FCBF):\n",
    "    \n",
    "    idx_sel = []\n",
    "    \n",
    "    \n",
    "    def __init__(self, k = 10):\n",
    "        '''\n",
    "        Parameters\n",
    "        ---------------\n",
    "            k = Number of features to include in the\n",
    "            subset.\n",
    "        '''\n",
    "        self.k = k\n",
    "\n",
    "\n",
    "    def fit(self, x, y):\n",
    "        '''\n",
    "        This function executes FCBFK algorithm and saves indexes \n",
    "        of selected features in self.idx_sel\n",
    "        \n",
    "        Parameters\n",
    "        ---------------\n",
    "            x = dataset  [NxM] \n",
    "            y = label    [Nx1]\n",
    "        '''        \n",
    "        self.idx_sel = []\n",
    "        \"\"\"\n",
    "        First Stage: Computing the SU for each feature with the response.\n",
    "        \"\"\"    \n",
    "        SU_vec = np.apply_along_axis(symmetricalUncertain, 0, x, y)\n",
    "        \n",
    "        SU_list = SU_vec[SU_vec > 0]\n",
    "        SU_list[::-1].sort()\n",
    "        \n",
    "        m = x[:,SU_vec > 0].shape\n",
    "        x_sorted = np.zeros(shape = m)\n",
    "        \n",
    "        for i in range(m[1]):\n",
    "            ind = np.argmax(SU_vec)\n",
    "            SU_vec[ind] = 0\n",
    "            x_sorted[:,i] = x[:,ind].copy() \n",
    "            self.idx_sel.append(ind)\n",
    "            \n",
    "        \"\"\"\n",
    "        Second Stage: Identify relationships between features to remove redundancy with stopping \n",
    "        criteria (features in x_best == k).\n",
    "        \"\"\"    \n",
    "        j = 0\n",
    "        while True:\n",
    "            y = x_sorted[:,j].copy()\n",
    "            SU_list_2 = SU_list[j+1:]    \n",
    "            x_list = x_sorted[:,j+1:].copy()\n",
    "            \n",
    "            \"\"\"\n",
    "            Stopping Criteria:The search finishes\n",
    "            \"\"\"\n",
    "            if x_list.shape[1] == 0: break\n",
    "                \n",
    "                \n",
    "            SU_x = np.apply_along_axis(symmetricalUncertain, 0, \n",
    "                                       x_list, y)\n",
    "            \n",
    "            comp_SU = SU_x >= SU_list_2\n",
    "            to_remove = np.where(comp_SU)[0] + j + 1 \n",
    "            if to_remove.size > 0 and x.shape[1] > self.k:\n",
    "    \n",
    "                for i in reversed(to_remove):\n",
    "                    \n",
    "                    x_sorted = np.delete(x_sorted, i, axis = 1)\n",
    "                    SU_list = np.delete(SU_list, i, axis = 0)                \n",
    "                    self.idx_sel.remove(self.idx_sel[i])\n",
    "                    if x_sorted.shape[1] == self.k: break  \n",
    "                    \n",
    "            if x_list.shape[1] == 1 or x_sorted.shape[1] == self.k: \n",
    "                break    \n",
    "            j = j + 1\n",
    "            \n",
    "        if len(self.idx_sel) > self.k:\n",
    "            self.idx_sel = self.idx_sel[:self.k]\n",
    "            \n",
    "            \n",
    "            \n",
    "\"\"\"\n",
    "FCBFiP - Fast Correlation Based Filter in Pieces\n",
    "\"\"\"            \n",
    "            \n",
    "class FCBFiP(FCBF):\n",
    "    \n",
    "    idx_sel = []\n",
    "\n",
    "\n",
    "    def __init__(self, k = 10, npieces = 2):\n",
    "        '''\n",
    "        Parameters\n",
    "        ---------------\n",
    "            k = Number of features to include in the\n",
    "            subset.\n",
    "            npieces = Number of pieces to divide the \n",
    "            feature space.\n",
    "        '''\n",
    "        self.k = k\n",
    "        self.npieces = npieces\n",
    "\n",
    "    def fit(self, x, y):\n",
    "        '''\n",
    "        This function executes FCBF algorithm and saves indexes \n",
    "        of selected features in self.idx_sel\n",
    "        \n",
    "        Parameters\n",
    "        ---------------\n",
    "            x = dataset  [NxM] \n",
    "            y = label    [Nx1]\n",
    "        '''\n",
    "    \n",
    "        \"\"\"\n",
    "        First Stage: Computing the SU for each feature with the response. We sort the \n",
    "        features. When we have a prime number of features we remove the last one from the\n",
    "        sorted features list.\n",
    "        \"\"\"      \n",
    "        m = x.shape\n",
    "        nfeaturesPieces = int(m[1] / float(self.npieces))        \n",
    "        SU_vec = np.apply_along_axis(symmetricalUncertain, 0, x, y)\n",
    "        \n",
    "        x_sorted = np.zeros(shape = m, dtype = 'float64')        \n",
    "        idx_sorted = np.zeros(shape = m[1], dtype = 'int64')\n",
    "        for i in range(m[1]):\n",
    "            ind = np.argmax(SU_vec)\n",
    "            SU_vec[ind] = -1\n",
    "            idx_sorted[i]= ind \n",
    "            x_sorted[:,i] = x[:,ind].copy() \n",
    "\n",
    "        if isprime(m[1]): \n",
    "            x_sorted = np.delete(x_sorted, m[1]-1, axis = 1 )\n",
    "            ind_prime = idx_sorted[m[1]-1]\n",
    "            idx_sorted = np.delete(idx_sorted, m[1]-1)\n",
    "            #m = x_sorted.shape\n",
    "        \"\"\"\n",
    "        Second Stage: Identify relationships between features into its vecinity\n",
    "        to remove redundancy with stopping criteria (features in x_best == k).\n",
    "        \"\"\"   \n",
    "        \n",
    "        x_2d = np.reshape(x_sorted.T, (self.npieces, nfeaturesPieces*m[0])).T\n",
    "    \n",
    "        SU_x =  np.apply_along_axis(suGroup, 0, x_2d, nfeaturesPieces)\n",
    "        SU_x = np.reshape(SU_x.T, (self.npieces*nfeaturesPieces,))\n",
    "        idx_sorted2 = np.zeros(shape = idx_sorted.shape, dtype = 'int64')\n",
    "        SU_x[np.isnan(SU_x)] = 1        \n",
    "        \n",
    "        for i in range(idx_sorted.shape[0]):\n",
    "            ind =  np.argmin(SU_x)\n",
    "            idx_sorted2[i] = idx_sorted[ind]\n",
    "            SU_x[ind] = 10    \n",
    "        \n",
    "        \"\"\"\n",
    "        Scoring step\n",
    "        \"\"\"        \n",
    "        self.scores = np.zeros(shape = m[1], dtype = 'int64') \n",
    "           \n",
    "        for i in range(m[1]):\n",
    "            if i in idx_sorted:\n",
    "                self.scores[i] = np.argwhere(i == idx_sorted) + np.argwhere(i == idx_sorted2)\n",
    "        if isprime(m[1]): \n",
    "            self.scores[ind_prime] = 2*m[1]\n",
    "        self.set_k(self.k)\n",
    "\n",
    "\n",
    "    def set_k(self, k):\n",
    "        self.k = k \n",
    "        scores_temp = -1*self.scores\n",
    "        \n",
    "        self.idx_sel = np.zeros(shape = self.k, dtype = 'int64')\n",
    "        for i in range(self.k):\n",
    "            ind =  np.argmax(scores_temp)\n",
    "            scores_temp[ind] = -100000000\n",
    "            self.idx_sel[i] = ind\n",
    "\n",
    "\n",
    "\n",
    "\n",
    "\n",
    "fcbf = FCBFK(k = 20)\n",
    "#fcbf.fit(X_fs, y)"
   ]
  },
  {
   "cell_type": "code",
   "execution_count": 599,
   "metadata": {},
   "outputs": [
    {
     "name": "stdout",
     "output_type": "stream",
     "text": [
      "['Fwd IAT Total', 'Bwd Packet Length Std', 'Flow Duration', 'Total Fwd Packets', 'Bwd Packet Length Max', 'Bwd Packet Length Min', 'Bwd Packet Length Mean', 'Fwd Packet Length Min', 'Total Length of Fwd Packets', 'Fwd Packet Length Mean', 'Fwd Packet Length Std', 'Fwd Packet Length Max', 'Total Backward Packets', 'Total Length of Bwd Packets', 'Fwd PSH Flags', 'Bwd IAT Max', 'Bwd IAT Min', 'Bwd PSH Flags', 'Fwd Packets/s', 'Bwd Packets/s']\n"
     ]
    },
    {
     "data": {
      "text/plain": [
       "['./features/selected_features.joblib']"
      ]
     },
     "execution_count": 599,
     "metadata": {},
     "output_type": "execute_result"
    }
   ],
   "source": [
    "X_fss = fcbf.fit_transform(X_fs,y)\n",
    "\n",
    "#Save the selected features\n",
    "selected_indices = fcbf.idx_sel \n",
    "selected_features = df.columns[selected_indices]  \n",
    "print(selected_features.tolist())\n",
    "joblib.dump(selected_features.tolist(), './features/selected_features.joblib')"
   ]
  },
  {
   "cell_type": "code",
   "execution_count": 600,
   "metadata": {},
   "outputs": [
    {
     "data": {
      "text/plain": [
       "(4498, 20)"
      ]
     },
     "execution_count": 600,
     "metadata": {},
     "output_type": "execute_result"
    }
   ],
   "source": [
    "X_fss.shape"
   ]
  },
  {
   "cell_type": "code",
   "execution_count": null,
   "metadata": {},
   "outputs": [],
   "source": []
  },
  {
   "cell_type": "markdown",
   "metadata": {},
   "source": [
    "### Re-split train & test sets after feature selection"
   ]
  },
  {
   "cell_type": "code",
   "execution_count": 601,
   "metadata": {
    "collapsed": true
   },
   "outputs": [],
   "source": [
    "X_train, X_test, y_train, y_test = train_test_split(X_fss,y, train_size = 0.8, test_size = 0.2, random_state = 0,stratify = y)"
   ]
  },
  {
   "cell_type": "code",
   "execution_count": 602,
   "metadata": {},
   "outputs": [
    {
     "data": {
      "text/plain": [
       "(3598, 20)"
      ]
     },
     "execution_count": 602,
     "metadata": {},
     "output_type": "execute_result"
    }
   ],
   "source": [
    "X_train.shape"
   ]
  },
  {
   "cell_type": "code",
   "execution_count": 603,
   "metadata": {},
   "outputs": [
    {
     "data": {
      "text/plain": [
       "6    1744\n",
       "1    1573\n",
       "0      99\n",
       "3      89\n",
       "5      49\n",
       "4      29\n",
       "2      15\n",
       "Name: count, dtype: int64"
      ]
     },
     "execution_count": 603,
     "metadata": {},
     "output_type": "execute_result"
    }
   ],
   "source": [
    "pd.Series(y_train).value_counts()"
   ]
  },
  {
   "cell_type": "markdown",
   "metadata": {},
   "source": [
    "### SMOTE to solve class-imbalance"
   ]
  },
  {
   "cell_type": "code",
   "execution_count": 604,
   "metadata": {},
   "outputs": [],
   "source": [
    "from imblearn.over_sampling import SMOTE\n",
    "smote=SMOTE(sampling_strategy={2:1000,4:1000})"
   ]
  },
  {
   "cell_type": "code",
   "execution_count": 605,
   "metadata": {
    "collapsed": true
   },
   "outputs": [],
   "source": [
    "X_train, y_train = smote.fit_resample(X_train, y_train)"
   ]
  },
  {
   "cell_type": "code",
   "execution_count": 606,
   "metadata": {},
   "outputs": [
    {
     "data": {
      "text/plain": [
       "6    1744\n",
       "1    1573\n",
       "2    1000\n",
       "4    1000\n",
       "0      99\n",
       "3      89\n",
       "5      49\n",
       "Name: count, dtype: int64"
      ]
     },
     "execution_count": 606,
     "metadata": {},
     "output_type": "execute_result"
    }
   ],
   "source": [
    "pd.Series(y_train).value_counts()"
   ]
  },
  {
   "cell_type": "code",
   "execution_count": 607,
   "metadata": {},
   "outputs": [],
   "source": [
    "from imblearn.over_sampling import SMOTE\n",
    "smote=SMOTE(sampling_strategy={2:1000,4:1000})"
   ]
  },
  {
   "cell_type": "markdown",
   "metadata": {},
   "source": [
    "## Machine learning model training"
   ]
  },
  {
   "cell_type": "markdown",
   "metadata": {},
   "source": [
    "### Training four base learners: decision tree, random forest, extra trees, XGBoost"
   ]
  },
  {
   "cell_type": "markdown",
   "metadata": {},
   "source": [
    "#### Apply XGBoost"
   ]
  },
  {
   "cell_type": "code",
   "execution_count": 608,
   "metadata": {},
   "outputs": [
    {
     "name": "stdout",
     "output_type": "stream",
     "text": [
      "Accuracy of XGBoost: 0.9866666666666667\n",
      "Precision of XGBoost: 0.9884028932388332\n",
      "Recall of XGBoost: 0.9866666666666667\n",
      "F1-score of XGBoost: 0.9862898693215281\n",
      "              precision    recall  f1-score   support\n",
      "\n",
      "           0       1.00      0.68      0.81        25\n",
      "           1       1.00      0.99      1.00       393\n",
      "           2       1.00      1.00      1.00         4\n",
      "           3       1.00      0.91      0.95        22\n",
      "           4       0.64      1.00      0.78         7\n",
      "           5       1.00      1.00      1.00        13\n",
      "           6       0.98      1.00      0.99       436\n",
      "\n",
      "    accuracy                           0.99       900\n",
      "   macro avg       0.95      0.94      0.93       900\n",
      "weighted avg       0.99      0.99      0.99       900\n",
      "\n"
     ]
    },
    {
     "data": {
      "image/png": "[encoded data removed]",
      "text/plain": [
       "<Figure size 500x500 with 2 Axes>"
      ]
     },
     "metadata": {},
     "output_type": "display_data"
    }
   ],
   "source": [
    "xg = xgb.XGBClassifier(n_estimators = 10)\n",
    "xg.fit(X_train,y_train)\n",
    "xg_score=xg.score(X_test,y_test)\n",
    "y_predict=xg.predict(X_test)\n",
    "y_true=y_test\n",
    "print('Accuracy of XGBoost: '+ str(xg_score))\n",
    "precision,recall,fscore,none= precision_recall_fscore_support(y_true, y_predict, average='weighted') \n",
    "print('Precision of XGBoost: '+(str(precision)))\n",
    "print('Recall of XGBoost: '+(str(recall)))\n",
    "print('F1-score of XGBoost: '+(str(fscore)))\n",
    "print(classification_report(y_true,y_predict))\n",
    "cm=confusion_matrix(y_true,y_predict)\n",
    "f,ax=plt.subplots(figsize=(5,5))\n",
    "sns.heatmap(cm,annot=True,linewidth=0.5,linecolor=\"red\",fmt=\".0f\",ax=ax)\n",
    "plt.xlabel(\"y_pred\")\n",
    "plt.ylabel(\"y_true\")\n",
    "plt.show()"
   ]
  },
  {
   "cell_type": "markdown",
   "metadata": {},
   "source": [
    "#### Hyperparameter optimization (HPO) of XGBoost using Bayesian optimization with tree-based Parzen estimator (BO-TPE)\n",
    "Based on the GitHub repo for HPO: https://github.com/LiYangHart/Hyperparameter-Optimization-of-Machine-Learning-Algorithms"
   ]
  },
  {
   "cell_type": "code",
   "execution_count": 609,
   "metadata": {},
   "outputs": [
    {
     "name": "stdout",
     "output_type": "stream",
     "text": [
      "100%|██████████| 20/20 [00:17<00:00,  1.15trial/s, best loss: -0.9955555555555555]\n",
      "XGBoost: Hyperopt estimated optimum {'learning_rate': 0.3310142209964681, 'max_depth': 98.0, 'n_estimators': 55.0}\n"
     ]
    }
   ],
   "source": [
    "from hyperopt import hp, fmin, tpe, STATUS_OK, Trials\n",
    "from sklearn.model_selection import cross_val_score, StratifiedKFold\n",
    "def objective(params):\n",
    "    params = {\n",
    "        'n_estimators': int(params['n_estimators']), \n",
    "        'max_depth': int(params['max_depth']),\n",
    "        'learning_rate':  abs(float(params['learning_rate'])),\n",
    "\n",
    "    }\n",
    "    clf = xgb.XGBClassifier( **params)\n",
    "    clf.fit(X_train, y_train)\n",
    "    y_pred = clf.predict(X_test)\n",
    "    score = accuracy_score(y_test, y_pred)\n",
    "\n",
    "    return {'loss':-score, 'status': STATUS_OK }\n",
    "\n",
    "space = {\n",
    "    'n_estimators': hp.quniform('n_estimators', 10, 100, 5),\n",
    "    'max_depth': hp.quniform('max_depth', 4, 100, 1),\n",
    "    'learning_rate': hp.normal('learning_rate', 0.01, 0.9),\n",
    "}\n",
    "\n",
    "best = fmin(fn=objective,\n",
    "            space=space,\n",
    "            algo=tpe.suggest,\n",
    "            max_evals=20)\n",
    "print(\"XGBoost: Hyperopt estimated optimum {}\".format(best))"
   ]
  },
  {
   "cell_type": "code",
   "execution_count": 610,
   "metadata": {},
   "outputs": [
    {
     "name": "stdout",
     "output_type": "stream",
     "text": [
      "Accuracy of XGBoost: 0.9955555555555555\n",
      "Precision of XGBoost: 0.9957074116568414\n",
      "Recall of XGBoost: 0.9955555555555555\n",
      "F1-score of XGBoost: 0.9954026043815442\n",
      "              precision    recall  f1-score   support\n",
      "\n",
      "           0       1.00      0.84      0.91        25\n",
      "           1       1.00      1.00      1.00       393\n",
      "           2       1.00      1.00      1.00         4\n",
      "           3       1.00      1.00      1.00        22\n",
      "           4       0.88      1.00      0.93         7\n",
      "           5       1.00      1.00      1.00        13\n",
      "           6       1.00      1.00      1.00       436\n",
      "\n",
      "    accuracy                           1.00       900\n",
      "   macro avg       0.98      0.98      0.98       900\n",
      "weighted avg       1.00      1.00      1.00       900\n",
      "\n"
     ]
    },
    {
     "data": {
      "image/png": "[encoded data removed]",
      "text/plain": [
       "<Figure size 500x500 with 2 Axes>"
      ]
     },
     "metadata": {},
     "output_type": "display_data"
    }
   ],
   "source": [
    "xg = xgb.XGBClassifier(learning_rate= 0.7340229699980686, n_estimators = 70, max_depth = 14)\n",
    "xg.fit(X_train,y_train)\n",
    "xg_score=xg.score(X_test,y_test)\n",
    "y_predict=xg.predict(X_test)\n",
    "y_true=y_test\n",
    "print('Accuracy of XGBoost: '+ str(xg_score))\n",
    "precision,recall,fscore,none= precision_recall_fscore_support(y_true, y_predict, average='weighted') \n",
    "print('Precision of XGBoost: '+(str(precision)))\n",
    "print('Recall of XGBoost: '+(str(recall)))\n",
    "print('F1-score of XGBoost: '+(str(fscore)))\n",
    "print(classification_report(y_true,y_predict))\n",
    "cm=confusion_matrix(y_true,y_predict)\n",
    "f,ax=plt.subplots(figsize=(5,5))\n",
    "sns.heatmap(cm,annot=True,linewidth=0.5,linecolor=\"red\",fmt=\".0f\",ax=ax)\n",
    "plt.xlabel(\"y_pred\")\n",
    "plt.ylabel(\"y_true\")\n",
    "plt.show()"
   ]
  },
  {
   "cell_type": "code",
   "execution_count": 611,
   "metadata": {},
   "outputs": [],
   "source": [
    "xg_train=xg.predict(X_train)\n",
    "xg_test=xg.predict(X_test)"
   ]
  },
  {
   "cell_type": "markdown",
   "metadata": {},
   "source": [
    "#### Apply RF"
   ]
  },
  {
   "cell_type": "code",
   "execution_count": 612,
   "metadata": {},
   "outputs": [
    {
     "name": "stdout",
     "output_type": "stream",
     "text": [
      "Accuracy of RF: 0.9922222222222222\n",
      "Precision of RF: 0.9925255991222424\n",
      "Recall of RF: 0.9922222222222222\n",
      "F1-score of RF: 0.9920311115593115\n",
      "              precision    recall  f1-score   support\n",
      "\n",
      "           0       1.00      0.80      0.89        25\n",
      "           1       1.00      1.00      1.00       393\n",
      "           2       1.00      1.00      1.00         4\n",
      "           3       0.95      0.95      0.95        22\n",
      "           4       0.75      0.86      0.80         7\n",
      "           5       1.00      1.00      1.00        13\n",
      "           6       0.99      1.00      1.00       436\n",
      "\n",
      "    accuracy                           0.99       900\n",
      "   macro avg       0.96      0.94      0.95       900\n",
      "weighted avg       0.99      0.99      0.99       900\n",
      "\n"
     ]
    },
    {
     "data": {
      "image/png": "[encoded data removed]",
      "text/plain": [
       "<Figure size 500x500 with 2 Axes>"
      ]
     },
     "metadata": {},
     "output_type": "display_data"
    }
   ],
   "source": [
    "rf = RandomForestClassifier(random_state = 0)\n",
    "rf.fit(X_train,y_train) \n",
    "rf_score=rf.score(X_test,y_test)\n",
    "y_predict=rf.predict(X_test)\n",
    "y_true=y_test\n",
    "print('Accuracy of RF: '+ str(rf_score))\n",
    "precision,recall,fscore,none= precision_recall_fscore_support(y_true, y_predict, average='weighted') \n",
    "print('Precision of RF: '+(str(precision)))\n",
    "print('Recall of RF: '+(str(recall)))\n",
    "print('F1-score of RF: '+(str(fscore)))\n",
    "print(classification_report(y_true,y_predict))\n",
    "cm=confusion_matrix(y_true,y_predict)\n",
    "f,ax=plt.subplots(figsize=(5,5))\n",
    "sns.heatmap(cm,annot=True,linewidth=0.5,linecolor=\"red\",fmt=\".0f\",ax=ax)\n",
    "plt.xlabel(\"y_pred\")\n",
    "plt.ylabel(\"y_true\")\n",
    "plt.show()"
   ]
  },
  {
   "cell_type": "markdown",
   "metadata": {},
   "source": [
    "#### Hyperparameter optimization (HPO) of random forest using Bayesian optimization with tree-based Parzen estimator (BO-TPE)\n",
    "Based on the GitHub repo for HPO: https://github.com/LiYangHart/Hyperparameter-Optimization-of-Machine-Learning-Algorithms"
   ]
  },
  {
   "cell_type": "code",
   "execution_count": 613,
   "metadata": {},
   "outputs": [
    {
     "name": "stdout",
     "output_type": "stream",
     "text": [
      "100%|██████████| 20/20 [00:14<00:00,  1.38trial/s, best loss: -0.9866666666666667]\n",
      "Random Forest: Hyperopt estimated optimum {'criterion': 1, 'max_depth': 37.0, 'max_features': 12.0, 'min_samples_leaf': 2.0, 'min_samples_split': 6.0, 'n_estimators': 69.0}\n"
     ]
    }
   ],
   "source": [
    "# Hyperparameter optimization of random forest\n",
    "from hyperopt import hp, fmin, tpe, STATUS_OK, Trials\n",
    "from sklearn.model_selection import cross_val_score, StratifiedKFold\n",
    "# Define the objective function\n",
    "def objective(params):\n",
    "    params = {\n",
    "        'n_estimators': int(params['n_estimators']), \n",
    "        'max_depth': int(params['max_depth']),\n",
    "        'max_features': int(params['max_features']),\n",
    "        \"min_samples_split\":int(params['min_samples_split']),\n",
    "        \"min_samples_leaf\":int(params['min_samples_leaf']),\n",
    "        \"criterion\":str(params['criterion'])\n",
    "    }\n",
    "    clf = RandomForestClassifier( **params)\n",
    "    clf.fit(X_train,y_train)\n",
    "    score=clf.score(X_test,y_test)\n",
    "\n",
    "    return {'loss':-score, 'status': STATUS_OK }\n",
    "# Define the hyperparameter configuration space\n",
    "space = {\n",
    "    'n_estimators': hp.quniform('n_estimators', 10, 200, 1),\n",
    "    'max_depth': hp.quniform('max_depth', 5, 50, 1),\n",
    "    \"max_features\":hp.quniform('max_features', 1, 20, 1),\n",
    "    \"min_samples_split\":hp.quniform('min_samples_split',2,11,1),\n",
    "    \"min_samples_leaf\":hp.quniform('min_samples_leaf',1,11,1),\n",
    "    \"criterion\":hp.choice('criterion',['gini','entropy'])\n",
    "}\n",
    "\n",
    "best = fmin(fn=objective,\n",
    "            space=space,\n",
    "            algo=tpe.suggest,\n",
    "            max_evals=20)\n",
    "print(\"Random Forest: Hyperopt estimated optimum {}\".format(best))"
   ]
  },
  {
   "cell_type": "code",
   "execution_count": 614,
   "metadata": {},
   "outputs": [
    {
     "name": "stdout",
     "output_type": "stream",
     "text": [
      "<class 'numpy.ndarray'>\n",
      "[ 0.74212177  1.58145868 -0.04606245 -0.04606245 -0.55972423 -0.59874409\n",
      " -0.59874409 -0.56950241  3.46884699 -0.04839057 -0.04834351 -0.0779658\n",
      " -0.62799905 -0.63124783 -0.24866129 -0.03430633 -0.03430633 -0.2478958\n",
      " -0.06677185 -0.06677185]\n",
      "Accuracy of RF: 0.9866666666666667\n",
      "Precision of RF: 0.987337902294446\n",
      "Recall of RF: 0.9866666666666667\n",
      "F1-score of RF: 0.986357731378251\n",
      "              precision    recall  f1-score   support\n",
      "\n",
      "           0       0.89      0.68      0.77        25\n",
      "           1       0.99      1.00      0.99       393\n",
      "           2       1.00      1.00      1.00         4\n",
      "           3       1.00      0.91      0.95        22\n",
      "           4       0.60      0.86      0.71         7\n",
      "           5       1.00      1.00      1.00        13\n",
      "           6       0.99      1.00      1.00       436\n",
      "\n",
      "    accuracy                           0.99       900\n",
      "   macro avg       0.93      0.92      0.92       900\n",
      "weighted avg       0.99      0.99      0.99       900\n",
      "\n"
     ]
    },
    {
     "data": {
      "image/png": "[encoded data removed]",
      "text/plain": [
       "<Figure size 500x500 with 2 Axes>"
      ]
     },
     "metadata": {},
     "output_type": "display_data"
    }
   ],
   "source": [
    "rf_hpo = RandomForestClassifier(n_estimators = 71, min_samples_leaf = 1, max_depth = 46, min_samples_split = 9, max_features = 20, criterion = 'entropy')\n",
    "rf_hpo.fit(X_train,y_train)\n",
    "rf_score=rf_hpo.score(X_test,y_test)\n",
    "y_predict=rf_hpo.predict(X_test)\n",
    "y_true=y_test\n",
    "\n",
    "joblib.dump(rf_hpo, './models/clf_rf.joblib')\n",
    "print(type(X_test))\n",
    "print(X_test[0])\n",
    "\n",
    "print('Accuracy of RF: '+ str(rf_score))\n",
    "precision,recall,fscore,none= precision_recall_fscore_support(y_true, y_predict, average='weighted') \n",
    "print('Precision of RF: '+(str(precision)))\n",
    "print('Recall of RF: '+(str(recall)))\n",
    "print('F1-score of RF: '+(str(fscore)))\n",
    "print(classification_report(y_true,y_predict))\n",
    "cm=confusion_matrix(y_true,y_predict)\n",
    "f,ax=plt.subplots(figsize=(5,5))\n",
    "sns.heatmap(cm,annot=True,linewidth=0.5,linecolor=\"red\",fmt=\".0f\",ax=ax)\n",
    "plt.xlabel(\"y_pred\")\n",
    "plt.ylabel(\"y_true\")\n",
    "plt.show()"
   ]
  },
  {
   "cell_type": "code",
   "execution_count": 615,
   "metadata": {
    "collapsed": true
   },
   "outputs": [],
   "source": [
    "rf_train=rf_hpo.predict(X_train)\n",
    "rf_test=rf_hpo.predict(X_test)"
   ]
  },
  {
   "cell_type": "markdown",
   "metadata": {},
   "source": [
    "#### Apply DT"
   ]
  },
  {
   "cell_type": "code",
   "execution_count": 616,
   "metadata": {},
   "outputs": [
    {
     "name": "stdout",
     "output_type": "stream",
     "text": [
      "Accuracy of DT: 0.9888888888888889\n",
      "Precision of DT: 0.9885116526639369\n",
      "Recall of DT: 0.9888888888888889\n",
      "F1-score of DT: 0.9885017604424486\n",
      "              precision    recall  f1-score   support\n",
      "\n",
      "           0       0.90      0.76      0.83        25\n",
      "           1       0.99      1.00      1.00       393\n",
      "           2       1.00      1.00      1.00         4\n",
      "           3       1.00      0.95      0.98        22\n",
      "           4       0.71      0.71      0.71         7\n",
      "           5       1.00      1.00      1.00        13\n",
      "           6       0.99      1.00      1.00       436\n",
      "\n",
      "    accuracy                           0.99       900\n",
      "   macro avg       0.94      0.92      0.93       900\n",
      "weighted avg       0.99      0.99      0.99       900\n",
      "\n"
     ]
    },
    {
     "data": {
      "image/png": "[encoded data removed]",
      "text/plain": [
       "<Figure size 500x500 with 2 Axes>"
      ]
     },
     "metadata": {},
     "output_type": "display_data"
    }
   ],
   "source": [
    "dt = DecisionTreeClassifier(random_state = 0)\n",
    "dt.fit(X_train,y_train) \n",
    "dt_score=dt.score(X_test,y_test)\n",
    "y_predict=dt.predict(X_test)\n",
    "y_true=y_test\n",
    "print('Accuracy of DT: '+ str(dt_score))\n",
    "precision,recall,fscore,none= precision_recall_fscore_support(y_true, y_predict, average='weighted') \n",
    "print('Precision of DT: '+(str(precision)))\n",
    "print('Recall of DT: '+(str(recall)))\n",
    "print('F1-score of DT: '+(str(fscore)))\n",
    "print(classification_report(y_true,y_predict))\n",
    "cm=confusion_matrix(y_true,y_predict)\n",
    "f,ax=plt.subplots(figsize=(5,5))\n",
    "sns.heatmap(cm,annot=True,linewidth=0.5,linecolor=\"red\",fmt=\".0f\",ax=ax)\n",
    "plt.xlabel(\"y_pred\")\n",
    "plt.ylabel(\"y_true\")\n",
    "plt.show()"
   ]
  },
  {
   "cell_type": "markdown",
   "metadata": {},
   "source": [
    "#### Hyperparameter optimization (HPO) of decision tree using Bayesian optimization with tree-based Parzen estimator (BO-TPE)\n",
    "Based on the GitHub repo for HPO: https://github.com/LiYangHart/Hyperparameter-Optimization-of-Machine-Learning-Algorithms"
   ]
  },
  {
   "cell_type": "code",
   "execution_count": 617,
   "metadata": {},
   "outputs": [
    {
     "name": "stdout",
     "output_type": "stream",
     "text": [
      "100%|██████████| 50/50 [00:00<00:00, 79.20trial/s, best loss: -0.9911111111111112]\n",
      "Decision tree: Hyperopt estimated optimum {'criterion': 1, 'max_depth': 34.0, 'max_features': 2.0, 'min_samples_leaf': 1.0, 'min_samples_split': 11.0}\n"
     ]
    }
   ],
   "source": [
    "# Hyperparameter optimization of decision tree\n",
    "from hyperopt import hp, fmin, tpe, STATUS_OK, Trials\n",
    "from sklearn.model_selection import cross_val_score, StratifiedKFold\n",
    "# Define the objective function\n",
    "def objective(params):\n",
    "    params = {\n",
    "        'max_depth': int(params['max_depth']),\n",
    "        'max_features': int(params['max_features']),\n",
    "        \"min_samples_split\":int(params['min_samples_split']),\n",
    "        \"min_samples_leaf\":int(params['min_samples_leaf']),\n",
    "        \"criterion\":str(params['criterion'])\n",
    "    }\n",
    "    clf = DecisionTreeClassifier( **params)\n",
    "    clf.fit(X_train,y_train)\n",
    "    score=clf.score(X_test,y_test)\n",
    "\n",
    "    return {'loss':-score, 'status': STATUS_OK }\n",
    "# Define the hyperparameter configuration space\n",
    "space = {\n",
    "    'max_depth': hp.quniform('max_depth', 5, 50, 1),\n",
    "    \"max_features\":hp.quniform('max_features', 1, 20, 1),\n",
    "    \"min_samples_split\":hp.quniform('min_samples_split',2,11,1),\n",
    "    \"min_samples_leaf\":hp.quniform('min_samples_leaf',1,11,1),\n",
    "    \"criterion\":hp.choice('criterion',['gini','entropy'])\n",
    "}\n",
    "\n",
    "best = fmin(fn=objective,\n",
    "            space=space,\n",
    "            algo=tpe.suggest,\n",
    "            max_evals=50)\n",
    "print(\"Decision tree: Hyperopt estimated optimum {}\".format(best))"
   ]
  },
  {
   "cell_type": "code",
   "execution_count": 618,
   "metadata": {},
   "outputs": [
    {
     "name": "stdout",
     "output_type": "stream",
     "text": [
      "Accuracy of DT: 0.9877777777777778\n",
      "Precision of DT: 0.9874277750788214\n",
      "Recall of DT: 0.9877777777777778\n",
      "F1-score of DT: 0.9871388861634859\n",
      "              precision    recall  f1-score   support\n",
      "\n",
      "           0       0.87      0.80      0.83        25\n",
      "           1       0.99      1.00      1.00       393\n",
      "           2       1.00      0.50      0.67         4\n",
      "           3       0.91      0.95      0.93        22\n",
      "           4       0.83      0.71      0.77         7\n",
      "           5       1.00      1.00      1.00        13\n",
      "           6       0.99      1.00      1.00       436\n",
      "\n",
      "    accuracy                           0.99       900\n",
      "   macro avg       0.94      0.85      0.89       900\n",
      "weighted avg       0.99      0.99      0.99       900\n",
      "\n"
     ]
    },
    {
     "data": {
      "image/png": "[encoded data removed]",
      "text/plain": [
       "<Figure size 500x500 with 2 Axes>"
      ]
     },
     "metadata": {},
     "output_type": "display_data"
    }
   ],
   "source": [
    "dt_hpo = DecisionTreeClassifier(min_samples_leaf = 2, max_depth = 47, min_samples_split = 3, max_features = 19, criterion = 'gini')\n",
    "dt_hpo.fit(X_train,y_train)\n",
    "dt_score=dt_hpo.score(X_test,y_test)\n",
    "y_predict=dt_hpo.predict(X_test)\n",
    "y_true=y_test\n",
    "print('Accuracy of DT: '+ str(dt_score))\n",
    "precision,recall,fscore,none= precision_recall_fscore_support(y_true, y_predict, average='weighted') \n",
    "print('Precision of DT: '+(str(precision)))\n",
    "print('Recall of DT: '+(str(recall)))\n",
    "print('F1-score of DT: '+(str(fscore)))\n",
    "print(classification_report(y_true,y_predict))\n",
    "cm=confusion_matrix(y_true,y_predict)\n",
    "f,ax=plt.subplots(figsize=(5,5))\n",
    "sns.heatmap(cm,annot=True,linewidth=0.5,linecolor=\"red\",fmt=\".0f\",ax=ax)\n",
    "plt.xlabel(\"y_pred\")\n",
    "plt.ylabel(\"y_true\")\n",
    "plt.show()"
   ]
  },
  {
   "cell_type": "code",
   "execution_count": 619,
   "metadata": {
    "collapsed": true
   },
   "outputs": [],
   "source": [
    "dt_train=dt_hpo.predict(X_train)\n",
    "dt_test=dt_hpo.predict(X_test)"
   ]
  },
  {
   "cell_type": "markdown",
   "metadata": {},
   "source": [
    "#### Apply ET"
   ]
  },
  {
   "cell_type": "code",
   "execution_count": 620,
   "metadata": {},
   "outputs": [
    {
     "name": "stdout",
     "output_type": "stream",
     "text": [
      "Accuracy of ET: 0.9911111111111112\n",
      "Precision of ET: 0.9934397202723682\n",
      "Recall of ET: 0.9911111111111112\n",
      "F1-score of ET: 0.990999000870766\n",
      "              precision    recall  f1-score   support\n",
      "\n",
      "           0       1.00      0.68      0.81        25\n",
      "           1       0.99      1.00      1.00       393\n",
      "           2       1.00      1.00      1.00         4\n",
      "           3       1.00      1.00      1.00        22\n",
      "           4       0.58      1.00      0.74         7\n",
      "           5       1.00      1.00      1.00        13\n",
      "           6       1.00      1.00      1.00       436\n",
      "\n",
      "    accuracy                           0.99       900\n",
      "   macro avg       0.94      0.95      0.93       900\n",
      "weighted avg       0.99      0.99      0.99       900\n",
      "\n"
     ]
    },
    {
     "data": {
      "image/png": "[encoded data removed]",
      "text/plain": [
       "<Figure size 500x500 with 2 Axes>"
      ]
     },
     "metadata": {},
     "output_type": "display_data"
    }
   ],
   "source": [
    "et = ExtraTreesClassifier(random_state = 0)\n",
    "et.fit(X_train,y_train) \n",
    "et_score=et.score(X_test,y_test)\n",
    "y_predict=et.predict(X_test)\n",
    "y_true=y_test\n",
    "print('Accuracy of ET: '+ str(et_score))\n",
    "precision,recall,fscore,none= precision_recall_fscore_support(y_true, y_predict, average='weighted') \n",
    "print('Precision of ET: '+(str(precision)))\n",
    "print('Recall of ET: '+(str(recall)))\n",
    "print('F1-score of ET: '+(str(fscore)))\n",
    "print(classification_report(y_true,y_predict))\n",
    "cm=confusion_matrix(y_true,y_predict)\n",
    "f,ax=plt.subplots(figsize=(5,5))\n",
    "sns.heatmap(cm,annot=True,linewidth=0.5,linecolor=\"red\",fmt=\".0f\",ax=ax)\n",
    "plt.xlabel(\"y_pred\")\n",
    "plt.ylabel(\"y_true\")\n",
    "plt.show()"
   ]
  },
  {
   "cell_type": "markdown",
   "metadata": {},
   "source": [
    "#### Hyperparameter optimization (HPO) of extra trees using Bayesian optimization with tree-based Parzen estimator (BO-TPE)\n",
    "Based on the GitHub repo for HPO: https://github.com/LiYangHart/Hyperparameter-Optimization-of-Machine-Learning-Algorithms"
   ]
  },
  {
   "cell_type": "code",
   "execution_count": 621,
   "metadata": {},
   "outputs": [
    {
     "name": "stdout",
     "output_type": "stream",
     "text": [
      "100%|██████████| 20/20 [00:02<00:00,  6.77trial/s, best loss: -0.9922222222222222]\n",
      "Random Forest: Hyperopt estimated optimum {'criterion': 0, 'max_depth': 30.0, 'max_features': 11.0, 'min_samples_leaf': 1.0, 'min_samples_split': 3.0, 'n_estimators': 104.0}\n"
     ]
    }
   ],
   "source": [
    "# Hyperparameter optimization of extra trees\n",
    "from hyperopt import hp, fmin, tpe, STATUS_OK, Trials\n",
    "from sklearn.model_selection import cross_val_score, StratifiedKFold\n",
    "# Define the objective function\n",
    "def objective(params):\n",
    "    params = {\n",
    "        'n_estimators': int(params['n_estimators']), \n",
    "        'max_depth': int(params['max_depth']),\n",
    "        'max_features': int(params['max_features']),\n",
    "        \"min_samples_split\":int(params['min_samples_split']),\n",
    "        \"min_samples_leaf\":int(params['min_samples_leaf']),\n",
    "        \"criterion\":str(params['criterion'])\n",
    "    }\n",
    "    clf = ExtraTreesClassifier( **params)\n",
    "    clf.fit(X_train,y_train)\n",
    "    score=clf.score(X_test,y_test)\n",
    "\n",
    "    return {'loss':-score, 'status': STATUS_OK }\n",
    "# Define the hyperparameter configuration space\n",
    "space = {\n",
    "    'n_estimators': hp.quniform('n_estimators', 10, 200, 1),\n",
    "    'max_depth': hp.quniform('max_depth', 5, 50, 1),\n",
    "    \"max_features\":hp.quniform('max_features', 1, 20, 1),\n",
    "    \"min_samples_split\":hp.quniform('min_samples_split',2,11,1),\n",
    "    \"min_samples_leaf\":hp.quniform('min_samples_leaf',1,11,1),\n",
    "    \"criterion\":hp.choice('criterion',['gini','entropy'])\n",
    "}\n",
    "\n",
    "best = fmin(fn=objective,\n",
    "            space=space,\n",
    "            algo=tpe.suggest,\n",
    "            max_evals=20)\n",
    "print(\"Random Forest: Hyperopt estimated optimum {}\".format(best))"
   ]
  },
  {
   "cell_type": "code",
   "execution_count": 622,
   "metadata": {},
   "outputs": [
    {
     "name": "stdout",
     "output_type": "stream",
     "text": [
      "Accuracy of ET: 0.9944444444444445\n",
      "Precision of ET: 0.9949520659513804\n",
      "Recall of ET: 0.9944444444444445\n",
      "F1-score of ET: 0.9943806331758857\n",
      "              precision    recall  f1-score   support\n",
      "\n",
      "           0       1.00      0.84      0.91        25\n",
      "           1       0.99      1.00      1.00       393\n",
      "           2       1.00      1.00      1.00         4\n",
      "           3       1.00      0.95      0.98        22\n",
      "           4       0.78      1.00      0.88         7\n",
      "           5       1.00      1.00      1.00        13\n",
      "           6       1.00      1.00      1.00       436\n",
      "\n",
      "    accuracy                           0.99       900\n",
      "   macro avg       0.97      0.97      0.97       900\n",
      "weighted avg       0.99      0.99      0.99       900\n",
      "\n"
     ]
    },
    {
     "data": {
      "image/png": "[encoded data removed]",
      "text/plain": [
       "<Figure size 500x500 with 2 Axes>"
      ]
     },
     "metadata": {},
     "output_type": "display_data"
    }
   ],
   "source": [
    "et_hpo = ExtraTreesClassifier(n_estimators = 53, min_samples_leaf = 1, max_depth = 31, min_samples_split = 5, max_features = 20, criterion = 'entropy')\n",
    "et_hpo.fit(X_train,y_train) \n",
    "et_score=et_hpo.score(X_test,y_test)\n",
    "y_predict=et_hpo.predict(X_test)\n",
    "y_true=y_test\n",
    "print('Accuracy of ET: '+ str(et_score))\n",
    "precision,recall,fscore,none= precision_recall_fscore_support(y_true, y_predict, average='weighted') \n",
    "print('Precision of ET: '+(str(precision)))\n",
    "print('Recall of ET: '+(str(recall)))\n",
    "print('F1-score of ET: '+(str(fscore)))\n",
    "print(classification_report(y_true,y_predict))\n",
    "cm=confusion_matrix(y_true,y_predict)\n",
    "f,ax=plt.subplots(figsize=(5,5))\n",
    "sns.heatmap(cm,annot=True,linewidth=0.5,linecolor=\"red\",fmt=\".0f\",ax=ax)\n",
    "plt.xlabel(\"y_pred\")\n",
    "plt.ylabel(\"y_true\")\n",
    "plt.show()"
   ]
  },
  {
   "cell_type": "code",
   "execution_count": 623,
   "metadata": {
    "collapsed": true
   },
   "outputs": [],
   "source": [
    "et_train=et_hpo.predict(X_train)\n",
    "et_test=et_hpo.predict(X_test)"
   ]
  },
  {
   "cell_type": "markdown",
   "metadata": {},
   "source": [
    "### Apply Stacking\n",
    "The ensemble model that combines the four ML models (DT, RF, ET, XGBoost)"
   ]
  },
  {
   "cell_type": "code",
   "execution_count": 624,
   "metadata": {},
   "outputs": [
    {
     "data": {
      "text/html": [
       "<div>\n",
       "<style scoped>\n",
       "    .dataframe tbody tr th:only-of-type {\n",
       "        vertical-align: middle;\n",
       "    }\n",
       "\n",
       "    .dataframe tbody tr th {\n",
       "        vertical-align: top;\n",
       "    }\n",
       "\n",
       "    .dataframe thead th {\n",
       "        text-align: right;\n",
       "    }\n",
       "</style>\n",
       "<table border=\"1\" class=\"dataframe\">\n",
       "  <thead>\n",
       "    <tr style=\"text-align: right;\">\n",
       "      <th></th>\n",
       "      <th>DecisionTree</th>\n",
       "      <th>RandomForest</th>\n",
       "      <th>ExtraTrees</th>\n",
       "      <th>XgBoost</th>\n",
       "    </tr>\n",
       "  </thead>\n",
       "  <tbody>\n",
       "    <tr>\n",
       "      <th>0</th>\n",
       "      <td>1</td>\n",
       "      <td>1</td>\n",
       "      <td>1</td>\n",
       "      <td>1</td>\n",
       "    </tr>\n",
       "    <tr>\n",
       "      <th>1</th>\n",
       "      <td>6</td>\n",
       "      <td>6</td>\n",
       "      <td>6</td>\n",
       "      <td>6</td>\n",
       "    </tr>\n",
       "    <tr>\n",
       "      <th>2</th>\n",
       "      <td>1</td>\n",
       "      <td>1</td>\n",
       "      <td>1</td>\n",
       "      <td>1</td>\n",
       "    </tr>\n",
       "    <tr>\n",
       "      <th>3</th>\n",
       "      <td>1</td>\n",
       "      <td>1</td>\n",
       "      <td>1</td>\n",
       "      <td>1</td>\n",
       "    </tr>\n",
       "    <tr>\n",
       "      <th>4</th>\n",
       "      <td>6</td>\n",
       "      <td>6</td>\n",
       "      <td>6</td>\n",
       "      <td>6</td>\n",
       "    </tr>\n",
       "  </tbody>\n",
       "</table>\n",
       "</div>"
      ],
      "text/plain": [
       "   DecisionTree  RandomForest  ExtraTrees  XgBoost\n",
       "0             1             1           1        1\n",
       "1             6             6           6        6\n",
       "2             1             1           1        1\n",
       "3             1             1           1        1\n",
       "4             6             6           6        6"
      ]
     },
     "execution_count": 624,
     "metadata": {},
     "output_type": "execute_result"
    }
   ],
   "source": [
    "base_predictions_train = pd.DataFrame( {\n",
    "    'DecisionTree': dt_train.ravel(),\n",
    "        'RandomForest': rf_train.ravel(),\n",
    "     'ExtraTrees': et_train.ravel(),\n",
    "     'XgBoost': xg_train.ravel(),\n",
    "    })\n",
    "base_predictions_train.head(5)"
   ]
  },
  {
   "cell_type": "code",
   "execution_count": 625,
   "metadata": {},
   "outputs": [],
   "source": [
    "dt_train=dt_train.reshape(-1, 1)\n",
    "et_train=et_train.reshape(-1, 1)\n",
    "rf_train=rf_train.reshape(-1, 1)\n",
    "xg_train=xg_train.reshape(-1, 1)\n",
    "dt_test=dt_test.reshape(-1, 1)\n",
    "et_test=et_test.reshape(-1, 1)\n",
    "rf_test=rf_test.reshape(-1, 1)\n",
    "xg_test=xg_test.reshape(-1, 1)"
   ]
  },
  {
   "cell_type": "code",
   "execution_count": 626,
   "metadata": {},
   "outputs": [
    {
     "data": {
      "text/plain": [
       "(5554, 1)"
      ]
     },
     "execution_count": 626,
     "metadata": {},
     "output_type": "execute_result"
    }
   ],
   "source": [
    "dt_train.shape"
   ]
  },
  {
   "cell_type": "code",
   "execution_count": 627,
   "metadata": {},
   "outputs": [],
   "source": [
    "x_train = np.concatenate(( dt_train, et_train, rf_train, xg_train), axis=1)\n",
    "x_test = np.concatenate(( dt_test, et_test, rf_test, xg_test), axis=1)"
   ]
  },
  {
   "cell_type": "code",
   "execution_count": 628,
   "metadata": {},
   "outputs": [
    {
     "name": "stdout",
     "output_type": "stream",
     "text": [
      "Accuracy of Stacking: 0.9933333333333333\n",
      "Precision of Stacking: 0.9934031267448353\n",
      "Recall of Stacking: 0.9933333333333333\n",
      "F1-score of Stacking: 0.9931447353675938\n",
      "              precision    recall  f1-score   support\n",
      "\n",
      "           0       1.00      0.84      0.91        25\n",
      "           1       0.99      1.00      0.99       393\n",
      "           2       1.00      1.00      1.00         4\n",
      "           3       1.00      0.95      0.98        22\n",
      "           4       0.86      0.86      0.86         7\n",
      "           5       1.00      1.00      1.00        13\n",
      "           6       1.00      1.00      1.00       436\n",
      "\n",
      "    accuracy                           0.99       900\n",
      "   macro avg       0.98      0.95      0.96       900\n",
      "weighted avg       0.99      0.99      0.99       900\n",
      "\n"
     ]
    },
    {
     "data": {
      "image/png": "[encoded data removed]",
      "text/plain": [
       "<Figure size 500x500 with 2 Axes>"
      ]
     },
     "metadata": {},
     "output_type": "display_data"
    }
   ],
   "source": [
    "stk = xgb.XGBClassifier().fit(x_train, y_train)\n",
    "y_predict=stk.predict(x_test)\n",
    "y_true=y_test\n",
    "stk_score=accuracy_score(y_true,y_predict)\n",
    "print('Accuracy of Stacking: '+ str(stk_score))\n",
    "precision,recall,fscore,none= precision_recall_fscore_support(y_true, y_predict, average='weighted') \n",
    "print('Precision of Stacking: '+(str(precision)))\n",
    "print('Recall of Stacking: '+(str(recall)))\n",
    "print('F1-score of Stacking: '+(str(fscore)))\n",
    "print(classification_report(y_true,y_predict))\n",
    "cm=confusion_matrix(y_true,y_predict)\n",
    "f,ax=plt.subplots(figsize=(5,5))\n",
    "sns.heatmap(cm,annot=True,linewidth=0.5,linecolor=\"red\",fmt=\".0f\",ax=ax)\n",
    "plt.xlabel(\"y_pred\")\n",
    "plt.ylabel(\"y_true\")\n",
    "plt.show()"
   ]
  },
  {
   "cell_type": "markdown",
   "metadata": {},
   "source": [
    "#### Hyperparameter optimization (HPO) of the stacking ensemble model (XGBoost) using Bayesian optimization with tree-based Parzen estimator (BO-TPE)\n",
    "Based on the GitHub repo for HPO: https://github.com/LiYangHart/Hyperparameter-Optimization-of-Machine-Learning-Algorithms"
   ]
  },
  {
   "cell_type": "code",
   "execution_count": 629,
   "metadata": {},
   "outputs": [
    {
     "name": "stdout",
     "output_type": "stream",
     "text": [
      "100%|██████████| 20/20 [00:07<00:00,  2.66trial/s, best loss: -0.9933333333333333]\n",
      "XGBoost: Hyperopt estimated optimum {'learning_rate': 0.7226947845315863, 'max_depth': 77.0, 'n_estimators': 35.0}\n"
     ]
    }
   ],
   "source": [
    "from hyperopt import hp, fmin, tpe, STATUS_OK, Trials\n",
    "from sklearn.model_selection import cross_val_score, StratifiedKFold\n",
    "def objective(params):\n",
    "    params = {\n",
    "        'n_estimators': int(params['n_estimators']), \n",
    "        'max_depth': int(params['max_depth']),\n",
    "        'learning_rate':  abs(float(params['learning_rate'])),\n",
    "\n",
    "    }\n",
    "    clf = xgb.XGBClassifier( **params)\n",
    "    clf.fit(x_train, y_train)\n",
    "    y_pred = clf.predict(x_test)\n",
    "    score = accuracy_score(y_test, y_pred)\n",
    "\n",
    "    return {'loss':-score, 'status': STATUS_OK }\n",
    "\n",
    "space = {\n",
    "    'n_estimators': hp.quniform('n_estimators', 10, 100, 5),\n",
    "    'max_depth': hp.quniform('max_depth', 4, 100, 1),\n",
    "    'learning_rate': hp.normal('learning_rate', 0.01, 0.9),\n",
    "}\n",
    "\n",
    "best = fmin(fn=objective,\n",
    "            space=space,\n",
    "            algo=tpe.suggest,\n",
    "            max_evals=20)\n",
    "print(\"XGBoost: Hyperopt estimated optimum {}\".format(best))"
   ]
  },
  {
   "cell_type": "code",
   "execution_count": 630,
   "metadata": {},
   "outputs": [
    {
     "name": "stdout",
     "output_type": "stream",
     "text": [
      "Accuracy of XGBoost: 0.9933333333333333\n",
      "Precision of XGBoost: 0.9948176348937771\n",
      "Recall of XGBoost: 0.9933333333333333\n",
      "F1-score of XGBoost: 0.9936278826372892\n",
      "              precision    recall  f1-score   support\n",
      "\n",
      "           0       1.00      0.84      0.91        25\n",
      "           1       1.00      1.00      1.00       393\n",
      "           2       0.67      1.00      0.80         4\n",
      "           3       1.00      0.95      0.98        22\n",
      "           4       0.67      0.86      0.75         7\n",
      "           5       1.00      1.00      1.00        13\n",
      "           6       1.00      1.00      1.00       436\n",
      "\n",
      "    accuracy                           0.99       900\n",
      "   macro avg       0.90      0.95      0.92       900\n",
      "weighted avg       0.99      0.99      0.99       900\n",
      "\n"
     ]
    },
    {
     "data": {
      "image/png": "[encoded data removed]",
      "text/plain": [
       "<Figure size 500x500 with 2 Axes>"
      ]
     },
     "metadata": {},
     "output_type": "display_data"
    }
   ],
   "source": [
    "xg = xgb.XGBClassifier(learning_rate= 0.19229249758051492, n_estimators = 30, max_depth = 36)\n",
    "xg.fit(x_train,y_train)\n",
    "xg_score=xg.score(x_test,y_test)\n",
    "y_predict=xg.predict(x_test)\n",
    "y_true=y_test\n",
    "print('Accuracy of XGBoost: '+ str(xg_score))\n",
    "precision,recall,fscore,none= precision_recall_fscore_support(y_true, y_predict, average='weighted') \n",
    "print('Precision of XGBoost: '+(str(precision)))\n",
    "print('Recall of XGBoost: '+(str(recall)))\n",
    "print('F1-score of XGBoost: '+(str(fscore)))\n",
    "print(classification_report(y_true,y_predict))\n",
    "cm=confusion_matrix(y_true,y_predict)\n",
    "f,ax=plt.subplots(figsize=(5,5))\n",
    "sns.heatmap(cm,annot=True,linewidth=0.5,linecolor=\"red\",fmt=\".0f\",ax=ax)\n",
    "plt.xlabel(\"y_pred\")\n",
    "plt.ylabel(\"y_true\")\n",
    "plt.show()"
   ]
  },
  {
   "cell_type": "markdown",
   "metadata": {
    "collapsed": true
   },
   "source": [
    "## Anomaly-based IDS"
   ]
  },
  {
   "cell_type": "markdown",
   "metadata": {},
   "source": [
    "### Generate the port-scan datasets for unknown attack detection"
   ]
  },
  {
   "cell_type": "code",
   "execution_count": 631,
   "metadata": {
    "collapsed": true
   },
   "outputs": [],
   "source": [
    "df=pd.read_csv('./data/CICIDS2017_sample_km.csv')"
   ]
  },
  {
   "cell_type": "code",
   "execution_count": 632,
   "metadata": {},
   "outputs": [
    {
     "data": {
      "text/plain": [
       "Label\n",
       "6    2180\n",
       "1    1966\n",
       "0     124\n",
       "3     111\n",
       "5      62\n",
       "4      36\n",
       "2      19\n",
       "Name: count, dtype: int64"
      ]
     },
     "execution_count": 632,
     "metadata": {},
     "output_type": "execute_result"
    }
   ],
   "source": [
    "df.Label.value_counts()"
   ]
  },
  {
   "cell_type": "code",
   "execution_count": 633,
   "metadata": {
    "collapsed": true
   },
   "outputs": [],
   "source": [
    "df1 = df[df['Label'] != 5]\n",
    "df1['Label'][df1['Label'] > 0] = 1\n",
    "df1.to_csv('./data/CICIDS2017_sample_km_without_portscan.csv',index=0)"
   ]
  },
  {
   "cell_type": "code",
   "execution_count": 634,
   "metadata": {
    "collapsed": true
   },
   "outputs": [],
   "source": [
    "df2 = df[df['Label'] == 5]\n",
    "df2['Label'][df2['Label'] == 5] = 1\n",
    "df2.to_csv('./data/CICIDS2017_sample_km_portscan.csv',index=0)"
   ]
  },
  {
   "cell_type": "markdown",
   "metadata": {},
   "source": [
    "### Read the generated datasets for unknown attack detection"
   ]
  },
  {
   "cell_type": "code",
   "execution_count": 635,
   "metadata": {
    "collapsed": true
   },
   "outputs": [],
   "source": [
    "df1 = pd.read_csv('./data/CICIDS2017_sample_km_without_portscan.csv')\n",
    "df2 = pd.read_csv('./data/CICIDS2017_sample_km_portscan.csv')"
   ]
  },
  {
   "cell_type": "code",
   "execution_count": 636,
   "metadata": {},
   "outputs": [],
   "source": [
    "features = df1.drop(['Label'],axis=1).dtypes[df1.dtypes != 'object'].index\n",
    "df1[features] = df1[features].apply(\n",
    "    lambda x: (x - x.mean()) / (x.std()))\n",
    "df2[features] = df2[features].apply(\n",
    "    lambda x: (x - x.mean()) / (x.std()))\n",
    "df1 = df1.fillna(0)\n",
    "df2 = df2.fillna(0)"
   ]
  },
  {
   "cell_type": "code",
   "execution_count": 637,
   "metadata": {},
   "outputs": [
    {
     "data": {
      "text/plain": [
       "Label\n",
       "1    4312\n",
       "0     124\n",
       "Name: count, dtype: int64"
      ]
     },
     "execution_count": 637,
     "metadata": {},
     "output_type": "execute_result"
    }
   ],
   "source": [
    "df1.Label.value_counts()"
   ]
  },
  {
   "cell_type": "code",
   "execution_count": 638,
   "metadata": {
    "scrolled": true
   },
   "outputs": [
    {
     "data": {
      "text/plain": [
       "Label\n",
       "1    62\n",
       "Name: count, dtype: int64"
      ]
     },
     "execution_count": 638,
     "metadata": {},
     "output_type": "execute_result"
    }
   ],
   "source": [
    "df2.Label.value_counts()"
   ]
  },
  {
   "cell_type": "code",
   "execution_count": 639,
   "metadata": {},
   "outputs": [],
   "source": [
    "df2p=df1[df1['Label']==0]\n",
    "df2pp=df2p.sample(n=None, frac=1255/18225, replace=False, weights=None, random_state=None, axis=0)\n",
    "df2=pd.concat([df2, df2pp])"
   ]
  },
  {
   "cell_type": "code",
   "execution_count": 640,
   "metadata": {},
   "outputs": [
    {
     "data": {
      "text/plain": [
       "Label\n",
       "1    62\n",
       "0     9\n",
       "Name: count, dtype: int64"
      ]
     },
     "execution_count": 640,
     "metadata": {},
     "output_type": "execute_result"
    }
   ],
   "source": [
    "df2.Label.value_counts()"
   ]
  },
  {
   "cell_type": "code",
   "execution_count": 641,
   "metadata": {
    "collapsed": true
   },
   "outputs": [],
   "source": [
    "df = df1._append(df2)"
   ]
  },
  {
   "cell_type": "code",
   "execution_count": 642,
   "metadata": {},
   "outputs": [
    {
     "data": {
      "text/plain": [
       "1    4374\n",
       "0     133\n",
       "Name: count, dtype: int64"
      ]
     },
     "execution_count": 642,
     "metadata": {},
     "output_type": "execute_result"
    }
   ],
   "source": [
    "X = df.drop(['Label'],axis=1) .values\n",
    "y = df.iloc[:, -1].values.reshape(-1,1)\n",
    "y=np.ravel(y)\n",
    "pd.Series(y).value_counts()"
   ]
  },
  {
   "cell_type": "markdown",
   "metadata": {},
   "source": [
    "### Feature engineering (IG, FCBF, and KPCA)"
   ]
  },
  {
   "cell_type": "markdown",
   "metadata": {},
   "source": [
    "#### Feature selection by information gain (IG)"
   ]
  },
  {
   "cell_type": "code",
   "execution_count": 643,
   "metadata": {},
   "outputs": [],
   "source": [
    "from sklearn.feature_selection import mutual_info_classif\n",
    "importances = mutual_info_classif(X, y)"
   ]
  },
  {
   "cell_type": "code",
   "execution_count": 644,
   "metadata": {},
   "outputs": [],
   "source": [
    "# calculate the sum of importance scores\n",
    "f_list = sorted(zip(map(lambda x: round(x, 4), importances), features), reverse=True)\n",
    "Sum = 0\n",
    "fs = []\n",
    "for i in range(0, len(f_list)):\n",
    "    Sum = Sum + f_list[i][0]\n",
    "    fs.append(f_list[i][1])"
   ]
  },
  {
   "cell_type": "code",
   "execution_count": 645,
   "metadata": {},
   "outputs": [],
   "source": [
    "# select the important features from top to bottom until the accumulated importance reaches 90%\n",
    "f_list2 = sorted(zip(map(lambda x: round(x, 4), importances/Sum), features), reverse=True)\n",
    "Sum2 = 0\n",
    "fs = []\n",
    "for i in range(0, len(f_list2)):\n",
    "    Sum2 = Sum2 + f_list2[i][0]\n",
    "    fs.append(f_list2[i][1])\n",
    "    if Sum2>=0.9:\n",
    "        break        "
   ]
  },
  {
   "cell_type": "code",
   "execution_count": 646,
   "metadata": {},
   "outputs": [],
   "source": [
    "X_fs = df[fs].values"
   ]
  },
  {
   "cell_type": "code",
   "execution_count": 647,
   "metadata": {},
   "outputs": [
    {
     "data": {
      "text/plain": [
       "(4507, 43)"
      ]
     },
     "execution_count": 647,
     "metadata": {},
     "output_type": "execute_result"
    }
   ],
   "source": [
    "X_fs.shape"
   ]
  },
  {
   "cell_type": "code",
   "execution_count": 648,
   "metadata": {},
   "outputs": [
    {
     "data": {
      "text/plain": [
       "array([[-1.23623576, -0.06347233, -0.06347233, ..., -0.18109207,\n",
       "         4.83096292, -0.04957806],\n",
       "       [-1.25599069, -0.06295707, -0.06295707, ..., -0.18111048,\n",
       "         6.75697699, -0.04957806],\n",
       "       [-1.25606939, -0.06729061, -0.06729061, ..., -0.17330643,\n",
       "        -0.74620594, -0.0626178 ],\n",
       "       ...,\n",
       "       [-1.22899491, -0.06777946, -0.06777946, ...,  0.16380873,\n",
       "        -0.7665727 , -0.0626178 ],\n",
       "       [-1.25606939, -0.0671717 , -0.0671717 , ..., -0.17905454,\n",
       "        -0.69014677, -0.0626178 ],\n",
       "       [-1.25606939, -0.06736988, -0.06736988, ..., -0.18057793,\n",
       "        -0.58605328, -0.0626178 ]])"
      ]
     },
     "execution_count": 648,
     "metadata": {},
     "output_type": "execute_result"
    }
   ],
   "source": [
    "X_fs"
   ]
  },
  {
   "cell_type": "markdown",
   "metadata": {},
   "source": [
    "#### Feature selection by Fast Correlation Based Filter (FCBF)\n",
    "\n",
    "The module is imported from the GitHub repo: https://github.com/SantiagoEG/FCBF_module"
   ]
  },
  {
   "cell_type": "code",
   "execution_count": 649,
   "metadata": {
    "collapsed": true
   },
   "outputs": [],
   "source": [
    "def count_vals(x):\n",
    "    vals = np.unique(x)\n",
    "    occ = np.zeros(shape = vals.shape)    \n",
    "    for i in range(vals.size):\n",
    "        occ[i] = np.sum(x == vals[i])\n",
    "    return occ\n",
    "\n",
    "def entropy(x):\n",
    "    n = float(x.shape[0])\n",
    "    ocurrence = count_vals(x)\n",
    "    px = ocurrence / n\n",
    "    return -1* np.sum(px*np.log2(px))\n",
    "\n",
    "def symmetricalUncertain(x,y):\n",
    "    n = float(y.shape[0])\n",
    "    vals = np.unique(y)\n",
    "    # Computing Entropy for the feature x. \n",
    "    Hx = entropy(x)\n",
    "    # Computing Entropy for the feature y.\n",
    "    Hy = entropy(y)\n",
    "    #Computing Joint entropy between x and y.\n",
    "    partial = np.zeros(shape = (vals.shape[0]))\n",
    "    for i in range(vals.shape[0]):    \n",
    "       partial[i] = entropy(x[y == vals[i]]) \n",
    "    \n",
    "    partial[np.isnan(partial)==1] = 0      \n",
    "    py = count_vals(y).astype(dtype = 'float64') / n\n",
    "    Hxy = np.sum(py[py > 0]*partial) \n",
    "    IG = Hx-Hxy\n",
    "    return 2*IG/(Hx+Hy)\n",
    "\n",
    "def suGroup(x, n):\n",
    "    m = x.shape[0]\n",
    "    x = np.reshape(x, (n,int(m//n))).T\n",
    "    m = x.shape[1]\n",
    "    SU_matrix = np.zeros(shape = (m,m))\n",
    "    for j in range(m-1):\n",
    "        x2 = x[:,j+1::]\n",
    "        y = x[:,j]\n",
    "        temp = np.apply_along_axis(symmetricalUncertain, 0, x2, y)\n",
    "        for k in range(temp.shape[0]):\n",
    "            SU_matrix[j,j+1::] = temp\n",
    "            SU_matrix[j+1::,j] = temp\n",
    "    \n",
    "    return 1/float(m-1)*np.sum(SU_matrix, axis = 1)\n",
    "\n",
    "def isprime(a):\n",
    "    return all(a % i for i in range(2, a))\n",
    "\n",
    "\n",
    "\"\"\"\n",
    "get\n",
    "\"\"\"\n",
    "\n",
    "def get_i(a):\n",
    "    if isprime(a):\n",
    "        a -= 1\n",
    "    return filter(lambda x: a % x == 0, range(2,a))\n",
    "\n",
    "\n",
    "\"\"\"\n",
    "FCBF - Fast Correlation Based Filter\n",
    "\n",
    "L. Yu and H. Liu. Feature Selection for High‐Dimensional Data: A Fast Correlation‐Based Filter Solution. \n",
    "In Proceedings of The Twentieth International Conference on Machine Leaning (ICML‐03), 856‐863.\n",
    "Washington, D.C., August 21‐24, 2003.\n",
    "\"\"\"\n",
    "\n",
    "class FCBF:\n",
    "    \n",
    "    idx_sel = []\n",
    "    \n",
    "    \n",
    "    def __init__(self, th = 0.01):\n",
    "        '''\n",
    "        Parameters\n",
    "        ---------------\n",
    "            th = The initial threshold \n",
    "        '''\n",
    "        self.th = th\n",
    "\n",
    "\n",
    "    def fit(self, x, y):\n",
    "        '''\n",
    "        This function executes FCBF algorithm and saves indexes \n",
    "        of selected features in self.idx_sel\n",
    "        \n",
    "        Parameters\n",
    "        ---------------\n",
    "            x = dataset  [NxM] \n",
    "            y = label    [Nx1]\n",
    "        '''\n",
    "        self.idx_sel = []\n",
    "        \"\"\"\n",
    "        First Stage: Computing the SU for each feature with the response.\n",
    "        \"\"\"\n",
    "        SU_vec = np.apply_along_axis(symmetricalUncertain, 0, x, y)\n",
    "        SU_list = SU_vec[SU_vec > self.th]\n",
    "        SU_list[::-1].sort()\n",
    "        \n",
    "        m = x[:,SU_vec > self.th].shape\n",
    "        x_sorted = np.zeros(shape = m)\n",
    "        \n",
    "        for i in range(m[1]):\n",
    "            ind = np.argmax(SU_vec)\n",
    "            SU_vec[ind] = 0\n",
    "            x_sorted[:,i] = x[:,ind].copy()\n",
    "            self.idx_sel.append(ind)\n",
    "        \n",
    "        \"\"\"\n",
    "        Second Stage: Identify relationships between feature to remove redundancy.\n",
    "        \"\"\"\n",
    "        j = 0\n",
    "        while True:\n",
    "            \"\"\"\n",
    "            Stopping Criteria:The search finishes\n",
    "            \"\"\"\n",
    "            if j >= x_sorted.shape[1]: break\n",
    "            y = x_sorted[:,j].copy()\n",
    "            x_list = x_sorted[:,j+1:].copy()\n",
    "            if x_list.shape[1] == 0: break\n",
    "                \n",
    "                \n",
    "            SU_list_2 = SU_list[j+1:]\n",
    "            SU_x = np.apply_along_axis(symmetricalUncertain, 0, \n",
    "                                       x_list, y)\n",
    "            \n",
    "            comp_SU = SU_x >= SU_list_2\n",
    "            to_remove = np.where(comp_SU)[0] + j + 1 \n",
    "            if to_remove.size > 0:\n",
    "                x_sorted = np.delete(x_sorted, to_remove, axis = 1)\n",
    "                SU_list = np.delete(SU_list, to_remove, axis = 0)\n",
    "                to_remove.sort()\n",
    "                for r in reversed(to_remove): \n",
    "                    self.idx_sel.remove(self.idx_sel[r])\n",
    "            j = j + 1        \n",
    "            \n",
    "    def fit_transform(self, x, y):\n",
    "        '''\n",
    "        This function fits the feature selection \n",
    "        algorithm and returns the resulting subset.\n",
    "        \n",
    "        Parameters\n",
    "        ---------------\n",
    "            x = dataset  [NxM] \n",
    "            y = label    [Nx1]\n",
    "        '''\n",
    "        self.fit(x, y)\n",
    "        return x[:,self.idx_sel]\n",
    "         \n",
    "    def transform(self, x):\n",
    "        '''\n",
    "        This function applies the selection\n",
    "        to the vector x.\n",
    "        \n",
    "        Parameters\n",
    "        ---------------\n",
    "            x = dataset  [NxM] \n",
    "        '''\n",
    "        return x[:, self.idx_sel]  \n",
    "\n",
    "\n",
    "\"\"\"\n",
    "FCBF# - Fast Correlation Based Filter \n",
    "B. Senliol, G. Gulgezen, et al. Fast Correlation Based Filter (FCBF) with a Different Search Strategy. \n",
    "In Computer and Information Sciences (ISCIS ‘08) 23rd International Symposium on, pages 1‐4. \n",
    "Istanbul, October 27‐29, 2008.\n",
    "\"\"\"\n",
    "class FCBFK(FCBF):\n",
    "    \n",
    "    idx_sel = []\n",
    "    \n",
    "    \n",
    "    def __init__(self, k = 10):\n",
    "        '''\n",
    "        Parameters\n",
    "        ---------------\n",
    "            k = Number of features to include in the\n",
    "            subset.\n",
    "        '''\n",
    "        self.k = k\n",
    "\n",
    "\n",
    "    def fit(self, x, y):\n",
    "        '''\n",
    "        This function executes FCBFK algorithm and saves indexes \n",
    "        of selected features in self.idx_sel\n",
    "        \n",
    "        Parameters\n",
    "        ---------------\n",
    "            x = dataset  [NxM] \n",
    "            y = label    [Nx1]\n",
    "        '''        \n",
    "        self.idx_sel = []\n",
    "        \"\"\"\n",
    "        First Stage: Computing the SU for each feature with the response.\n",
    "        \"\"\"    \n",
    "        SU_vec = np.apply_along_axis(symmetricalUncertain, 0, x, y)\n",
    "        \n",
    "        SU_list = SU_vec[SU_vec > 0]\n",
    "        SU_list[::-1].sort()\n",
    "        \n",
    "        m = x[:,SU_vec > 0].shape\n",
    "        x_sorted = np.zeros(shape = m)\n",
    "        \n",
    "        for i in range(m[1]):\n",
    "            ind = np.argmax(SU_vec)\n",
    "            SU_vec[ind] = 0\n",
    "            x_sorted[:,i] = x[:,ind].copy() \n",
    "            self.idx_sel.append(ind)\n",
    "            \n",
    "        \"\"\"\n",
    "        Second Stage: Identify relationships between features to remove redundancy with stopping \n",
    "        criteria (features in x_best == k).\n",
    "        \"\"\"    \n",
    "        j = 0\n",
    "        while True:\n",
    "            y = x_sorted[:,j].copy()\n",
    "            SU_list_2 = SU_list[j+1:]    \n",
    "            x_list = x_sorted[:,j+1:].copy()\n",
    "            \n",
    "            \"\"\"\n",
    "            Stopping Criteria:The search finishes\n",
    "            \"\"\"\n",
    "            if x_list.shape[1] == 0: break\n",
    "                \n",
    "                \n",
    "            SU_x = np.apply_along_axis(symmetricalUncertain, 0, \n",
    "                                       x_list, y)\n",
    "            \n",
    "            comp_SU = SU_x >= SU_list_2\n",
    "            to_remove = np.where(comp_SU)[0] + j + 1 \n",
    "            if to_remove.size > 0 and x.shape[1] > self.k:\n",
    "    \n",
    "                for i in reversed(to_remove):\n",
    "                    \n",
    "                    x_sorted = np.delete(x_sorted, i, axis = 1)\n",
    "                    SU_list = np.delete(SU_list, i, axis = 0)                \n",
    "                    self.idx_sel.remove(self.idx_sel[i])\n",
    "                    if x_sorted.shape[1] == self.k: break  \n",
    "                    \n",
    "            if x_list.shape[1] == 1 or x_sorted.shape[1] == self.k: \n",
    "                break    \n",
    "            j = j + 1\n",
    "            \n",
    "        if len(self.idx_sel) > self.k:\n",
    "            self.idx_sel = self.idx_sel[:self.k]\n",
    "            \n",
    "            \n",
    "            \n",
    "\"\"\"\n",
    "FCBFiP - Fast Correlation Based Filter in Pieces\n",
    "\"\"\"            \n",
    "            \n",
    "class FCBFiP(FCBF):\n",
    "    \n",
    "    idx_sel = []\n",
    "\n",
    "\n",
    "    def __init__(self, k = 10, npieces = 2):\n",
    "        '''\n",
    "        Parameters\n",
    "        ---------------\n",
    "            k = Number of features to include in the\n",
    "            subset.\n",
    "            npieces = Number of pieces to divide the \n",
    "            feature space.\n",
    "        '''\n",
    "        self.k = k\n",
    "        self.npieces = npieces\n",
    "\n",
    "    def fit(self, x, y):\n",
    "        '''\n",
    "        This function executes FCBF algorithm and saves indexes \n",
    "        of selected features in self.idx_sel\n",
    "        \n",
    "        Parameters\n",
    "        ---------------\n",
    "            x = dataset  [NxM] \n",
    "            y = label    [Nx1]\n",
    "        '''\n",
    "    \n",
    "        \"\"\"\n",
    "        First Stage: Computing the SU for each feature with the response. We sort the \n",
    "        features. When we have a prime number of features we remove the last one from the\n",
    "        sorted features list.\n",
    "        \"\"\"      \n",
    "        m = x.shape\n",
    "        nfeaturesPieces = int(m[1] / float(self.npieces))        \n",
    "        SU_vec = np.apply_along_axis(symmetricalUncertain, 0, x, y)\n",
    "        \n",
    "        x_sorted = np.zeros(shape = m, dtype = 'float64')        \n",
    "        idx_sorted = np.zeros(shape = m[1], dtype = 'int64')\n",
    "        for i in range(m[1]):\n",
    "            ind = np.argmax(SU_vec)\n",
    "            SU_vec[ind] = -1\n",
    "            idx_sorted[i]= ind \n",
    "            x_sorted[:,i] = x[:,ind].copy() \n",
    "\n",
    "        if isprime(m[1]): \n",
    "            x_sorted = np.delete(x_sorted, m[1]-1, axis = 1 )\n",
    "            ind_prime = idx_sorted[m[1]-1]\n",
    "            idx_sorted = np.delete(idx_sorted, m[1]-1)\n",
    "            #m = x_sorted.shape\n",
    "        \"\"\"\n",
    "        Second Stage: Identify relationships between features into its vecinity\n",
    "        to remove redundancy with stopping criteria (features in x_best == k).\n",
    "        \"\"\"   \n",
    "        \n",
    "        x_2d = np.reshape(x_sorted.T, (self.npieces, nfeaturesPieces*m[0])).T\n",
    "    \n",
    "        SU_x =  np.apply_along_axis(suGroup, 0, x_2d, nfeaturesPieces)\n",
    "        SU_x = np.reshape(SU_x.T, (self.npieces*nfeaturesPieces,))\n",
    "        idx_sorted2 = np.zeros(shape = idx_sorted.shape, dtype = 'int64')\n",
    "        SU_x[np.isnan(SU_x)] = 1        \n",
    "        \n",
    "        for i in range(idx_sorted.shape[0]):\n",
    "            ind =  np.argmin(SU_x)\n",
    "            idx_sorted2[i] = idx_sorted[ind]\n",
    "            SU_x[ind] = 10    \n",
    "        \n",
    "        \"\"\"\n",
    "        Scoring step\n",
    "        \"\"\"        \n",
    "        self.scores = np.zeros(shape = m[1], dtype = 'int64') \n",
    "           \n",
    "        for i in range(m[1]):\n",
    "            if i in idx_sorted:\n",
    "                self.scores[i] = np.argwhere(i == idx_sorted) + np.argwhere(i == idx_sorted2)\n",
    "        if isprime(m[1]): \n",
    "            self.scores[ind_prime] = 2*m[1]\n",
    "        self.set_k(self.k)\n",
    "\n",
    "\n",
    "    def set_k(self, k):\n",
    "        self.k = k \n",
    "        scores_temp = -1*self.scores\n",
    "        \n",
    "        self.idx_sel = np.zeros(shape = self.k, dtype = 'int64')\n",
    "        for i in range(self.k):\n",
    "            ind =  np.argmax(scores_temp)\n",
    "            scores_temp[ind] = -100000000\n",
    "            self.idx_sel[i] = ind\n",
    "\n",
    "\n",
    "\n",
    "\n",
    "fcbf = FCBFK(k = 20)\n",
    "#fcbf.fit(X_fs, y)"
   ]
  },
  {
   "cell_type": "code",
   "execution_count": 650,
   "metadata": {},
   "outputs": [],
   "source": [
    "X_fss = fcbf.fit_transform(X_fs,y)"
   ]
  },
  {
   "cell_type": "code",
   "execution_count": 651,
   "metadata": {},
   "outputs": [
    {
     "data": {
      "text/plain": [
       "(4507, 20)"
      ]
     },
     "execution_count": 651,
     "metadata": {},
     "output_type": "execute_result"
    }
   ],
   "source": [
    "X_fss.shape"
   ]
  },
  {
   "cell_type": "code",
   "execution_count": 652,
   "metadata": {},
   "outputs": [
    {
     "data": {
      "text/plain": [
       "array([[-3.11677294e-01, -3.12396226e-01, -2.26969138e-01, ...,\n",
       "         6.30494650e+00,  3.66427659e+00, -3.14035142e-02],\n",
       "       [-3.11677294e-01, -3.12396226e-01, -2.26969138e-01, ...,\n",
       "         5.37184247e+00,  4.28651856e+00, -6.54088456e-02],\n",
       "       [ 8.00326264e+00,  8.00079509e+00,  8.94248640e+00, ...,\n",
       "         2.02470288e-01,  8.22186453e-02, -1.00673634e-01],\n",
       "       ...,\n",
       "       [ 8.48546883e-01,  8.47583958e-01,  2.06233485e-01, ...,\n",
       "        -2.06502086e-01, -2.39315740e-01, -1.04452004e-01],\n",
       "       [ 9.74359891e+00,  9.74076537e+00,  8.72588508e+00, ...,\n",
       "         1.92330477e-01,  1.06952060e-01, -1.00673634e-01],\n",
       "       [ 6.84303847e+00,  6.84081491e+00,  6.27107022e+00, ...,\n",
       "         7.74126195e-02,  1.42282533e-03, -1.00673634e-01]])"
      ]
     },
     "execution_count": 652,
     "metadata": {},
     "output_type": "execute_result"
    }
   ],
   "source": [
    "X_fss"
   ]
  },
  {
   "cell_type": "markdown",
   "metadata": {},
   "source": [
    "####  kernel principal component analysis (KPCA)"
   ]
  },
  {
   "cell_type": "code",
   "execution_count": 653,
   "metadata": {},
   "outputs": [],
   "source": [
    "from sklearn.decomposition import KernelPCA\n",
    "kpca = KernelPCA(n_components = 10, kernel = 'rbf')\n",
    "kpca.fit(X_fss, y)\n",
    "X_kpca = kpca.transform(X_fss)\n",
    "\n",
    "# from sklearn.decomposition import PCA\n",
    "# kpca = PCA(n_components = 10)\n",
    "# kpca.fit(X_fss, y)\n",
    "# X_kpca = kpca.transform(X_fss)"
   ]
  },
  {
   "cell_type": "markdown",
   "metadata": {},
   "source": [
    "### Train-test split after feature selection"
   ]
  },
  {
   "cell_type": "code",
   "execution_count": 654,
   "metadata": {
    "collapsed": true
   },
   "outputs": [],
   "source": [
    "X_train = X_kpca[:len(df1)]\n",
    "y_train = y[:len(df1)]\n",
    "X_test = X_kpca[len(df1):]\n",
    "y_test = y[len(df1):]"
   ]
  },
  {
   "cell_type": "markdown",
   "metadata": {},
   "source": [
    "### Solve class-imbalance by SMOTE"
   ]
  },
  {
   "cell_type": "code",
   "execution_count": 655,
   "metadata": {},
   "outputs": [
    {
     "data": {
      "text/plain": [
       "1    4312\n",
       "0     124\n",
       "Name: count, dtype: int64"
      ]
     },
     "execution_count": 655,
     "metadata": {},
     "output_type": "execute_result"
    }
   ],
   "source": [
    "pd.Series(y_train).value_counts()"
   ]
  },
  {
   "cell_type": "code",
   "execution_count": 656,
   "metadata": {},
   "outputs": [],
   "source": [
    "from imblearn.over_sampling import SMOTE\n",
    "smote=SMOTE(sampling_strategy={1:18225})\n",
    "X_train, y_train = smote.fit_resample(X_train, y_train)"
   ]
  },
  {
   "cell_type": "code",
   "execution_count": 657,
   "metadata": {},
   "outputs": [
    {
     "data": {
      "text/plain": [
       "1    18225\n",
       "0      124\n",
       "Name: count, dtype: int64"
      ]
     },
     "execution_count": 657,
     "metadata": {},
     "output_type": "execute_result"
    }
   ],
   "source": [
    "pd.Series(y_train).value_counts()"
   ]
  },
  {
   "cell_type": "code",
   "execution_count": 658,
   "metadata": {},
   "outputs": [
    {
     "data": {
      "text/plain": [
       "1    62\n",
       "0     9\n",
       "Name: count, dtype: int64"
      ]
     },
     "execution_count": 658,
     "metadata": {},
     "output_type": "execute_result"
    }
   ],
   "source": [
    "pd.Series(y_test).value_counts()"
   ]
  },
  {
   "cell_type": "markdown",
   "metadata": {},
   "source": [
    "### Apply the cluster labeling (CL) k-means method"
   ]
  },
  {
   "cell_type": "code",
   "execution_count": 659,
   "metadata": {
    "collapsed": true
   },
   "outputs": [],
   "source": [
    "from sklearn.cluster import KMeans\n",
    "from sklearn.cluster import DBSCAN,MeanShift\n",
    "from sklearn.cluster import SpectralClustering,AgglomerativeClustering,AffinityPropagation,Birch,MiniBatchKMeans,MeanShift \n",
    "from sklearn.mixture import GaussianMixture, BayesianGaussianMixture\n",
    "from sklearn.metrics import classification_report\n",
    "from sklearn import metrics"
   ]
  },
  {
   "cell_type": "code",
   "execution_count": 660,
   "metadata": {
    "collapsed": true
   },
   "outputs": [],
   "source": [
    "def CL_kmeans(X_train, X_test, y_train, y_test,n,b=100):\n",
    "    km_cluster = MiniBatchKMeans(n_clusters=n,batch_size=b)\n",
    "    result = km_cluster.fit_predict(X_train)\n",
    "    result2 = km_cluster.predict(X_test)\n",
    "\n",
    "    count=0\n",
    "    a=np.zeros(n)\n",
    "    b=np.zeros(n)\n",
    "    for v in range(0,n):\n",
    "        for i in range(0,len(y_train)):\n",
    "            if result[i]==v:\n",
    "                if y_train[i]==1:\n",
    "                    a[v]=a[v]+1\n",
    "                else:\n",
    "                    b[v]=b[v]+1\n",
    "    list1=[]\n",
    "    list2=[]\n",
    "    for v in range(0,n):\n",
    "        if a[v]<=b[v]:\n",
    "            list1.append(v)\n",
    "        else: \n",
    "            list2.append(v)\n",
    "    for v in range(0,len(y_test)):\n",
    "        if result2[v] in list1:\n",
    "            result2[v]=0\n",
    "        elif result2[v] in list2:\n",
    "            result2[v]=1\n",
    "        else:\n",
    "            print(\"-1\")\n",
    "    print(classification_report(y_test, result2))\n",
    "    cm=confusion_matrix(y_test,result2)\n",
    "    acc=metrics.accuracy_score(y_test,result2)\n",
    "    print(str(acc))\n",
    "    print(cm)"
   ]
  },
  {
   "cell_type": "code",
   "execution_count": 661,
   "metadata": {},
   "outputs": [
    {
     "name": "stdout",
     "output_type": "stream",
     "text": [
      "              precision    recall  f1-score   support\n",
      "\n",
      "           0       0.00      0.00      0.00         9\n",
      "           1       0.87      1.00      0.93        62\n",
      "\n",
      "    accuracy                           0.87        71\n",
      "   macro avg       0.44      0.50      0.47        71\n",
      "weighted avg       0.76      0.87      0.81        71\n",
      "\n",
      "0.8732394366197183\n",
      "[[ 0  9]\n",
      " [ 0 62]]\n"
     ]
    }
   ],
   "source": [
    "CL_kmeans(X_train, X_test, y_train, y_test, 8)"
   ]
  },
  {
   "cell_type": "markdown",
   "metadata": {},
   "source": [
    "### Hyperparameter optimization of CL-k-means\n",
    "Tune \"k\""
   ]
  },
  {
   "cell_type": "code",
   "execution_count": 662,
   "metadata": {
    "scrolled": true
   },
   "outputs": [
    {
     "ename": "ModuleNotFoundError",
     "evalue": "No module named 'skopt'",
     "output_type": "error",
     "traceback": [
      "\u001b[0;31m---------------------------------------------------------------------------\u001b[0m",
      "\u001b[0;31mModuleNotFoundError\u001b[0m                       Traceback (most recent call last)",
      "Cell \u001b[0;32mIn[662], line 2\u001b[0m\n\u001b[1;32m      1\u001b[0m \u001b[38;5;66;03m#Hyperparameter optimization by BO-GP\u001b[39;00m\n\u001b[0;32m----> 2\u001b[0m \u001b[38;5;28;01mfrom\u001b[39;00m \u001b[38;5;21;01mskopt\u001b[39;00m\u001b[38;5;21;01m.\u001b[39;00m\u001b[38;5;21;01mspace\u001b[39;00m \u001b[38;5;28;01mimport\u001b[39;00m Real, Integer\n\u001b[1;32m      3\u001b[0m \u001b[38;5;28;01mfrom\u001b[39;00m \u001b[38;5;21;01mskopt\u001b[39;00m\u001b[38;5;21;01m.\u001b[39;00m\u001b[38;5;21;01mutils\u001b[39;00m \u001b[38;5;28;01mimport\u001b[39;00m use_named_args\n\u001b[1;32m      4\u001b[0m \u001b[38;5;28;01mfrom\u001b[39;00m \u001b[38;5;21;01msklearn\u001b[39;00m \u001b[38;5;28;01mimport\u001b[39;00m metrics\n",
      "\u001b[0;31mModuleNotFoundError\u001b[0m: No module named 'skopt'"
     ]
    }
   ],
   "source": [
    "#Hyperparameter optimization by BO-GP\n",
    "from skopt.space import Real, Integer\n",
    "from skopt.utils import use_named_args\n",
    "from sklearn import metrics\n",
    "\n",
    "space  = [Integer(2, 50, name='n_clusters')]\n",
    "@use_named_args(space)\n",
    "def objective(**params):\n",
    "    km_cluster = MiniBatchKMeans(batch_size=100, **params)\n",
    "    n=params['n_clusters']\n",
    "    \n",
    "    result = km_cluster.fit_predict(X_train)\n",
    "    result2 = km_cluster.predict(X_test)\n",
    "\n",
    "    count=0\n",
    "    a=np.zeros(n)\n",
    "    b=np.zeros(n)\n",
    "    for v in range(0,n):\n",
    "        for i in range(0,len(y_train)):\n",
    "            if result[i]==v:\n",
    "                if y_train[i]==1:\n",
    "                    a[v]=a[v]+1\n",
    "                else:\n",
    "                    b[v]=b[v]+1\n",
    "    list1=[]\n",
    "    list2=[]\n",
    "    for v in range(0,n):\n",
    "        if a[v]<=b[v]:\n",
    "            list1.append(v)\n",
    "        else: \n",
    "            list2.append(v)\n",
    "    for v in range(0,len(y_test)):\n",
    "        if result2[v] in list1:\n",
    "            result2[v]=0\n",
    "        elif result2[v] in list2:\n",
    "            result2[v]=1\n",
    "        else:\n",
    "            print(\"-1\")\n",
    "    cm=metrics.accuracy_score(y_test,result2)\n",
    "    print(str(n)+\" \"+str(cm))\n",
    "    return (1-cm)\n",
    "from skopt import gp_minimize\n",
    "import time\n",
    "t1=time.time()\n",
    "res_gp = gp_minimize(objective, space, n_calls=20, random_state=0)\n",
    "t2=time.time()\n",
    "print(t2-t1)\n",
    "print(\"Best score=%.4f\" % (1-res_gp.fun))\n",
    "print(\"\"\"Best parameters: n_clusters=%d\"\"\" % (res_gp.x[0]))"
   ]
  },
  {
   "cell_type": "code",
   "execution_count": null,
   "metadata": {},
   "outputs": [
    {
     "name": "stdout",
     "output_type": "stream",
     "text": [
      "43 0.9722222222222222                                 \n",
      "4 0.8888888888888888                                                             \n",
      "21 0.5277777777777778                                                            \n",
      "18 0.8888888888888888                                                            \n",
      "31 0.8888888888888888                                                            \n",
      "38 0.9722222222222222                                                            \n",
      "35 0.5277777777777778                                                            \n",
      "30 0.8888888888888888                                                            \n",
      "16 0.8888888888888888                                                            \n",
      "9 0.8888888888888888                                                             \n",
      "17 0.4583333333333333                                                             \n",
      "8 0.8888888888888888                                                              \n",
      "10 0.4583333333333333                                                             \n",
      "11 0.8888888888888888                                                             \n",
      "24 0.8888888888888888                                                             \n",
      "11 0.4583333333333333                                                             \n",
      "45 0.9583333333333334                                                             \n",
      "30 0.4583333333333333                                                             \n",
      "46 0.9722222222222222                                                             \n",
      "10 0.8888888888888888                                                             \n",
      "100%|██████████| 20/20 [00:08<00:00,  2.28trial/s, best loss: 0.02777777777777779]\n",
      "Random Forest: Hyperopt estimated optimum {'n_clusters': 43.0}\n"
     ]
    }
   ],
   "source": [
    "#Hyperparameter optimization by BO-TPE\n",
    "from hyperopt import hp, fmin, tpe, STATUS_OK, Trials\n",
    "from sklearn.model_selection import cross_val_score, StratifiedKFold\n",
    "from sklearn.cluster import MiniBatchKMeans\n",
    "from sklearn import metrics\n",
    "\n",
    "def objective(params):\n",
    "    params = {\n",
    "        'n_clusters': int(params['n_clusters']), \n",
    "    }\n",
    "    km_cluster = MiniBatchKMeans(batch_size=100, **params)\n",
    "    n=params['n_clusters']\n",
    "    \n",
    "    result = km_cluster.fit_predict(X_train)\n",
    "    result2 = km_cluster.predict(X_test)\n",
    "\n",
    "    count=0\n",
    "    a=np.zeros(n)\n",
    "    b=np.zeros(n)\n",
    "    for v in range(0,n):\n",
    "        for i in range(0,len(y_train)):\n",
    "            if result[i]==v:\n",
    "                if y_train[i]==1:\n",
    "                    a[v]=a[v]+1\n",
    "                else:\n",
    "                    b[v]=b[v]+1\n",
    "    list1=[]\n",
    "    list2=[]\n",
    "    for v in range(0,n):\n",
    "        if a[v]<=b[v]:\n",
    "            list1.append(v)\n",
    "        else: \n",
    "            list2.append(v)\n",
    "    for v in range(0,len(y_test)):\n",
    "        if result2[v] in list1:\n",
    "            result2[v]=0\n",
    "        elif result2[v] in list2:\n",
    "            result2[v]=1\n",
    "        else:\n",
    "            print(\"-1\")\n",
    "    score=metrics.accuracy_score(y_test,result2)\n",
    "    print(str(params['n_clusters'])+\" \"+str(score))\n",
    "    return {'loss':1-score, 'status': STATUS_OK }\n",
    "space = {\n",
    "    'n_clusters': hp.quniform('n_clusters', 2, 50, 1),\n",
    "}\n",
    "\n",
    "best = fmin(fn=objective,\n",
    "            space=space,\n",
    "            algo=tpe.suggest,\n",
    "            max_evals=20)\n",
    "print(\"Random Forest: Hyperopt estimated optimum {}\".format(best))"
   ]
  },
  {
   "cell_type": "code",
   "execution_count": null,
   "metadata": {},
   "outputs": [],
   "source": [
    "CL_kmeans(X_train, X_test, y_train, y_test, 16)"
   ]
  },
  {
   "cell_type": "markdown",
   "metadata": {},
   "source": [
    "### Apply the CL-k-means model with biased classifiers"
   ]
  },
  {
   "cell_type": "code",
   "execution_count": null,
   "metadata": {
    "collapsed": true
   },
   "outputs": [],
   "source": [
    "# Only a sample code to show the logic. It needs to work on the entire dataset to generate sufficient training samples for biased classifiers\n",
    "def Anomaly_IDS(X_train, X_test, y_train, y_test,n,b=100):\n",
    "    # CL-kmeans\n",
    "    km_cluster = MiniBatchKMeans(n_clusters=n,batch_size=b)\n",
    "    result = km_cluster.fit_predict(X_train)\n",
    "    result2 = km_cluster.predict(X_test)\n",
    "\n",
    "    count=0\n",
    "    a=np.zeros(n)\n",
    "    b=np.zeros(n)\n",
    "    for v in range(0,n):\n",
    "        for i in range(0,len(y_train)):\n",
    "            if result[i]==v:\n",
    "                if y_train[i]==1:\n",
    "                    a[v]=a[v]+1\n",
    "                else:\n",
    "                    b[v]=b[v]+1\n",
    "    list1=[]\n",
    "    list2=[]\n",
    "    for v in range(0,n):\n",
    "        if a[v]<=b[v]:\n",
    "            list1.append(v)\n",
    "        else: \n",
    "            list2.append(v)\n",
    "    for v in range(0,len(y_test)):\n",
    "        if result2[v] in list1:\n",
    "            result2[v]=0\n",
    "        elif result2[v] in list2:\n",
    "            result2[v]=1\n",
    "        else:\n",
    "            print(\"-1\")\n",
    "    print(classification_report(y_test, result2))\n",
    "    cm=confusion_matrix(y_test,result2)\n",
    "    acc=metrics.accuracy_score(y2,result2)\n",
    "    print(str(acc))\n",
    "    print(cm)\n",
    "    \n",
    "    #Biased classifier construction\n",
    "    count=0\n",
    "    print(len(y))\n",
    "    a=np.zeros(n)\n",
    "    b=np.zeros(n)\n",
    "    FNL=[]\n",
    "    FPL=[]\n",
    "    for v in range(0,n):\n",
    "        al=[]\n",
    "        bl=[]\n",
    "        for i in range(0,len(y)):   \n",
    "            if result[i]==v:        \n",
    "                if y[i]==1:        #label 1\n",
    "                    a[v]=a[v]+1\n",
    "                    al.append(i)\n",
    "                else:             #label 0\n",
    "                    b[v]=b[v]+1\n",
    "                    bl.append(i)\n",
    "        if a[v]<=b[v]:\n",
    "            FNL.extend(al)\n",
    "        else:\n",
    "            FPL.extend(bl)\n",
    "        #print(str(v)+\"=\"+str(a[v]/(a[v]+b[v])))\n",
    "        \n",
    "    dffp=df.iloc[FPL, :]\n",
    "    dffn=df.iloc[FNL, :]\n",
    "    dfva0=df[df['Label']==0]\n",
    "    dfva1=df[df['Label']==1]\n",
    "    \n",
    "    dffpp=dfva1.sample(n=None, frac=len(FPL)/dfva1.shape[0], replace=False, weights=None, random_state=None, axis=0)\n",
    "    dffnp=dfva0.sample(n=None, frac=len(FNL)/dfva0.shape[0], replace=False, weights=None, random_state=None, axis=0)\n",
    "    \n",
    "    dffp_f=pd.concat([dffp, dffpp])\n",
    "    dffn_f=pd.concat([dffn, dffnp])\n",
    "    \n",
    "    Xp = dffp_f.drop(['Label'],axis=1)  \n",
    "    yp = dffp_f.iloc[:, -1].values.reshape(-1,1)\n",
    "    yp=np.ravel(yp)\n",
    "\n",
    "    Xn = dffn_f.drop(['Label'],axis=1)  \n",
    "    yn = dffn_f.iloc[:, -1].values.reshape(-1,1)\n",
    "    yn=np.ravel(yn)\n",
    "    \n",
    "    rfp = RandomForestClassifier(random_state = 0)\n",
    "    rfp.fit(Xp,yp)\n",
    "    rfn = RandomForestClassifier(random_state = 0)\n",
    "    rfn.fit(Xn,yn)\n",
    "\n",
    "    dffnn_f=pd.concat([dffn, dffnp])\n",
    "    \n",
    "    Xnn = dffn_f.drop(['Label'],axis=1)  \n",
    "    ynn = dffn_f.iloc[:, -1].values.reshape(-1,1)\n",
    "    ynn=np.ravel(ynn)\n",
    "\n",
    "    rfnn = RandomForestClassifier(random_state = 0)\n",
    "    rfnn.fit(Xnn,ynn)\n",
    "\n",
    "    X2p = df2.drop(['Label'],axis=1) \n",
    "    y2p = df2.iloc[:, -1].values.reshape(-1,1)\n",
    "    y2p=np.ravel(y2p)\n",
    "\n",
    "    result2 = km_cluster.predict(X2p)\n",
    "\n",
    "    count=0\n",
    "    a=np.zeros(n)\n",
    "    b=np.zeros(n)\n",
    "    for v in range(0,n):\n",
    "        for i in range(0,len(y)):\n",
    "            if result[i]==v:\n",
    "                if y[i]==1:\n",
    "                    a[v]=a[v]+1\n",
    "                else:\n",
    "                    b[v]=b[v]+1\n",
    "    list1=[]\n",
    "    list2=[]\n",
    "    l1=[]\n",
    "    l0=[]\n",
    "    for v in range(0,n):\n",
    "        if a[v]<=b[v]:\n",
    "            list1.append(v)\n",
    "        else: \n",
    "            list2.append(v)\n",
    "    for v in range(0,len(y2p)):\n",
    "        if result2[v] in list1:\n",
    "            result2[v]=0\n",
    "            l0.append(v)\n",
    "        elif result2[v] in list2:\n",
    "            result2[v]=1\n",
    "            l1.append(v)\n",
    "        else:\n",
    "            print(\"-1\")\n",
    "    print(classification_report(y2p, result2))\n",
    "    cm=confusion_matrix(y2p,result2)\n",
    "    print(cm)"
   ]
  },
  {
   "cell_type": "markdown",
   "metadata": {},
   "source": [
    "95% of the code has been shared, and the remaining 5% is retained for future extension.  \n",
    "Thank you for your interest and more details are in the paper."
   ]
  }
 ],
 "metadata": {
  "anaconda-cloud": {},
  "kernelspec": {
   "display_name": "base",
   "language": "python",
   "name": "python3"
  },
  "language_info": {
   "codemirror_mode": {
    "name": "ipython",
    "version": 3
   },
   "file_extension": ".py",
   "mimetype": "text/x-python",
   "name": "python",
   "nbconvert_exporter": "python",
   "pygments_lexer": "ipython3",
   "version": "3.12.2"
  }
 },
 "nbformat": 4,
 "nbformat_minor": 2
}
